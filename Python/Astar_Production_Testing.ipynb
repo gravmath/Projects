{
 "cells": [
  {
   "cell_type": "code",
   "execution_count": 2,
   "metadata": {},
   "outputs": [],
   "source": [
    "import sys\n",
    "sys.path.append('c:/Users/Conrad/Documents/GitHub/Projects/Python/')\n",
    "from Astar import *"
   ]
  },
  {
   "cell_type": "code",
   "execution_count": 7,
   "metadata": {},
   "outputs": [],
   "source": [
    "world1 = { 'walls'     : [(5,2),(2,3),(3,3),(4,3),(5,3),(10,3),(11,3),(6,4),(8,4),(9,4),(10,4),(7,5),(8,5)],\n",
    "           'mountains' : [],\n",
    "           'desert'    : [],\n",
    "           'water'     : [],\n",
    "           'forest'    : [],\n",
    "           'num_x'     : 11,\n",
    "           'num_y'     : 6,\n",
    "           'metric'    : grid_dist_traditional}\n",
    "\n",
    "world2 = { 'walls'     : [],\n",
    "           'mountains' : [(6,5),(5,4),(6,4),(7,4),(6,3),(7,2),(8,3),(9,2)],\n",
    "           'desert'    : [(7,3),(6,2),(8,2),(7,1),(8,1),(9,1),(10,1)],\n",
    "           'water'     : [(4,4),(3,3),(4,3),(3,2),(2,1)],\n",
    "           'forest'    : [(1,6),(2,6),(3,6),(4,6),(2,5),(3,5),(4,5),(5,5),(1,4)],\n",
    "           'num_x'     : 11,\n",
    "           'num_y'     : 6,\n",
    "           'metric'    : grid_dist_traditional}\n",
    "\n",
    "\n",
    "snake       = (4,2)\n",
    "man         = (11,4)\n",
    "wayfarer    = (4,2)\n",
    "city        = (9,6)\n",
    "open_list   = []\n",
    "closed_list = []\n",
    "path        = []\n",
    "\n",
    "world = world1\n",
    "targ  = man\n",
    "start = snake"
   ]
  },
  {
   "cell_type": "code",
   "execution_count": 8,
   "metadata": {},
   "outputs": [],
   "source": [
    "grid = initialize_grid(world,targ)\n",
    "grid[grid_index(snake,world['num_y'])]['parent'] = 'self'\n",
    "open_list.append(grid[grid_index(start,world['num_y'])])"
   ]
  },
  {
   "cell_type": "code",
   "execution_count": 5,
   "metadata": {
    "scrolled": false
   },
   "outputs": [],
   "source": [
    "open_list  = sorted(open_list,key=lambda k : k['cost'])\n",
    "curr_spot  = open_list.pop(0)\n",
    "while curr_spot['loc'] != targ:\n",
    "    explore_a_spot(curr_spot['loc'],grid,open_list,closed_list,world)\n",
    "    open_list  = sorted(open_list,key=lambda k : k['cost'])\n",
    "    curr_spot  = open_list.pop(0)\n",
    "closed_list.append(curr_spot)    \n",
    "my_path = construct_path(closed_list,start,targ)"
   ]
  },
  {
   "cell_type": "code",
   "execution_count": 6,
   "metadata": {},
   "outputs": [
    {
     "data": {
      "text/plain": [
       "['self',\n",
       " (4, 2),\n",
       " (5, 1),\n",
       " (6, 1),\n",
       " (7, 1),\n",
       " (8, 1),\n",
       " (9, 2),\n",
       " (8, 3),\n",
       " (7, 4),\n",
       " (6, 5),\n",
       " (7, 6),\n",
       " (8, 6),\n",
       " (9, 5),\n",
       " (10, 5),\n",
       " (11, 4)]"
      ]
     },
     "execution_count": 6,
     "metadata": {},
     "output_type": "execute_result"
    }
   ],
   "source": [
    "my_path"
   ]
  },
  {
   "cell_type": "code",
   "execution_count": 9,
   "metadata": {},
   "outputs": [
    {
     "name": "stdout",
     "output_type": "stream",
     "text": [
      "(4, 2) 8 False\n",
      "[{'loc': (4, 2), 'cost': 8, 'terrain': 1, 'parent': 'self'}]\n"
     ]
    },
    {
     "data": {
      "text/plain": [
       "[{'cost': 9, 'loc': (3, 1), 'parent': (4, 2), 'terrain': 1},\n",
       " {'cost': 9, 'loc': (3, 2), 'parent': (4, 2), 'terrain': 1},\n",
       " {'cost': 8, 'loc': (4, 1), 'parent': (4, 2), 'terrain': 1},\n",
       " {'cost': 7, 'loc': (5, 1), 'parent': (4, 2), 'terrain': 1}]"
      ]
     },
     "execution_count": 9,
     "metadata": {},
     "output_type": "execute_result"
    }
   ],
   "source": [
    "open_list  = sorted(open_list,key=lambda k : k['cost'])\n",
    "curr_spot  = open_list.pop(0)\n",
    "print curr_spot['loc'], curr_spot['cost'],curr_spot['loc'] == targ\n",
    "explore_a_spot(curr_spot['loc'],grid,open_list,closed_list,world)\n",
    "print closed_list\n",
    "open_list"
   ]
  },
  {
   "cell_type": "code",
   "execution_count": 10,
   "metadata": {},
   "outputs": [
    {
     "name": "stdout",
     "output_type": "stream",
     "text": [
      "(5, 1) 7 False\n",
      "[{'loc': (4, 2), 'cost': 8, 'terrain': 1, 'parent': 'self'}, {'loc': (5, 1), 'cost': 7, 'terrain': 1, 'parent': (4, 2)}]\n"
     ]
    },
    {
     "data": {
      "text/plain": [
       "[{'cost': 8, 'loc': (4, 1), 'parent': (4, 2), 'terrain': 1},\n",
       " {'cost': 9, 'loc': (3, 1), 'parent': (4, 2), 'terrain': 1},\n",
       " {'cost': 9, 'loc': (3, 2), 'parent': (4, 2), 'terrain': 1},\n",
       " {'cost': 6, 'loc': (6, 1), 'parent': (5, 1), 'terrain': 1},\n",
       " {'cost': 6, 'loc': (6, 2), 'parent': (5, 1), 'terrain': 1}]"
      ]
     },
     "execution_count": 10,
     "metadata": {},
     "output_type": "execute_result"
    }
   ],
   "source": [
    "open_list  = sorted(open_list,key=lambda k : k['cost'])\n",
    "curr_spot  = open_list.pop(0)\n",
    "print curr_spot['loc'], curr_spot['cost'],curr_spot['loc'] == targ\n",
    "explore_a_spot(curr_spot['loc'],grid,open_list,closed_list,world)\n",
    "print closed_list\n",
    "open_list"
   ]
  },
  {
   "cell_type": "code",
   "execution_count": 11,
   "metadata": {},
   "outputs": [
    {
     "name": "stdout",
     "output_type": "stream",
     "text": [
      "(6, 1) 6 False\n",
      "[{'loc': (4, 2), 'cost': 8, 'terrain': 1, 'parent': 'self'}, {'loc': (5, 1), 'cost': 7, 'terrain': 1, 'parent': (4, 2)}, {'loc': (6, 1), 'cost': 6, 'terrain': 1, 'parent': (5, 1)}]\n"
     ]
    },
    {
     "data": {
      "text/plain": [
       "[{'cost': 6, 'loc': (6, 2), 'parent': (5, 1), 'terrain': 1},\n",
       " {'cost': 8, 'loc': (4, 1), 'parent': (4, 2), 'terrain': 1},\n",
       " {'cost': 9, 'loc': (3, 1), 'parent': (4, 2), 'terrain': 1},\n",
       " {'cost': 9, 'loc': (3, 2), 'parent': (4, 2), 'terrain': 1},\n",
       " {'cost': 5, 'loc': (7, 1), 'parent': (6, 1), 'terrain': 1},\n",
       " {'cost': 5, 'loc': (7, 2), 'parent': (6, 1), 'terrain': 1}]"
      ]
     },
     "execution_count": 11,
     "metadata": {},
     "output_type": "execute_result"
    }
   ],
   "source": [
    "open_list  = sorted(open_list,key=lambda k : k['cost'])\n",
    "curr_spot  = open_list.pop(0)\n",
    "print curr_spot['loc'], curr_spot['cost'],curr_spot['loc'] == targ\n",
    "explore_a_spot(curr_spot['loc'],grid,open_list,closed_list,world)\n",
    "print closed_list\n",
    "open_list"
   ]
  },
  {
   "cell_type": "code",
   "execution_count": 12,
   "metadata": {},
   "outputs": [
    {
     "name": "stdout",
     "output_type": "stream",
     "text": [
      "(7, 1) 5 False\n",
      "[{'loc': (4, 2), 'cost': 8, 'terrain': 1, 'parent': 'self'}, {'loc': (5, 1), 'cost': 7, 'terrain': 1, 'parent': (4, 2)}, {'loc': (6, 1), 'cost': 6, 'terrain': 1, 'parent': (5, 1)}, {'loc': (7, 1), 'cost': 5, 'terrain': 1, 'parent': (6, 1)}]\n"
     ]
    },
    {
     "data": {
      "text/plain": [
       "[{'cost': 5, 'loc': (7, 2), 'parent': (6, 1), 'terrain': 1},\n",
       " {'cost': 6, 'loc': (6, 2), 'parent': (5, 1), 'terrain': 1},\n",
       " {'cost': 8, 'loc': (4, 1), 'parent': (4, 2), 'terrain': 1},\n",
       " {'cost': 9, 'loc': (3, 1), 'parent': (4, 2), 'terrain': 1},\n",
       " {'cost': 9, 'loc': (3, 2), 'parent': (4, 2), 'terrain': 1},\n",
       " {'cost': 4, 'loc': (8, 1), 'parent': (7, 1), 'terrain': 1},\n",
       " {'cost': 4, 'loc': (8, 2), 'parent': (7, 1), 'terrain': 1}]"
      ]
     },
     "execution_count": 12,
     "metadata": {},
     "output_type": "execute_result"
    }
   ],
   "source": [
    "open_list  = sorted(open_list,key=lambda k : k['cost'])\n",
    "curr_spot  = open_list.pop(0)\n",
    "print curr_spot['loc'], curr_spot['cost'],curr_spot['loc'] == targ\n",
    "explore_a_spot(curr_spot['loc'],grid,open_list,closed_list,world)\n",
    "print closed_list\n",
    "open_list"
   ]
  },
  {
   "cell_type": "code",
   "execution_count": 13,
   "metadata": {},
   "outputs": [
    {
     "name": "stdout",
     "output_type": "stream",
     "text": [
      "(8, 1) 4 False\n",
      "[{'loc': (4, 2), 'cost': 8, 'terrain': 1, 'parent': 'self'}, {'loc': (5, 1), 'cost': 7, 'terrain': 1, 'parent': (4, 2)}, {'loc': (6, 1), 'cost': 6, 'terrain': 1, 'parent': (5, 1)}, {'loc': (7, 1), 'cost': 5, 'terrain': 1, 'parent': (6, 1)}, {'loc': (8, 1), 'cost': 4, 'terrain': 1, 'parent': (7, 1)}]\n"
     ]
    },
    {
     "data": {
      "text/plain": [
       "[{'cost': 4, 'loc': (8, 2), 'parent': (7, 1), 'terrain': 1},\n",
       " {'cost': 5, 'loc': (7, 2), 'parent': (6, 1), 'terrain': 1},\n",
       " {'cost': 6, 'loc': (6, 2), 'parent': (5, 1), 'terrain': 1},\n",
       " {'cost': 8, 'loc': (4, 1), 'parent': (4, 2), 'terrain': 1},\n",
       " {'cost': 9, 'loc': (3, 1), 'parent': (4, 2), 'terrain': 1},\n",
       " {'cost': 9, 'loc': (3, 2), 'parent': (4, 2), 'terrain': 1},\n",
       " {'cost': 4, 'loc': (9, 1), 'parent': (8, 1), 'terrain': 1},\n",
       " {'cost': 3, 'loc': (9, 2), 'parent': (8, 1), 'terrain': 1}]"
      ]
     },
     "execution_count": 13,
     "metadata": {},
     "output_type": "execute_result"
    }
   ],
   "source": [
    "open_list  = sorted(open_list,key=lambda k : k['cost'])\n",
    "curr_spot  = open_list.pop(0)\n",
    "print curr_spot['loc'], curr_spot['cost'],curr_spot['loc'] == targ\n",
    "explore_a_spot(curr_spot['loc'],grid,open_list,closed_list,world)\n",
    "print closed_list\n",
    "open_list"
   ]
  },
  {
   "cell_type": "code",
   "execution_count": 14,
   "metadata": {},
   "outputs": [
    {
     "name": "stdout",
     "output_type": "stream",
     "text": [
      "(9, 2) 3 False\n",
      "[{'loc': (4, 2), 'cost': 8, 'terrain': 1, 'parent': 'self'}, {'loc': (5, 1), 'cost': 7, 'terrain': 1, 'parent': (4, 2)}, {'loc': (6, 1), 'cost': 6, 'terrain': 1, 'parent': (5, 1)}, {'loc': (7, 1), 'cost': 5, 'terrain': 1, 'parent': (6, 1)}, {'loc': (8, 1), 'cost': 4, 'terrain': 1, 'parent': (7, 1)}, {'loc': (9, 2), 'cost': 3, 'terrain': 1, 'parent': (8, 1)}]\n"
     ]
    },
    {
     "data": {
      "text/plain": [
       "[{'cost': 4, 'loc': (8, 2), 'parent': (7, 1), 'terrain': 1},\n",
       " {'cost': 4, 'loc': (9, 1), 'parent': (8, 1), 'terrain': 1},\n",
       " {'cost': 5, 'loc': (7, 2), 'parent': (6, 1), 'terrain': 1},\n",
       " {'cost': 6, 'loc': (6, 2), 'parent': (5, 1), 'terrain': 1},\n",
       " {'cost': 8, 'loc': (4, 1), 'parent': (4, 2), 'terrain': 1},\n",
       " {'cost': 9, 'loc': (3, 1), 'parent': (4, 2), 'terrain': 1},\n",
       " {'cost': 9, 'loc': (3, 2), 'parent': (4, 2), 'terrain': 1},\n",
       " {'cost': 4, 'loc': (8, 3), 'parent': (9, 2), 'terrain': 1},\n",
       " {'cost': 3, 'loc': (9, 3), 'parent': (9, 2), 'terrain': 1},\n",
       " {'cost': 4, 'loc': (10, 1), 'parent': (9, 2), 'terrain': 1},\n",
       " {'cost': 3, 'loc': (10, 2), 'parent': (9, 2), 'terrain': 1}]"
      ]
     },
     "execution_count": 14,
     "metadata": {},
     "output_type": "execute_result"
    }
   ],
   "source": [
    "open_list  = sorted(open_list,key=lambda k : k['cost'])\n",
    "curr_spot  = open_list.pop(0)\n",
    "print curr_spot['loc'], curr_spot['cost'],curr_spot['loc'] == targ\n",
    "explore_a_spot(curr_spot['loc'],grid,open_list,closed_list,world)\n",
    "print closed_list\n",
    "open_list"
   ]
  },
  {
   "cell_type": "code",
   "execution_count": 15,
   "metadata": {},
   "outputs": [
    {
     "name": "stdout",
     "output_type": "stream",
     "text": [
      "(9, 3) 3 False\n",
      "[{'loc': (4, 2), 'cost': 8, 'terrain': 1, 'parent': 'self'}, {'loc': (5, 1), 'cost': 7, 'terrain': 1, 'parent': (4, 2)}, {'loc': (6, 1), 'cost': 6, 'terrain': 1, 'parent': (5, 1)}, {'loc': (7, 1), 'cost': 5, 'terrain': 1, 'parent': (6, 1)}, {'loc': (8, 1), 'cost': 4, 'terrain': 1, 'parent': (7, 1)}, {'loc': (9, 2), 'cost': 3, 'terrain': 1, 'parent': (8, 1)}, {'loc': (9, 3), 'cost': 3, 'terrain': 1, 'parent': (9, 2)}]\n"
     ]
    },
    {
     "data": {
      "text/plain": [
       "[{'cost': 3, 'loc': (10, 2), 'parent': (9, 2), 'terrain': 1},\n",
       " {'cost': 4, 'loc': (8, 2), 'parent': (7, 1), 'terrain': 1},\n",
       " {'cost': 4, 'loc': (9, 1), 'parent': (8, 1), 'terrain': 1},\n",
       " {'cost': 4, 'loc': (8, 3), 'parent': (9, 2), 'terrain': 1},\n",
       " {'cost': 4, 'loc': (10, 1), 'parent': (9, 2), 'terrain': 1},\n",
       " {'cost': 5, 'loc': (7, 2), 'parent': (6, 1), 'terrain': 1},\n",
       " {'cost': 6, 'loc': (6, 2), 'parent': (5, 1), 'terrain': 1},\n",
       " {'cost': 8, 'loc': (4, 1), 'parent': (4, 2), 'terrain': 1},\n",
       " {'cost': 9, 'loc': (3, 1), 'parent': (4, 2), 'terrain': 1},\n",
       " {'cost': 9, 'loc': (3, 2), 'parent': (4, 2), 'terrain': 1}]"
      ]
     },
     "execution_count": 15,
     "metadata": {},
     "output_type": "execute_result"
    }
   ],
   "source": [
    "open_list  = sorted(open_list,key=lambda k : k['cost'])\n",
    "curr_spot  = open_list.pop(0)\n",
    "print curr_spot['loc'], curr_spot['cost'],curr_spot['loc'] == targ\n",
    "explore_a_spot(curr_spot['loc'],grid,open_list,closed_list,world)\n",
    "print closed_list\n",
    "open_list"
   ]
  },
  {
   "cell_type": "code",
   "execution_count": 16,
   "metadata": {},
   "outputs": [
    {
     "name": "stdout",
     "output_type": "stream",
     "text": [
      "(10, 2) 3 False\n",
      "[{'loc': (4, 2), 'cost': 8, 'terrain': 1, 'parent': 'self'}, {'loc': (5, 1), 'cost': 7, 'terrain': 1, 'parent': (4, 2)}, {'loc': (6, 1), 'cost': 6, 'terrain': 1, 'parent': (5, 1)}, {'loc': (7, 1), 'cost': 5, 'terrain': 1, 'parent': (6, 1)}, {'loc': (8, 1), 'cost': 4, 'terrain': 1, 'parent': (7, 1)}, {'loc': (9, 2), 'cost': 3, 'terrain': 1, 'parent': (8, 1)}, {'loc': (9, 3), 'cost': 3, 'terrain': 1, 'parent': (9, 2)}, {'loc': (10, 2), 'cost': 3, 'terrain': 1, 'parent': (9, 2)}]\n"
     ]
    },
    {
     "data": {
      "text/plain": [
       "[{'cost': 4, 'loc': (8, 2), 'parent': (7, 1), 'terrain': 1},\n",
       " {'cost': 4, 'loc': (9, 1), 'parent': (8, 1), 'terrain': 1},\n",
       " {'cost': 4, 'loc': (8, 3), 'parent': (9, 2), 'terrain': 1},\n",
       " {'cost': 4, 'loc': (10, 1), 'parent': (9, 2), 'terrain': 1},\n",
       " {'cost': 5, 'loc': (7, 2), 'parent': (6, 1), 'terrain': 1},\n",
       " {'cost': 6, 'loc': (6, 2), 'parent': (5, 1), 'terrain': 1},\n",
       " {'cost': 8, 'loc': (4, 1), 'parent': (4, 2), 'terrain': 1},\n",
       " {'cost': 9, 'loc': (3, 1), 'parent': (4, 2), 'terrain': 1},\n",
       " {'cost': 9, 'loc': (3, 2), 'parent': (4, 2), 'terrain': 1},\n",
       " {'cost': 4, 'loc': (11, 1), 'parent': (10, 2), 'terrain': 1},\n",
       " {'cost': 3, 'loc': (11, 2), 'parent': (10, 2), 'terrain': 1}]"
      ]
     },
     "execution_count": 16,
     "metadata": {},
     "output_type": "execute_result"
    }
   ],
   "source": [
    "open_list  = sorted(open_list,key=lambda k : k['cost'])\n",
    "curr_spot  = open_list.pop(0)\n",
    "print curr_spot['loc'], curr_spot['cost'],curr_spot['loc'] == targ\n",
    "explore_a_spot(curr_spot['loc'],grid,open_list,closed_list,world)\n",
    "print closed_list\n",
    "open_list"
   ]
  },
  {
   "cell_type": "code",
   "execution_count": 17,
   "metadata": {},
   "outputs": [
    {
     "name": "stdout",
     "output_type": "stream",
     "text": [
      "(11, 2) 3 False\n",
      "[{'loc': (4, 2), 'cost': 8, 'terrain': 1, 'parent': 'self'}, {'loc': (5, 1), 'cost': 7, 'terrain': 1, 'parent': (4, 2)}, {'loc': (6, 1), 'cost': 6, 'terrain': 1, 'parent': (5, 1)}, {'loc': (7, 1), 'cost': 5, 'terrain': 1, 'parent': (6, 1)}, {'loc': (8, 1), 'cost': 4, 'terrain': 1, 'parent': (7, 1)}, {'loc': (9, 2), 'cost': 3, 'terrain': 1, 'parent': (8, 1)}, {'loc': (9, 3), 'cost': 3, 'terrain': 1, 'parent': (9, 2)}, {'loc': (10, 2), 'cost': 3, 'terrain': 1, 'parent': (9, 2)}, {'loc': (11, 2), 'cost': 3, 'terrain': 1, 'parent': (10, 2)}]\n"
     ]
    },
    {
     "data": {
      "text/plain": [
       "[{'cost': 4, 'loc': (8, 2), 'parent': (7, 1), 'terrain': 1},\n",
       " {'cost': 4, 'loc': (9, 1), 'parent': (8, 1), 'terrain': 1},\n",
       " {'cost': 4, 'loc': (8, 3), 'parent': (9, 2), 'terrain': 1},\n",
       " {'cost': 4, 'loc': (10, 1), 'parent': (9, 2), 'terrain': 1},\n",
       " {'cost': 4, 'loc': (11, 1), 'parent': (10, 2), 'terrain': 1},\n",
       " {'cost': 5, 'loc': (7, 2), 'parent': (6, 1), 'terrain': 1},\n",
       " {'cost': 6, 'loc': (6, 2), 'parent': (5, 1), 'terrain': 1},\n",
       " {'cost': 8, 'loc': (4, 1), 'parent': (4, 2), 'terrain': 1},\n",
       " {'cost': 9, 'loc': (3, 1), 'parent': (4, 2), 'terrain': 1},\n",
       " {'cost': 9, 'loc': (3, 2), 'parent': (4, 2), 'terrain': 1}]"
      ]
     },
     "execution_count": 17,
     "metadata": {},
     "output_type": "execute_result"
    }
   ],
   "source": [
    "open_list  = sorted(open_list,key=lambda k : k['cost'])\n",
    "curr_spot  = open_list.pop(0)\n",
    "print curr_spot['loc'], curr_spot['cost'],curr_spot['loc'] == targ\n",
    "explore_a_spot(curr_spot['loc'],grid,open_list,closed_list,world)\n",
    "print closed_list\n",
    "open_list"
   ]
  },
  {
   "cell_type": "code",
   "execution_count": 18,
   "metadata": {},
   "outputs": [
    {
     "name": "stdout",
     "output_type": "stream",
     "text": [
      "(8, 2) 4 False\n",
      "[{'loc': (4, 2), 'cost': 8, 'terrain': 1, 'parent': 'self'}, {'loc': (5, 1), 'cost': 7, 'terrain': 1, 'parent': (4, 2)}, {'loc': (6, 1), 'cost': 6, 'terrain': 1, 'parent': (5, 1)}, {'loc': (7, 1), 'cost': 5, 'terrain': 1, 'parent': (6, 1)}, {'loc': (8, 1), 'cost': 4, 'terrain': 1, 'parent': (7, 1)}, {'loc': (9, 2), 'cost': 3, 'terrain': 1, 'parent': (8, 1)}, {'loc': (9, 3), 'cost': 3, 'terrain': 1, 'parent': (9, 2)}, {'loc': (10, 2), 'cost': 3, 'terrain': 1, 'parent': (9, 2)}, {'loc': (11, 2), 'cost': 3, 'terrain': 1, 'parent': (10, 2)}, {'loc': (8, 2), 'cost': 4, 'terrain': 1, 'parent': (7, 1)}]\n"
     ]
    },
    {
     "data": {
      "text/plain": [
       "[{'cost': 4, 'loc': (9, 1), 'parent': (8, 1), 'terrain': 1},\n",
       " {'cost': 4, 'loc': (8, 3), 'parent': (9, 2), 'terrain': 1},\n",
       " {'cost': 4, 'loc': (10, 1), 'parent': (9, 2), 'terrain': 1},\n",
       " {'cost': 4, 'loc': (11, 1), 'parent': (10, 2), 'terrain': 1},\n",
       " {'cost': 5, 'loc': (7, 2), 'parent': (6, 1), 'terrain': 1},\n",
       " {'cost': 6, 'loc': (6, 2), 'parent': (5, 1), 'terrain': 1},\n",
       " {'cost': 8, 'loc': (4, 1), 'parent': (4, 2), 'terrain': 1},\n",
       " {'cost': 9, 'loc': (3, 1), 'parent': (4, 2), 'terrain': 1},\n",
       " {'cost': 9, 'loc': (3, 2), 'parent': (4, 2), 'terrain': 1},\n",
       " {'cost': 5, 'loc': (7, 3), 'parent': (8, 2), 'terrain': 1}]"
      ]
     },
     "execution_count": 18,
     "metadata": {},
     "output_type": "execute_result"
    }
   ],
   "source": [
    "open_list  = sorted(open_list,key=lambda k : k['cost'])\n",
    "curr_spot  = open_list.pop(0)\n",
    "print curr_spot['loc'], curr_spot['cost'],curr_spot['loc'] == targ\n",
    "explore_a_spot(curr_spot['loc'],grid,open_list,closed_list,world)\n",
    "print closed_list\n",
    "open_list"
   ]
  },
  {
   "cell_type": "code",
   "execution_count": 19,
   "metadata": {},
   "outputs": [
    {
     "name": "stdout",
     "output_type": "stream",
     "text": [
      "(9, 1) 4 False\n",
      "[{'loc': (4, 2), 'cost': 8, 'terrain': 1, 'parent': 'self'}, {'loc': (5, 1), 'cost': 7, 'terrain': 1, 'parent': (4, 2)}, {'loc': (6, 1), 'cost': 6, 'terrain': 1, 'parent': (5, 1)}, {'loc': (7, 1), 'cost': 5, 'terrain': 1, 'parent': (6, 1)}, {'loc': (8, 1), 'cost': 4, 'terrain': 1, 'parent': (7, 1)}, {'loc': (9, 2), 'cost': 3, 'terrain': 1, 'parent': (8, 1)}, {'loc': (9, 3), 'cost': 3, 'terrain': 1, 'parent': (9, 2)}, {'loc': (10, 2), 'cost': 3, 'terrain': 1, 'parent': (9, 2)}, {'loc': (11, 2), 'cost': 3, 'terrain': 1, 'parent': (10, 2)}, {'loc': (8, 2), 'cost': 4, 'terrain': 1, 'parent': (7, 1)}, {'loc': (9, 1), 'cost': 4, 'terrain': 1, 'parent': (8, 1)}]\n"
     ]
    },
    {
     "data": {
      "text/plain": [
       "[{'cost': 4, 'loc': (8, 3), 'parent': (9, 2), 'terrain': 1},\n",
       " {'cost': 4, 'loc': (10, 1), 'parent': (9, 2), 'terrain': 1},\n",
       " {'cost': 4, 'loc': (11, 1), 'parent': (10, 2), 'terrain': 1},\n",
       " {'cost': 5, 'loc': (7, 2), 'parent': (6, 1), 'terrain': 1},\n",
       " {'cost': 5, 'loc': (7, 3), 'parent': (8, 2), 'terrain': 1},\n",
       " {'cost': 6, 'loc': (6, 2), 'parent': (5, 1), 'terrain': 1},\n",
       " {'cost': 8, 'loc': (4, 1), 'parent': (4, 2), 'terrain': 1},\n",
       " {'cost': 9, 'loc': (3, 1), 'parent': (4, 2), 'terrain': 1},\n",
       " {'cost': 9, 'loc': (3, 2), 'parent': (4, 2), 'terrain': 1}]"
      ]
     },
     "execution_count": 19,
     "metadata": {},
     "output_type": "execute_result"
    }
   ],
   "source": [
    "open_list  = sorted(open_list,key=lambda k : k['cost'])\n",
    "curr_spot  = open_list.pop(0)\n",
    "print curr_spot['loc'], curr_spot['cost'],curr_spot['loc'] == targ\n",
    "explore_a_spot(curr_spot['loc'],grid,open_list,closed_list,world)\n",
    "print closed_list\n",
    "open_list"
   ]
  },
  {
   "cell_type": "code",
   "execution_count": 20,
   "metadata": {},
   "outputs": [
    {
     "name": "stdout",
     "output_type": "stream",
     "text": [
      "(8, 3) 4 False\n",
      "[{'loc': (4, 2), 'cost': 8, 'terrain': 1, 'parent': 'self'}, {'loc': (5, 1), 'cost': 7, 'terrain': 1, 'parent': (4, 2)}, {'loc': (6, 1), 'cost': 6, 'terrain': 1, 'parent': (5, 1)}, {'loc': (7, 1), 'cost': 5, 'terrain': 1, 'parent': (6, 1)}, {'loc': (8, 1), 'cost': 4, 'terrain': 1, 'parent': (7, 1)}, {'loc': (9, 2), 'cost': 3, 'terrain': 1, 'parent': (8, 1)}, {'loc': (9, 3), 'cost': 3, 'terrain': 1, 'parent': (9, 2)}, {'loc': (10, 2), 'cost': 3, 'terrain': 1, 'parent': (9, 2)}, {'loc': (11, 2), 'cost': 3, 'terrain': 1, 'parent': (10, 2)}, {'loc': (8, 2), 'cost': 4, 'terrain': 1, 'parent': (7, 1)}, {'loc': (9, 1), 'cost': 4, 'terrain': 1, 'parent': (8, 1)}, {'loc': (8, 3), 'cost': 4, 'terrain': 1, 'parent': (9, 2)}]\n"
     ]
    },
    {
     "data": {
      "text/plain": [
       "[{'cost': 4, 'loc': (10, 1), 'parent': (9, 2), 'terrain': 1},\n",
       " {'cost': 4, 'loc': (11, 1), 'parent': (10, 2), 'terrain': 1},\n",
       " {'cost': 5, 'loc': (7, 2), 'parent': (6, 1), 'terrain': 1},\n",
       " {'cost': 5, 'loc': (7, 3), 'parent': (8, 2), 'terrain': 1},\n",
       " {'cost': 6, 'loc': (6, 2), 'parent': (5, 1), 'terrain': 1},\n",
       " {'cost': 8, 'loc': (4, 1), 'parent': (4, 2), 'terrain': 1},\n",
       " {'cost': 9, 'loc': (3, 1), 'parent': (4, 2), 'terrain': 1},\n",
       " {'cost': 9, 'loc': (3, 2), 'parent': (4, 2), 'terrain': 1},\n",
       " {'cost': 5, 'loc': (7, 4), 'parent': (8, 3), 'terrain': 1}]"
      ]
     },
     "execution_count": 20,
     "metadata": {},
     "output_type": "execute_result"
    }
   ],
   "source": [
    "open_list  = sorted(open_list,key=lambda k : k['cost'])\n",
    "curr_spot  = open_list.pop(0)\n",
    "print curr_spot['loc'], curr_spot['cost'],curr_spot['loc'] == targ\n",
    "explore_a_spot(curr_spot['loc'],grid,open_list,closed_list,world)\n",
    "print closed_list\n",
    "open_list"
   ]
  },
  {
   "cell_type": "code",
   "execution_count": 21,
   "metadata": {},
   "outputs": [
    {
     "name": "stdout",
     "output_type": "stream",
     "text": [
      "(10, 1) 4 False\n",
      "[{'loc': (4, 2), 'cost': 8, 'terrain': 1, 'parent': 'self'}, {'loc': (5, 1), 'cost': 7, 'terrain': 1, 'parent': (4, 2)}, {'loc': (6, 1), 'cost': 6, 'terrain': 1, 'parent': (5, 1)}, {'loc': (7, 1), 'cost': 5, 'terrain': 1, 'parent': (6, 1)}, {'loc': (8, 1), 'cost': 4, 'terrain': 1, 'parent': (7, 1)}, {'loc': (9, 2), 'cost': 3, 'terrain': 1, 'parent': (8, 1)}, {'loc': (9, 3), 'cost': 3, 'terrain': 1, 'parent': (9, 2)}, {'loc': (10, 2), 'cost': 3, 'terrain': 1, 'parent': (9, 2)}, {'loc': (11, 2), 'cost': 3, 'terrain': 1, 'parent': (10, 2)}, {'loc': (8, 2), 'cost': 4, 'terrain': 1, 'parent': (7, 1)}, {'loc': (9, 1), 'cost': 4, 'terrain': 1, 'parent': (8, 1)}, {'loc': (8, 3), 'cost': 4, 'terrain': 1, 'parent': (9, 2)}, {'loc': (10, 1), 'cost': 4, 'terrain': 1, 'parent': (9, 2)}]\n"
     ]
    },
    {
     "data": {
      "text/plain": [
       "[{'cost': 4, 'loc': (11, 1), 'parent': (10, 2), 'terrain': 1},\n",
       " {'cost': 5, 'loc': (7, 2), 'parent': (6, 1), 'terrain': 1},\n",
       " {'cost': 5, 'loc': (7, 3), 'parent': (8, 2), 'terrain': 1},\n",
       " {'cost': 5, 'loc': (7, 4), 'parent': (8, 3), 'terrain': 1},\n",
       " {'cost': 6, 'loc': (6, 2), 'parent': (5, 1), 'terrain': 1},\n",
       " {'cost': 8, 'loc': (4, 1), 'parent': (4, 2), 'terrain': 1},\n",
       " {'cost': 9, 'loc': (3, 1), 'parent': (4, 2), 'terrain': 1},\n",
       " {'cost': 9, 'loc': (3, 2), 'parent': (4, 2), 'terrain': 1}]"
      ]
     },
     "execution_count": 21,
     "metadata": {},
     "output_type": "execute_result"
    }
   ],
   "source": [
    "open_list  = sorted(open_list,key=lambda k : k['cost'])\n",
    "curr_spot  = open_list.pop(0)\n",
    "print curr_spot['loc'], curr_spot['cost'],curr_spot['loc'] == targ\n",
    "explore_a_spot(curr_spot['loc'],grid,open_list,closed_list,world)\n",
    "print closed_list\n",
    "open_list"
   ]
  },
  {
   "cell_type": "code",
   "execution_count": 22,
   "metadata": {},
   "outputs": [
    {
     "name": "stdout",
     "output_type": "stream",
     "text": [
      "(11, 1) 4 False\n",
      "[{'loc': (4, 2), 'cost': 8, 'terrain': 1, 'parent': 'self'}, {'loc': (5, 1), 'cost': 7, 'terrain': 1, 'parent': (4, 2)}, {'loc': (6, 1), 'cost': 6, 'terrain': 1, 'parent': (5, 1)}, {'loc': (7, 1), 'cost': 5, 'terrain': 1, 'parent': (6, 1)}, {'loc': (8, 1), 'cost': 4, 'terrain': 1, 'parent': (7, 1)}, {'loc': (9, 2), 'cost': 3, 'terrain': 1, 'parent': (8, 1)}, {'loc': (9, 3), 'cost': 3, 'terrain': 1, 'parent': (9, 2)}, {'loc': (10, 2), 'cost': 3, 'terrain': 1, 'parent': (9, 2)}, {'loc': (11, 2), 'cost': 3, 'terrain': 1, 'parent': (10, 2)}, {'loc': (8, 2), 'cost': 4, 'terrain': 1, 'parent': (7, 1)}, {'loc': (9, 1), 'cost': 4, 'terrain': 1, 'parent': (8, 1)}, {'loc': (8, 3), 'cost': 4, 'terrain': 1, 'parent': (9, 2)}, {'loc': (10, 1), 'cost': 4, 'terrain': 1, 'parent': (9, 2)}, {'loc': (11, 1), 'cost': 4, 'terrain': 1, 'parent': (10, 2)}]\n"
     ]
    },
    {
     "data": {
      "text/plain": [
       "[{'cost': 5, 'loc': (7, 2), 'parent': (6, 1), 'terrain': 1},\n",
       " {'cost': 5, 'loc': (7, 3), 'parent': (8, 2), 'terrain': 1},\n",
       " {'cost': 5, 'loc': (7, 4), 'parent': (8, 3), 'terrain': 1},\n",
       " {'cost': 6, 'loc': (6, 2), 'parent': (5, 1), 'terrain': 1},\n",
       " {'cost': 8, 'loc': (4, 1), 'parent': (4, 2), 'terrain': 1},\n",
       " {'cost': 9, 'loc': (3, 1), 'parent': (4, 2), 'terrain': 1},\n",
       " {'cost': 9, 'loc': (3, 2), 'parent': (4, 2), 'terrain': 1}]"
      ]
     },
     "execution_count": 22,
     "metadata": {},
     "output_type": "execute_result"
    }
   ],
   "source": [
    "open_list  = sorted(open_list,key=lambda k : k['cost'])\n",
    "curr_spot  = open_list.pop(0)\n",
    "print curr_spot['loc'], curr_spot['cost'],curr_spot['loc'] == targ\n",
    "explore_a_spot(curr_spot['loc'],grid,open_list,closed_list,world)\n",
    "print closed_list\n",
    "open_list"
   ]
  },
  {
   "cell_type": "code",
   "execution_count": 23,
   "metadata": {},
   "outputs": [
    {
     "name": "stdout",
     "output_type": "stream",
     "text": [
      "(7, 2) 5 False\n",
      "[{'loc': (4, 2), 'cost': 8, 'terrain': 1, 'parent': 'self'}, {'loc': (5, 1), 'cost': 7, 'terrain': 1, 'parent': (4, 2)}, {'loc': (6, 1), 'cost': 6, 'terrain': 1, 'parent': (5, 1)}, {'loc': (7, 1), 'cost': 5, 'terrain': 1, 'parent': (6, 1)}, {'loc': (8, 1), 'cost': 4, 'terrain': 1, 'parent': (7, 1)}, {'loc': (9, 2), 'cost': 3, 'terrain': 1, 'parent': (8, 1)}, {'loc': (9, 3), 'cost': 3, 'terrain': 1, 'parent': (9, 2)}, {'loc': (10, 2), 'cost': 3, 'terrain': 1, 'parent': (9, 2)}, {'loc': (11, 2), 'cost': 3, 'terrain': 1, 'parent': (10, 2)}, {'loc': (8, 2), 'cost': 4, 'terrain': 1, 'parent': (7, 1)}, {'loc': (9, 1), 'cost': 4, 'terrain': 1, 'parent': (8, 1)}, {'loc': (8, 3), 'cost': 4, 'terrain': 1, 'parent': (9, 2)}, {'loc': (10, 1), 'cost': 4, 'terrain': 1, 'parent': (9, 2)}, {'loc': (11, 1), 'cost': 4, 'terrain': 1, 'parent': (10, 2)}, {'loc': (7, 2), 'cost': 5, 'terrain': 1, 'parent': (6, 1)}]\n"
     ]
    },
    {
     "data": {
      "text/plain": [
       "[{'cost': 5, 'loc': (7, 3), 'parent': (8, 2), 'terrain': 1},\n",
       " {'cost': 5, 'loc': (7, 4), 'parent': (8, 3), 'terrain': 1},\n",
       " {'cost': 6, 'loc': (6, 2), 'parent': (5, 1), 'terrain': 1},\n",
       " {'cost': 8, 'loc': (4, 1), 'parent': (4, 2), 'terrain': 1},\n",
       " {'cost': 9, 'loc': (3, 1), 'parent': (4, 2), 'terrain': 1},\n",
       " {'cost': 9, 'loc': (3, 2), 'parent': (4, 2), 'terrain': 1},\n",
       " {'cost': 6, 'loc': (6, 3), 'parent': (7, 2), 'terrain': 1}]"
      ]
     },
     "execution_count": 23,
     "metadata": {},
     "output_type": "execute_result"
    }
   ],
   "source": [
    "open_list  = sorted(open_list,key=lambda k : k['cost'])\n",
    "curr_spot  = open_list.pop(0)\n",
    "print curr_spot['loc'], curr_spot['cost'],curr_spot['loc'] == targ\n",
    "explore_a_spot(curr_spot['loc'],grid,open_list,closed_list,world)\n",
    "print closed_list\n",
    "open_list"
   ]
  },
  {
   "cell_type": "code",
   "execution_count": 24,
   "metadata": {},
   "outputs": [
    {
     "name": "stdout",
     "output_type": "stream",
     "text": [
      "(7, 3) 5 False\n",
      "[{'loc': (4, 2), 'cost': 8, 'terrain': 1, 'parent': 'self'}, {'loc': (5, 1), 'cost': 7, 'terrain': 1, 'parent': (4, 2)}, {'loc': (6, 1), 'cost': 6, 'terrain': 1, 'parent': (5, 1)}, {'loc': (7, 1), 'cost': 5, 'terrain': 1, 'parent': (6, 1)}, {'loc': (8, 1), 'cost': 4, 'terrain': 1, 'parent': (7, 1)}, {'loc': (9, 2), 'cost': 3, 'terrain': 1, 'parent': (8, 1)}, {'loc': (9, 3), 'cost': 3, 'terrain': 1, 'parent': (9, 2)}, {'loc': (10, 2), 'cost': 3, 'terrain': 1, 'parent': (9, 2)}, {'loc': (11, 2), 'cost': 3, 'terrain': 1, 'parent': (10, 2)}, {'loc': (8, 2), 'cost': 4, 'terrain': 1, 'parent': (7, 1)}, {'loc': (9, 1), 'cost': 4, 'terrain': 1, 'parent': (8, 1)}, {'loc': (8, 3), 'cost': 4, 'terrain': 1, 'parent': (9, 2)}, {'loc': (10, 1), 'cost': 4, 'terrain': 1, 'parent': (9, 2)}, {'loc': (11, 1), 'cost': 4, 'terrain': 1, 'parent': (10, 2)}, {'loc': (7, 2), 'cost': 5, 'terrain': 1, 'parent': (6, 1)}, {'loc': (7, 3), 'cost': 5, 'terrain': 1, 'parent': (8, 2)}]\n"
     ]
    },
    {
     "data": {
      "text/plain": [
       "[{'cost': 5, 'loc': (7, 4), 'parent': (8, 3), 'terrain': 1},\n",
       " {'cost': 6, 'loc': (6, 2), 'parent': (5, 1), 'terrain': 1},\n",
       " {'cost': 6, 'loc': (6, 3), 'parent': (7, 2), 'terrain': 1},\n",
       " {'cost': 8, 'loc': (4, 1), 'parent': (4, 2), 'terrain': 1},\n",
       " {'cost': 9, 'loc': (3, 1), 'parent': (4, 2), 'terrain': 1},\n",
       " {'cost': 9, 'loc': (3, 2), 'parent': (4, 2), 'terrain': 1}]"
      ]
     },
     "execution_count": 24,
     "metadata": {},
     "output_type": "execute_result"
    }
   ],
   "source": [
    "open_list  = sorted(open_list,key=lambda k : k['cost'])\n",
    "curr_spot  = open_list.pop(0)\n",
    "print curr_spot['loc'], curr_spot['cost'],curr_spot['loc'] == targ\n",
    "explore_a_spot(curr_spot['loc'],grid,open_list,closed_list,world)\n",
    "print closed_list\n",
    "open_list"
   ]
  },
  {
   "cell_type": "code",
   "execution_count": null,
   "metadata": {},
   "outputs": [],
   "source": []
  },
  {
   "cell_type": "code",
   "execution_count": 25,
   "metadata": {},
   "outputs": [
    {
     "name": "stdout",
     "output_type": "stream",
     "text": [
      "(7, 4) 5 False\n",
      "[{'loc': (4, 2), 'cost': 8, 'terrain': 1, 'parent': 'self'}, {'loc': (5, 1), 'cost': 7, 'terrain': 1, 'parent': (4, 2)}, {'loc': (6, 1), 'cost': 6, 'terrain': 1, 'parent': (5, 1)}, {'loc': (7, 1), 'cost': 5, 'terrain': 1, 'parent': (6, 1)}, {'loc': (8, 1), 'cost': 4, 'terrain': 1, 'parent': (7, 1)}, {'loc': (9, 2), 'cost': 3, 'terrain': 1, 'parent': (8, 1)}, {'loc': (9, 3), 'cost': 3, 'terrain': 1, 'parent': (9, 2)}, {'loc': (10, 2), 'cost': 3, 'terrain': 1, 'parent': (9, 2)}, {'loc': (11, 2), 'cost': 3, 'terrain': 1, 'parent': (10, 2)}, {'loc': (8, 2), 'cost': 4, 'terrain': 1, 'parent': (7, 1)}, {'loc': (9, 1), 'cost': 4, 'terrain': 1, 'parent': (8, 1)}, {'loc': (8, 3), 'cost': 4, 'terrain': 1, 'parent': (9, 2)}, {'loc': (10, 1), 'cost': 4, 'terrain': 1, 'parent': (9, 2)}, {'loc': (11, 1), 'cost': 4, 'terrain': 1, 'parent': (10, 2)}, {'loc': (7, 2), 'cost': 5, 'terrain': 1, 'parent': (6, 1)}, {'loc': (7, 3), 'cost': 5, 'terrain': 1, 'parent': (8, 2)}, {'loc': (7, 4), 'cost': 5, 'terrain': 1, 'parent': (8, 3)}]\n"
     ]
    },
    {
     "data": {
      "text/plain": [
       "[{'cost': 6, 'loc': (6, 2), 'parent': (5, 1), 'terrain': 1},\n",
       " {'cost': 6, 'loc': (6, 3), 'parent': (7, 2), 'terrain': 1},\n",
       " {'cost': 8, 'loc': (4, 1), 'parent': (4, 2), 'terrain': 1},\n",
       " {'cost': 9, 'loc': (3, 1), 'parent': (4, 2), 'terrain': 1},\n",
       " {'cost': 9, 'loc': (3, 2), 'parent': (4, 2), 'terrain': 1},\n",
       " {'cost': 6, 'loc': (6, 5), 'parent': (7, 4), 'terrain': 1}]"
      ]
     },
     "execution_count": 25,
     "metadata": {},
     "output_type": "execute_result"
    }
   ],
   "source": [
    "open_list  = sorted(open_list,key=lambda k : k['cost'])\n",
    "curr_spot  = open_list.pop(0)\n",
    "print curr_spot['loc'], curr_spot['cost'],curr_spot['loc'] == targ\n",
    "explore_a_spot(curr_spot['loc'],grid,open_list,closed_list,world)\n",
    "print closed_list\n",
    "open_list"
   ]
  },
  {
   "cell_type": "code",
   "execution_count": 58,
   "metadata": {},
   "outputs": [
    {
     "name": "stdout",
     "output_type": "stream",
     "text": [
      "(6, 2) 6 False\n",
      "[{'loc': (4, 2), 'cost': 8, 'terrain': 1, 'parent': 'self'}, {'loc': (5, 1), 'cost': 7, 'terrain': 1, 'parent': (4, 2)}, {'loc': (6, 1), 'cost': 6, 'terrain': 1, 'parent': (5, 1)}, {'loc': (7, 1), 'cost': 5, 'terrain': 1, 'parent': (6, 1)}, {'loc': (8, 1), 'cost': 4, 'terrain': 1, 'parent': (7, 1)}, {'loc': (9, 2), 'cost': 3, 'terrain': 1, 'parent': (8, 1)}, {'loc': (9, 3), 'cost': 3, 'terrain': 1, 'parent': (9, 2)}, {'loc': (10, 2), 'cost': 3, 'terrain': 1, 'parent': (9, 2)}, {'loc': (11, 2), 'cost': 3, 'terrain': 1, 'parent': (10, 2)}, {'loc': (8, 2), 'cost': 4, 'terrain': 1, 'parent': (7, 1)}, {'loc': (9, 1), 'cost': 4, 'terrain': 1, 'parent': (8, 1)}, {'loc': (8, 3), 'cost': 4, 'terrain': 1, 'parent': (9, 2)}, {'loc': (10, 1), 'cost': 4, 'terrain': 1, 'parent': (9, 2)}, {'loc': (11, 1), 'cost': 4, 'terrain': 1, 'parent': (10, 2)}, {'loc': (7, 2), 'cost': 5, 'terrain': 1, 'parent': (6, 1)}, {'loc': (7, 3), 'cost': 5, 'terrain': 1, 'parent': (8, 2)}, {'loc': (7, 4), 'cost': 5, 'terrain': 1, 'parent': (8, 3)}, {'loc': (6, 2), 'cost': 6, 'terrain': 1, 'parent': (5, 1)}]\n"
     ]
    },
    {
     "data": {
      "text/plain": [
       "[{'cost': 6, 'loc': (6, 3), 'parent': (7, 2), 'terrain': 1},\n",
       " {'cost': 6, 'loc': (6, 5), 'parent': (7, 4), 'terrain': 1},\n",
       " {'cost': 8, 'loc': (4, 1), 'parent': (4, 2), 'terrain': 1},\n",
       " {'cost': 9, 'loc': (3, 1), 'parent': (4, 2), 'terrain': 1},\n",
       " {'cost': 9, 'loc': (3, 2), 'parent': (4, 2), 'terrain': 1}]"
      ]
     },
     "execution_count": 58,
     "metadata": {},
     "output_type": "execute_result"
    }
   ],
   "source": [
    "open_list  = sorted(open_list,key=lambda k : k['cost'])\n",
    "curr_spot  = open_list.pop(0)\n",
    "print curr_spot['loc'], curr_spot['cost'],curr_spot['loc'] == targ\n",
    "explore_a_spot(curr_spot['loc'],grid,open_list,closed_list,world)\n",
    "print closed_list\n",
    "open_list"
   ]
  },
  {
   "cell_type": "code",
   "execution_count": 59,
   "metadata": {},
   "outputs": [
    {
     "name": "stdout",
     "output_type": "stream",
     "text": [
      "(6, 3) 6 False\n",
      "[{'loc': (4, 2), 'cost': 8, 'terrain': 1, 'parent': 'self'}, {'loc': (5, 1), 'cost': 7, 'terrain': 1, 'parent': (4, 2)}, {'loc': (6, 1), 'cost': 6, 'terrain': 1, 'parent': (5, 1)}, {'loc': (7, 1), 'cost': 5, 'terrain': 1, 'parent': (6, 1)}, {'loc': (8, 1), 'cost': 4, 'terrain': 1, 'parent': (7, 1)}, {'loc': (9, 2), 'cost': 3, 'terrain': 1, 'parent': (8, 1)}, {'loc': (9, 3), 'cost': 3, 'terrain': 1, 'parent': (9, 2)}, {'loc': (10, 2), 'cost': 3, 'terrain': 1, 'parent': (9, 2)}, {'loc': (11, 2), 'cost': 3, 'terrain': 1, 'parent': (10, 2)}, {'loc': (8, 2), 'cost': 4, 'terrain': 1, 'parent': (7, 1)}, {'loc': (9, 1), 'cost': 4, 'terrain': 1, 'parent': (8, 1)}, {'loc': (8, 3), 'cost': 4, 'terrain': 1, 'parent': (9, 2)}, {'loc': (10, 1), 'cost': 4, 'terrain': 1, 'parent': (9, 2)}, {'loc': (11, 1), 'cost': 4, 'terrain': 1, 'parent': (10, 2)}, {'loc': (7, 2), 'cost': 5, 'terrain': 1, 'parent': (6, 1)}, {'loc': (7, 3), 'cost': 5, 'terrain': 1, 'parent': (8, 2)}, {'loc': (7, 4), 'cost': 5, 'terrain': 1, 'parent': (8, 3)}, {'loc': (6, 2), 'cost': 6, 'terrain': 1, 'parent': (5, 1)}, {'loc': (6, 3), 'cost': 6, 'terrain': 1, 'parent': (7, 2)}]\n"
     ]
    },
    {
     "data": {
      "text/plain": [
       "[{'cost': 6, 'loc': (6, 5), 'parent': (7, 4), 'terrain': 1},\n",
       " {'cost': 8, 'loc': (4, 1), 'parent': (4, 2), 'terrain': 1},\n",
       " {'cost': 9, 'loc': (3, 1), 'parent': (4, 2), 'terrain': 1},\n",
       " {'cost': 9, 'loc': (3, 2), 'parent': (4, 2), 'terrain': 1},\n",
       " {'cost': 7, 'loc': (5, 4), 'parent': (6, 3), 'terrain': 1}]"
      ]
     },
     "execution_count": 59,
     "metadata": {},
     "output_type": "execute_result"
    }
   ],
   "source": [
    "open_list  = sorted(open_list,key=lambda k : k['cost'])\n",
    "curr_spot  = open_list.pop(0)\n",
    "print curr_spot['loc'], curr_spot['cost'],curr_spot['loc'] == targ\n",
    "explore_a_spot(curr_spot['loc'],grid,open_list,closed_list,world)\n",
    "print closed_list\n",
    "open_list"
   ]
  },
  {
   "cell_type": "code",
   "execution_count": 60,
   "metadata": {},
   "outputs": [
    {
     "name": "stdout",
     "output_type": "stream",
     "text": [
      "(6, 5) 6 False\n",
      "[{'loc': (4, 2), 'cost': 8, 'terrain': 1, 'parent': 'self'}, {'loc': (5, 1), 'cost': 7, 'terrain': 1, 'parent': (4, 2)}, {'loc': (6, 1), 'cost': 6, 'terrain': 1, 'parent': (5, 1)}, {'loc': (7, 1), 'cost': 5, 'terrain': 1, 'parent': (6, 1)}, {'loc': (8, 1), 'cost': 4, 'terrain': 1, 'parent': (7, 1)}, {'loc': (9, 2), 'cost': 3, 'terrain': 1, 'parent': (8, 1)}, {'loc': (9, 3), 'cost': 3, 'terrain': 1, 'parent': (9, 2)}, {'loc': (10, 2), 'cost': 3, 'terrain': 1, 'parent': (9, 2)}, {'loc': (11, 2), 'cost': 3, 'terrain': 1, 'parent': (10, 2)}, {'loc': (8, 2), 'cost': 4, 'terrain': 1, 'parent': (7, 1)}, {'loc': (9, 1), 'cost': 4, 'terrain': 1, 'parent': (8, 1)}, {'loc': (8, 3), 'cost': 4, 'terrain': 1, 'parent': (9, 2)}, {'loc': (10, 1), 'cost': 4, 'terrain': 1, 'parent': (9, 2)}, {'loc': (11, 1), 'cost': 4, 'terrain': 1, 'parent': (10, 2)}, {'loc': (7, 2), 'cost': 5, 'terrain': 1, 'parent': (6, 1)}, {'loc': (7, 3), 'cost': 5, 'terrain': 1, 'parent': (8, 2)}, {'loc': (7, 4), 'cost': 5, 'terrain': 1, 'parent': (8, 3)}, {'loc': (6, 2), 'cost': 6, 'terrain': 1, 'parent': (5, 1)}, {'loc': (6, 3), 'cost': 6, 'terrain': 1, 'parent': (7, 2)}, {'loc': (6, 5), 'cost': 6, 'terrain': 1, 'parent': (7, 4)}]\n"
     ]
    },
    {
     "data": {
      "text/plain": [
       "[{'cost': 7, 'loc': (5, 4), 'parent': (6, 3), 'terrain': 1},\n",
       " {'cost': 8, 'loc': (4, 1), 'parent': (4, 2), 'terrain': 1},\n",
       " {'cost': 9, 'loc': (3, 1), 'parent': (4, 2), 'terrain': 1},\n",
       " {'cost': 9, 'loc': (3, 2), 'parent': (4, 2), 'terrain': 1},\n",
       " {'cost': 7, 'loc': (5, 5), 'parent': (6, 5), 'terrain': 1},\n",
       " {'cost': 7, 'loc': (5, 6), 'parent': (6, 5), 'terrain': 1},\n",
       " {'cost': 6, 'loc': (6, 6), 'parent': (6, 5), 'terrain': 1},\n",
       " {'cost': 5, 'loc': (7, 6), 'parent': (6, 5), 'terrain': 1}]"
      ]
     },
     "execution_count": 60,
     "metadata": {},
     "output_type": "execute_result"
    }
   ],
   "source": [
    "open_list  = sorted(open_list,key=lambda k : k['cost'])\n",
    "curr_spot  = open_list.pop(0)\n",
    "print curr_spot['loc'], curr_spot['cost'],curr_spot['loc'] == targ\n",
    "explore_a_spot(curr_spot['loc'],grid,open_list,closed_list,world)\n",
    "print closed_list\n",
    "open_list"
   ]
  },
  {
   "cell_type": "code",
   "execution_count": 61,
   "metadata": {},
   "outputs": [
    {
     "name": "stdout",
     "output_type": "stream",
     "text": [
      "(7, 6) 5 False\n",
      "[{'loc': (4, 2), 'cost': 8, 'terrain': 1, 'parent': 'self'}, {'loc': (5, 1), 'cost': 7, 'terrain': 1, 'parent': (4, 2)}, {'loc': (6, 1), 'cost': 6, 'terrain': 1, 'parent': (5, 1)}, {'loc': (7, 1), 'cost': 5, 'terrain': 1, 'parent': (6, 1)}, {'loc': (8, 1), 'cost': 4, 'terrain': 1, 'parent': (7, 1)}, {'loc': (9, 2), 'cost': 3, 'terrain': 1, 'parent': (8, 1)}, {'loc': (9, 3), 'cost': 3, 'terrain': 1, 'parent': (9, 2)}, {'loc': (10, 2), 'cost': 3, 'terrain': 1, 'parent': (9, 2)}, {'loc': (11, 2), 'cost': 3, 'terrain': 1, 'parent': (10, 2)}, {'loc': (8, 2), 'cost': 4, 'terrain': 1, 'parent': (7, 1)}, {'loc': (9, 1), 'cost': 4, 'terrain': 1, 'parent': (8, 1)}, {'loc': (8, 3), 'cost': 4, 'terrain': 1, 'parent': (9, 2)}, {'loc': (10, 1), 'cost': 4, 'terrain': 1, 'parent': (9, 2)}, {'loc': (11, 1), 'cost': 4, 'terrain': 1, 'parent': (10, 2)}, {'loc': (7, 2), 'cost': 5, 'terrain': 1, 'parent': (6, 1)}, {'loc': (7, 3), 'cost': 5, 'terrain': 1, 'parent': (8, 2)}, {'loc': (7, 4), 'cost': 5, 'terrain': 1, 'parent': (8, 3)}, {'loc': (6, 2), 'cost': 6, 'terrain': 1, 'parent': (5, 1)}, {'loc': (6, 3), 'cost': 6, 'terrain': 1, 'parent': (7, 2)}, {'loc': (6, 5), 'cost': 6, 'terrain': 1, 'parent': (7, 4)}, {'loc': (7, 6), 'cost': 5, 'terrain': 1, 'parent': (6, 5)}]\n"
     ]
    },
    {
     "data": {
      "text/plain": [
       "[{'cost': 6, 'loc': (6, 6), 'parent': (6, 5), 'terrain': 1},\n",
       " {'cost': 7, 'loc': (5, 4), 'parent': (6, 3), 'terrain': 1},\n",
       " {'cost': 7, 'loc': (5, 5), 'parent': (6, 5), 'terrain': 1},\n",
       " {'cost': 7, 'loc': (5, 6), 'parent': (6, 5), 'terrain': 1},\n",
       " {'cost': 8, 'loc': (4, 1), 'parent': (4, 2), 'terrain': 1},\n",
       " {'cost': 9, 'loc': (3, 1), 'parent': (4, 2), 'terrain': 1},\n",
       " {'cost': 9, 'loc': (3, 2), 'parent': (4, 2), 'terrain': 1},\n",
       " {'cost': 4, 'loc': (8, 6), 'parent': (7, 6), 'terrain': 1}]"
      ]
     },
     "execution_count": 61,
     "metadata": {},
     "output_type": "execute_result"
    }
   ],
   "source": [
    "open_list  = sorted(open_list,key=lambda k : k['cost'])\n",
    "curr_spot  = open_list.pop(0)\n",
    "print curr_spot['loc'], curr_spot['cost'],curr_spot['loc'] == targ\n",
    "explore_a_spot(curr_spot['loc'],grid,open_list,closed_list,world)\n",
    "print closed_list\n",
    "open_list"
   ]
  },
  {
   "cell_type": "code",
   "execution_count": 62,
   "metadata": {},
   "outputs": [
    {
     "name": "stdout",
     "output_type": "stream",
     "text": [
      "(8, 6) 4 False\n",
      "[{'loc': (4, 2), 'cost': 8, 'terrain': 1, 'parent': 'self'}, {'loc': (5, 1), 'cost': 7, 'terrain': 1, 'parent': (4, 2)}, {'loc': (6, 1), 'cost': 6, 'terrain': 1, 'parent': (5, 1)}, {'loc': (7, 1), 'cost': 5, 'terrain': 1, 'parent': (6, 1)}, {'loc': (8, 1), 'cost': 4, 'terrain': 1, 'parent': (7, 1)}, {'loc': (9, 2), 'cost': 3, 'terrain': 1, 'parent': (8, 1)}, {'loc': (9, 3), 'cost': 3, 'terrain': 1, 'parent': (9, 2)}, {'loc': (10, 2), 'cost': 3, 'terrain': 1, 'parent': (9, 2)}, {'loc': (11, 2), 'cost': 3, 'terrain': 1, 'parent': (10, 2)}, {'loc': (8, 2), 'cost': 4, 'terrain': 1, 'parent': (7, 1)}, {'loc': (9, 1), 'cost': 4, 'terrain': 1, 'parent': (8, 1)}, {'loc': (8, 3), 'cost': 4, 'terrain': 1, 'parent': (9, 2)}, {'loc': (10, 1), 'cost': 4, 'terrain': 1, 'parent': (9, 2)}, {'loc': (11, 1), 'cost': 4, 'terrain': 1, 'parent': (10, 2)}, {'loc': (7, 2), 'cost': 5, 'terrain': 1, 'parent': (6, 1)}, {'loc': (7, 3), 'cost': 5, 'terrain': 1, 'parent': (8, 2)}, {'loc': (7, 4), 'cost': 5, 'terrain': 1, 'parent': (8, 3)}, {'loc': (6, 2), 'cost': 6, 'terrain': 1, 'parent': (5, 1)}, {'loc': (6, 3), 'cost': 6, 'terrain': 1, 'parent': (7, 2)}, {'loc': (6, 5), 'cost': 6, 'terrain': 1, 'parent': (7, 4)}, {'loc': (7, 6), 'cost': 5, 'terrain': 1, 'parent': (6, 5)}, {'loc': (8, 6), 'cost': 4, 'terrain': 1, 'parent': (7, 6)}]\n"
     ]
    },
    {
     "data": {
      "text/plain": [
       "[{'cost': 6, 'loc': (6, 6), 'parent': (6, 5), 'terrain': 1},\n",
       " {'cost': 7, 'loc': (5, 4), 'parent': (6, 3), 'terrain': 1},\n",
       " {'cost': 7, 'loc': (5, 5), 'parent': (6, 5), 'terrain': 1},\n",
       " {'cost': 7, 'loc': (5, 6), 'parent': (6, 5), 'terrain': 1},\n",
       " {'cost': 8, 'loc': (4, 1), 'parent': (4, 2), 'terrain': 1},\n",
       " {'cost': 9, 'loc': (3, 1), 'parent': (4, 2), 'terrain': 1},\n",
       " {'cost': 9, 'loc': (3, 2), 'parent': (4, 2), 'terrain': 1},\n",
       " {'cost': 3, 'loc': (9, 5), 'parent': (8, 6), 'terrain': 1},\n",
       " {'cost': 3, 'loc': (9, 6), 'parent': (8, 6), 'terrain': 1}]"
      ]
     },
     "execution_count": 62,
     "metadata": {},
     "output_type": "execute_result"
    }
   ],
   "source": [
    "open_list  = sorted(open_list,key=lambda k : k['cost'])\n",
    "curr_spot  = open_list.pop(0)\n",
    "print curr_spot['loc'], curr_spot['cost'],curr_spot['loc'] == targ\n",
    "explore_a_spot(curr_spot['loc'],grid,open_list,closed_list,world)\n",
    "print closed_list\n",
    "open_list"
   ]
  },
  {
   "cell_type": "code",
   "execution_count": 63,
   "metadata": {},
   "outputs": [
    {
     "name": "stdout",
     "output_type": "stream",
     "text": [
      "(9, 5) 3 False\n",
      "[{'loc': (4, 2), 'cost': 8, 'terrain': 1, 'parent': 'self'}, {'loc': (5, 1), 'cost': 7, 'terrain': 1, 'parent': (4, 2)}, {'loc': (6, 1), 'cost': 6, 'terrain': 1, 'parent': (5, 1)}, {'loc': (7, 1), 'cost': 5, 'terrain': 1, 'parent': (6, 1)}, {'loc': (8, 1), 'cost': 4, 'terrain': 1, 'parent': (7, 1)}, {'loc': (9, 2), 'cost': 3, 'terrain': 1, 'parent': (8, 1)}, {'loc': (9, 3), 'cost': 3, 'terrain': 1, 'parent': (9, 2)}, {'loc': (10, 2), 'cost': 3, 'terrain': 1, 'parent': (9, 2)}, {'loc': (11, 2), 'cost': 3, 'terrain': 1, 'parent': (10, 2)}, {'loc': (8, 2), 'cost': 4, 'terrain': 1, 'parent': (7, 1)}, {'loc': (9, 1), 'cost': 4, 'terrain': 1, 'parent': (8, 1)}, {'loc': (8, 3), 'cost': 4, 'terrain': 1, 'parent': (9, 2)}, {'loc': (10, 1), 'cost': 4, 'terrain': 1, 'parent': (9, 2)}, {'loc': (11, 1), 'cost': 4, 'terrain': 1, 'parent': (10, 2)}, {'loc': (7, 2), 'cost': 5, 'terrain': 1, 'parent': (6, 1)}, {'loc': (7, 3), 'cost': 5, 'terrain': 1, 'parent': (8, 2)}, {'loc': (7, 4), 'cost': 5, 'terrain': 1, 'parent': (8, 3)}, {'loc': (6, 2), 'cost': 6, 'terrain': 1, 'parent': (5, 1)}, {'loc': (6, 3), 'cost': 6, 'terrain': 1, 'parent': (7, 2)}, {'loc': (6, 5), 'cost': 6, 'terrain': 1, 'parent': (7, 4)}, {'loc': (7, 6), 'cost': 5, 'terrain': 1, 'parent': (6, 5)}, {'loc': (8, 6), 'cost': 4, 'terrain': 1, 'parent': (7, 6)}, {'loc': (9, 5), 'cost': 3, 'terrain': 1, 'parent': (8, 6)}]\n"
     ]
    },
    {
     "data": {
      "text/plain": [
       "[{'cost': 3, 'loc': (9, 6), 'parent': (8, 6), 'terrain': 1},\n",
       " {'cost': 6, 'loc': (6, 6), 'parent': (6, 5), 'terrain': 1},\n",
       " {'cost': 7, 'loc': (5, 4), 'parent': (6, 3), 'terrain': 1},\n",
       " {'cost': 7, 'loc': (5, 5), 'parent': (6, 5), 'terrain': 1},\n",
       " {'cost': 7, 'loc': (5, 6), 'parent': (6, 5), 'terrain': 1},\n",
       " {'cost': 8, 'loc': (4, 1), 'parent': (4, 2), 'terrain': 1},\n",
       " {'cost': 9, 'loc': (3, 1), 'parent': (4, 2), 'terrain': 1},\n",
       " {'cost': 9, 'loc': (3, 2), 'parent': (4, 2), 'terrain': 1},\n",
       " {'cost': 2, 'loc': (10, 5), 'parent': (9, 5), 'terrain': 1},\n",
       " {'cost': 3, 'loc': (10, 6), 'parent': (9, 5), 'terrain': 1}]"
      ]
     },
     "execution_count": 63,
     "metadata": {},
     "output_type": "execute_result"
    }
   ],
   "source": [
    "open_list  = sorted(open_list,key=lambda k : k['cost'])\n",
    "curr_spot  = open_list.pop(0)\n",
    "print curr_spot['loc'], curr_spot['cost'],curr_spot['loc'] == targ\n",
    "explore_a_spot(curr_spot['loc'],grid,open_list,closed_list,world)\n",
    "print closed_list\n",
    "open_list"
   ]
  },
  {
   "cell_type": "code",
   "execution_count": 64,
   "metadata": {},
   "outputs": [
    {
     "name": "stdout",
     "output_type": "stream",
     "text": [
      "(10, 5) 2 False\n",
      "[{'loc': (4, 2), 'cost': 8, 'terrain': 1, 'parent': 'self'}, {'loc': (5, 1), 'cost': 7, 'terrain': 1, 'parent': (4, 2)}, {'loc': (6, 1), 'cost': 6, 'terrain': 1, 'parent': (5, 1)}, {'loc': (7, 1), 'cost': 5, 'terrain': 1, 'parent': (6, 1)}, {'loc': (8, 1), 'cost': 4, 'terrain': 1, 'parent': (7, 1)}, {'loc': (9, 2), 'cost': 3, 'terrain': 1, 'parent': (8, 1)}, {'loc': (9, 3), 'cost': 3, 'terrain': 1, 'parent': (9, 2)}, {'loc': (10, 2), 'cost': 3, 'terrain': 1, 'parent': (9, 2)}, {'loc': (11, 2), 'cost': 3, 'terrain': 1, 'parent': (10, 2)}, {'loc': (8, 2), 'cost': 4, 'terrain': 1, 'parent': (7, 1)}, {'loc': (9, 1), 'cost': 4, 'terrain': 1, 'parent': (8, 1)}, {'loc': (8, 3), 'cost': 4, 'terrain': 1, 'parent': (9, 2)}, {'loc': (10, 1), 'cost': 4, 'terrain': 1, 'parent': (9, 2)}, {'loc': (11, 1), 'cost': 4, 'terrain': 1, 'parent': (10, 2)}, {'loc': (7, 2), 'cost': 5, 'terrain': 1, 'parent': (6, 1)}, {'loc': (7, 3), 'cost': 5, 'terrain': 1, 'parent': (8, 2)}, {'loc': (7, 4), 'cost': 5, 'terrain': 1, 'parent': (8, 3)}, {'loc': (6, 2), 'cost': 6, 'terrain': 1, 'parent': (5, 1)}, {'loc': (6, 3), 'cost': 6, 'terrain': 1, 'parent': (7, 2)}, {'loc': (6, 5), 'cost': 6, 'terrain': 1, 'parent': (7, 4)}, {'loc': (7, 6), 'cost': 5, 'terrain': 1, 'parent': (6, 5)}, {'loc': (8, 6), 'cost': 4, 'terrain': 1, 'parent': (7, 6)}, {'loc': (9, 5), 'cost': 3, 'terrain': 1, 'parent': (8, 6)}, {'loc': (10, 5), 'cost': 2, 'terrain': 1, 'parent': (9, 5)}]\n"
     ]
    },
    {
     "data": {
      "text/plain": [
       "[{'cost': 3, 'loc': (9, 6), 'parent': (8, 6), 'terrain': 1},\n",
       " {'cost': 3, 'loc': (10, 6), 'parent': (9, 5), 'terrain': 1},\n",
       " {'cost': 6, 'loc': (6, 6), 'parent': (6, 5), 'terrain': 1},\n",
       " {'cost': 7, 'loc': (5, 4), 'parent': (6, 3), 'terrain': 1},\n",
       " {'cost': 7, 'loc': (5, 5), 'parent': (6, 5), 'terrain': 1},\n",
       " {'cost': 7, 'loc': (5, 6), 'parent': (6, 5), 'terrain': 1},\n",
       " {'cost': 8, 'loc': (4, 1), 'parent': (4, 2), 'terrain': 1},\n",
       " {'cost': 9, 'loc': (3, 1), 'parent': (4, 2), 'terrain': 1},\n",
       " {'cost': 9, 'loc': (3, 2), 'parent': (4, 2), 'terrain': 1},\n",
       " {'cost': 1, 'loc': (11, 4), 'parent': (10, 5), 'terrain': 1},\n",
       " {'cost': 2, 'loc': (11, 5), 'parent': (10, 5), 'terrain': 1},\n",
       " {'cost': 3, 'loc': (11, 6), 'parent': (10, 5), 'terrain': 1}]"
      ]
     },
     "execution_count": 64,
     "metadata": {},
     "output_type": "execute_result"
    }
   ],
   "source": [
    "open_list  = sorted(open_list,key=lambda k : k['cost'])\n",
    "curr_spot  = open_list.pop(0)\n",
    "print curr_spot['loc'], curr_spot['cost'],curr_spot['loc'] == targ\n",
    "explore_a_spot(curr_spot['loc'],grid,open_list,closed_list,world)\n",
    "print closed_list\n",
    "open_list"
   ]
  },
  {
   "cell_type": "code",
   "execution_count": 65,
   "metadata": {},
   "outputs": [
    {
     "name": "stdout",
     "output_type": "stream",
     "text": [
      "(11, 4) 1 True\n",
      "[{'loc': (4, 2), 'cost': 8, 'terrain': 1, 'parent': 'self'}, {'loc': (5, 1), 'cost': 7, 'terrain': 1, 'parent': (4, 2)}, {'loc': (6, 1), 'cost': 6, 'terrain': 1, 'parent': (5, 1)}, {'loc': (7, 1), 'cost': 5, 'terrain': 1, 'parent': (6, 1)}, {'loc': (8, 1), 'cost': 4, 'terrain': 1, 'parent': (7, 1)}, {'loc': (9, 2), 'cost': 3, 'terrain': 1, 'parent': (8, 1)}, {'loc': (9, 3), 'cost': 3, 'terrain': 1, 'parent': (9, 2)}, {'loc': (10, 2), 'cost': 3, 'terrain': 1, 'parent': (9, 2)}, {'loc': (11, 2), 'cost': 3, 'terrain': 1, 'parent': (10, 2)}, {'loc': (8, 2), 'cost': 4, 'terrain': 1, 'parent': (7, 1)}, {'loc': (9, 1), 'cost': 4, 'terrain': 1, 'parent': (8, 1)}, {'loc': (8, 3), 'cost': 4, 'terrain': 1, 'parent': (9, 2)}, {'loc': (10, 1), 'cost': 4, 'terrain': 1, 'parent': (9, 2)}, {'loc': (11, 1), 'cost': 4, 'terrain': 1, 'parent': (10, 2)}, {'loc': (7, 2), 'cost': 5, 'terrain': 1, 'parent': (6, 1)}, {'loc': (7, 3), 'cost': 5, 'terrain': 1, 'parent': (8, 2)}, {'loc': (7, 4), 'cost': 5, 'terrain': 1, 'parent': (8, 3)}, {'loc': (6, 2), 'cost': 6, 'terrain': 1, 'parent': (5, 1)}, {'loc': (6, 3), 'cost': 6, 'terrain': 1, 'parent': (7, 2)}, {'loc': (6, 5), 'cost': 6, 'terrain': 1, 'parent': (7, 4)}, {'loc': (7, 6), 'cost': 5, 'terrain': 1, 'parent': (6, 5)}, {'loc': (8, 6), 'cost': 4, 'terrain': 1, 'parent': (7, 6)}, {'loc': (9, 5), 'cost': 3, 'terrain': 1, 'parent': (8, 6)}, {'loc': (10, 5), 'cost': 2, 'terrain': 1, 'parent': (9, 5)}, {'loc': (11, 4), 'cost': 1, 'terrain': 1, 'parent': (10, 5)}]\n"
     ]
    },
    {
     "data": {
      "text/plain": [
       "[{'cost': 2, 'loc': (11, 5), 'parent': (10, 5), 'terrain': 1},\n",
       " {'cost': 3, 'loc': (9, 6), 'parent': (8, 6), 'terrain': 1},\n",
       " {'cost': 3, 'loc': (10, 6), 'parent': (9, 5), 'terrain': 1},\n",
       " {'cost': 3, 'loc': (11, 6), 'parent': (10, 5), 'terrain': 1},\n",
       " {'cost': 6, 'loc': (6, 6), 'parent': (6, 5), 'terrain': 1},\n",
       " {'cost': 7, 'loc': (5, 4), 'parent': (6, 3), 'terrain': 1},\n",
       " {'cost': 7, 'loc': (5, 5), 'parent': (6, 5), 'terrain': 1},\n",
       " {'cost': 7, 'loc': (5, 6), 'parent': (6, 5), 'terrain': 1},\n",
       " {'cost': 8, 'loc': (4, 1), 'parent': (4, 2), 'terrain': 1},\n",
       " {'cost': 9, 'loc': (3, 1), 'parent': (4, 2), 'terrain': 1},\n",
       " {'cost': 9, 'loc': (3, 2), 'parent': (4, 2), 'terrain': 1}]"
      ]
     },
     "execution_count": 65,
     "metadata": {},
     "output_type": "execute_result"
    }
   ],
   "source": [
    "open_list  = sorted(open_list,key=lambda k : k['cost'])\n",
    "curr_spot  = open_list.pop(0)\n",
    "print curr_spot['loc'], curr_spot['cost'],curr_spot['loc'] == targ\n",
    "explore_a_spot(curr_spot['loc'],grid,open_list,closed_list,world)\n",
    "print closed_list\n",
    "open_list"
   ]
  },
  {
   "cell_type": "code",
   "execution_count": 66,
   "metadata": {},
   "outputs": [
    {
     "data": {
      "text/plain": [
       "[{'cost': 8, 'loc': (4, 2), 'parent': 'self', 'terrain': 1},\n",
       " {'cost': 7, 'loc': (5, 1), 'parent': (4, 2), 'terrain': 1},\n",
       " {'cost': 6, 'loc': (6, 1), 'parent': (5, 1), 'terrain': 1},\n",
       " {'cost': 5, 'loc': (7, 1), 'parent': (6, 1), 'terrain': 1},\n",
       " {'cost': 4, 'loc': (8, 1), 'parent': (7, 1), 'terrain': 1},\n",
       " {'cost': 3, 'loc': (9, 2), 'parent': (8, 1), 'terrain': 1},\n",
       " {'cost': 3, 'loc': (9, 3), 'parent': (9, 2), 'terrain': 1},\n",
       " {'cost': 3, 'loc': (10, 2), 'parent': (9, 2), 'terrain': 1},\n",
       " {'cost': 3, 'loc': (11, 2), 'parent': (10, 2), 'terrain': 1},\n",
       " {'cost': 4, 'loc': (8, 2), 'parent': (7, 1), 'terrain': 1},\n",
       " {'cost': 4, 'loc': (9, 1), 'parent': (8, 1), 'terrain': 1},\n",
       " {'cost': 4, 'loc': (8, 3), 'parent': (9, 2), 'terrain': 1},\n",
       " {'cost': 4, 'loc': (10, 1), 'parent': (9, 2), 'terrain': 1},\n",
       " {'cost': 4, 'loc': (11, 1), 'parent': (10, 2), 'terrain': 1},\n",
       " {'cost': 5, 'loc': (7, 2), 'parent': (6, 1), 'terrain': 1},\n",
       " {'cost': 5, 'loc': (7, 3), 'parent': (8, 2), 'terrain': 1},\n",
       " {'cost': 5, 'loc': (7, 4), 'parent': (8, 3), 'terrain': 1},\n",
       " {'cost': 6, 'loc': (6, 2), 'parent': (5, 1), 'terrain': 1},\n",
       " {'cost': 6, 'loc': (6, 3), 'parent': (7, 2), 'terrain': 1},\n",
       " {'cost': 6, 'loc': (6, 5), 'parent': (7, 4), 'terrain': 1},\n",
       " {'cost': 5, 'loc': (7, 6), 'parent': (6, 5), 'terrain': 1},\n",
       " {'cost': 4, 'loc': (8, 6), 'parent': (7, 6), 'terrain': 1},\n",
       " {'cost': 3, 'loc': (9, 5), 'parent': (8, 6), 'terrain': 1},\n",
       " {'cost': 2, 'loc': (10, 5), 'parent': (9, 5), 'terrain': 1},\n",
       " {'cost': 1, 'loc': (11, 4), 'parent': (10, 5), 'terrain': 1}]"
      ]
     },
     "execution_count": 66,
     "metadata": {},
     "output_type": "execute_result"
    }
   ],
   "source": [
    "closed_list"
   ]
  },
  {
   "cell_type": "code",
   "execution_count": null,
   "metadata": {},
   "outputs": [],
   "source": []
  }
 ],
 "metadata": {
  "kernelspec": {
   "display_name": "Python [conda env:Anaconda2]",
   "language": "python",
   "name": "conda-env-Anaconda2-py"
  },
  "language_info": {
   "codemirror_mode": {
    "name": "ipython",
    "version": 2
   },
   "file_extension": ".py",
   "mimetype": "text/x-python",
   "name": "python",
   "nbconvert_exporter": "python",
   "pygments_lexer": "ipython2",
   "version": "2.7.14"
  }
 },
 "nbformat": 4,
 "nbformat_minor": 2
}
