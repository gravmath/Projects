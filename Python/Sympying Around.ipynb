{
 "cells": [
  {
   "cell_type": "code",
   "execution_count": 2,
   "metadata": {
    "collapsed": true
   },
   "outputs": [],
   "source": [
    "from sympy import *\n",
    "from __future__ import division"
   ]
  },
  {
   "cell_type": "code",
   "execution_count": 3,
   "metadata": {
    "collapsed": false
   },
   "outputs": [
    {
     "name": "stdout",
     "output_type": "stream",
     "text": [
      "IPython console for SymPy 1.0 (Python 2.7.12-32-bit) (ground types: python)\n"
     ]
    }
   ],
   "source": [
    "init_printing(use_unicode = False)\n",
    "init_session(quiet=True)"
   ]
  },
  {
   "cell_type": "code",
   "execution_count": 30,
   "metadata": {
    "collapsed": false
   },
   "outputs": [],
   "source": [
    "#coordinates\n",
    "t, x, y, z = symbols('t,x,y,z',real = True)\n",
    "\n",
    "#Euler-Lagrange for the SHO\n",
    "k, m, V, L_V = symbols('k,m,V,L_V',real=True)\n",
    "\n",
    "#Rigid body motion\n",
    "psi, theta, phi = symbols('psi,theta,phi',real=True)\n",
    "\n",
    "#Quantum box\n",
    "Psi = symbols('Psi')\n",
    "L, k1, k3, omega_1, omega_3 = symbols('L,k_1,k_3,omega_1,omega_3',real=True,positive=True)\n",
    "n1, n3 = symbols('n1,n3',integer=True)\n",
    "\n",
    "#functions\n",
    "f,g,h = symbols('f,g,h',cls=Function)"
   ]
  },
  {
   "cell_type": "markdown",
   "metadata": {},
   "source": [
    "# Trying simple simplifications "
   ]
  },
  {
   "cell_type": "code",
   "execution_count": 5,
   "metadata": {
    "collapsed": false
   },
   "outputs": [
    {
     "data": {
      "image/png": "[encoded data removed]",
      "text/latex": [
       "$$1$$"
      ],
      "text/plain": [
       "1"
      ]
     },
     "execution_count": 5,
     "metadata": {},
     "output_type": "execute_result"
    }
   ],
   "source": [
    "simplify(sin(x)**2 + cos(x)**2)"
   ]
  },
  {
   "cell_type": "code",
   "execution_count": 6,
   "metadata": {
    "collapsed": false
   },
   "outputs": [
    {
     "data": {
      "image/png": "[encoded data removed]",
      "text/latex": [
       "$$1$$"
      ],
      "text/plain": [
       "1"
      ]
     },
     "execution_count": 6,
     "metadata": {},
     "output_type": "execute_result"
    }
   ],
   "source": [
    "trigsimp(sin(x)**2+cos(x)**2)"
   ]
  },
  {
   "cell_type": "code",
   "execution_count": 7,
   "metadata": {
    "collapsed": false
   },
   "outputs": [
    {
     "data": {
      "image/png": "[encoded data removed]",
      "text/latex": [
       "$$x - 1$$"
      ],
      "text/plain": [
       "x - 1"
      ]
     },
     "execution_count": 7,
     "metadata": {},
     "output_type": "execute_result"
    }
   ],
   "source": [
    "simplify((x**3+x**2-x-1)/(x**2+2*x+1))"
   ]
  },
  {
   "cell_type": "code",
   "execution_count": 8,
   "metadata": {
    "collapsed": false
   },
   "outputs": [
    {
     "data": {
      "image/png": "[encoded data removed]",
      "text/latex": [
       "$$\\left(x - 2\\right) \\left(x - 1\\right)$$"
      ],
      "text/plain": [
       "(x - 2)⋅(x - 1)"
      ]
     },
     "execution_count": 8,
     "metadata": {},
     "output_type": "execute_result"
    }
   ],
   "source": [
    "simplify(gamma(x)/gamma(x-2))"
   ]
  },
  {
   "cell_type": "markdown",
   "metadata": {},
   "source": [
    "# Now try collecting terms"
   ]
  },
  {
   "cell_type": "code",
   "execution_count": 9,
   "metadata": {
    "collapsed": false
   },
   "outputs": [
    {
     "data": {
      "image/png": "[encoded data removed]",
      "text/latex": [
       "$$x^{3} - x^{2} z + 2 x^{2} + x y + x - 3$$"
      ],
      "text/plain": [
       " 3    2        2              \n",
       "x  - x ⋅z + 2⋅x  + x⋅y + x - 3"
      ]
     },
     "execution_count": 9,
     "metadata": {},
     "output_type": "execute_result"
    }
   ],
   "source": [
    "expr = x*y + x - 3 + 2*x**2 - z*x**2 + x**3\n",
    "expr"
   ]
  },
  {
   "cell_type": "code",
   "execution_count": 10,
   "metadata": {
    "collapsed": false
   },
   "outputs": [],
   "source": [
    "collected_expr = collect(expr,x)"
   ]
  },
  {
   "cell_type": "code",
   "execution_count": 11,
   "metadata": {
    "collapsed": false
   },
   "outputs": [
    {
     "data": {
      "image/png": "[encoded data removed]",
      "text/latex": [
       "$$x^{3} + x^{2} \\left(- z + 2\\right) + x \\left(y + 1\\right) - 3$$"
      ],
      "text/plain": [
       " 3    2                         \n",
       "x  + x ⋅(-z + 2) + x⋅(y + 1) - 3"
      ]
     },
     "execution_count": 11,
     "metadata": {},
     "output_type": "execute_result"
    }
   ],
   "source": [
    "collected_expr"
   ]
  },
  {
   "cell_type": "code",
   "execution_count": 12,
   "metadata": {
    "collapsed": false
   },
   "outputs": [
    {
     "data": {
      "image/png": "[encoded data removed]",
      "text/latex": [
       "$$- z + 2$$"
      ],
      "text/plain": [
       "-z + 2"
      ]
     },
     "execution_count": 12,
     "metadata": {},
     "output_type": "execute_result"
    }
   ],
   "source": [
    "expr.coeff(x,2)"
   ]
  },
  {
   "cell_type": "markdown",
   "metadata": {},
   "source": [
    "# Differentiation - always fun"
   ]
  },
  {
   "cell_type": "code",
   "execution_count": 13,
   "metadata": {
    "collapsed": false
   },
   "outputs": [
    {
     "data": {
      "image/png": "[encoded data removed]",
      "text/latex": [
       "$$e^{x y z}$$"
      ],
      "text/plain": [
       " x⋅y⋅z\n",
       "ℯ     "
      ]
     },
     "execution_count": 13,
     "metadata": {},
     "output_type": "execute_result"
    }
   ],
   "source": [
    "expr = exp(x*y*z)\n",
    "expr"
   ]
  },
  {
   "cell_type": "code",
   "execution_count": 14,
   "metadata": {
    "collapsed": false
   },
   "outputs": [
    {
     "data": {
      "image/png": "[encoded data removed]",
      "text/latex": [
       "$$x^{3} y^{2} \\left(x^{3} y^{3} z^{3} + 14 x^{2} y^{2} z^{2} + 52 x y z + 48\\right) e^{x y z}$$"
      ],
      "text/plain": [
       " 3  2 ⎛ 3  3  3       2  2  2                ⎞  x⋅y⋅z\n",
       "x ⋅y ⋅⎝x ⋅y ⋅z  + 14⋅x ⋅y ⋅z  + 52⋅x⋅y⋅z + 48⎠⋅ℯ     "
      ]
     },
     "execution_count": 14,
     "metadata": {},
     "output_type": "execute_result"
    }
   ],
   "source": [
    "expr.diff(x,y,y,z,z,z,z)"
   ]
  },
  {
   "cell_type": "code",
   "execution_count": 15,
   "metadata": {
    "collapsed": false
   },
   "outputs": [
    {
     "data": {
      "image/png": "[encoded data removed]",
      "text/latex": [
       "$$x^{3} y^{2} \\left(x^{3} y^{3} z^{3} + 14 x^{2} y^{2} z^{2} + 52 x y z + 48\\right) e^{x y z}$$"
      ],
      "text/plain": [
       " 3  2 ⎛ 3  3  3       2  2  2                ⎞  x⋅y⋅z\n",
       "x ⋅y ⋅⎝x ⋅y ⋅z  + 14⋅x ⋅y ⋅z  + 52⋅x⋅y⋅z + 48⎠⋅ℯ     "
      ]
     },
     "execution_count": 15,
     "metadata": {},
     "output_type": "execute_result"
    }
   ],
   "source": [
    "expr.diff(x,1,y,2,z,4)"
   ]
  },
  {
   "cell_type": "markdown",
   "metadata": {},
   "source": [
    "# Euler-Lagrange Equations for the SHO"
   ]
  },
  {
   "cell_type": "code",
   "execution_count": 16,
   "metadata": {
    "collapsed": false
   },
   "outputs": [
    {
     "data": {
      "image/png": "[encoded data removed]",
      "text/latex": [
       "$$\\frac{d}{d t} x{\\left (t \\right )}$$"
      ],
      "text/plain": [
       "d       \n",
       "──(x(t))\n",
       "dt      "
      ]
     },
     "execution_count": 16,
     "metadata": {},
     "output_type": "execute_result"
    }
   ],
   "source": [
    "vx = diff(x(t),t)\n",
    "vx"
   ]
  },
  {
   "cell_type": "code",
   "execution_count": 17,
   "metadata": {
    "collapsed": false
   },
   "outputs": [
    {
     "data": {
      "image/png": "[encoded data removed]",
      "text/latex": [
       "$$\\frac{m}{2} \\frac{d}{d t} x{\\left (t \\right )}^{2} - V{\\left (x{\\left (t \\right )} \\right )}$$"
      ],
      "text/plain": [
       "            2          \n",
       "  ⎛d       ⎞           \n",
       "m⋅⎜──(x(t))⎟           \n",
       "  ⎝dt      ⎠           \n",
       "───────────── - V(x(t))\n",
       "      2                "
      ]
     },
     "execution_count": 17,
     "metadata": {},
     "output_type": "execute_result"
    }
   ],
   "source": [
    "L_V = m*vx**2/2-V(x(t))\n",
    "L_V"
   ]
  },
  {
   "cell_type": "code",
   "execution_count": 18,
   "metadata": {
    "collapsed": false
   },
   "outputs": [
    {
     "data": {
      "image/png": "[encoded data removed]",
      "text/latex": [
       "$$\\left ( m \\frac{d}{d t} x{\\left (t \\right )}, \\quad - \\frac{d}{d x{\\left (t \\right )}} V{\\left (x{\\left (t \\right )} \\right )}\\right )$$"
      ],
      "text/plain": [
       "⎛  d            d           ⎞\n",
       "⎜m⋅──(x(t)), -─────(V(x(t)))⎟\n",
       "⎝  dt         dx(t)         ⎠"
      ]
     },
     "execution_count": 18,
     "metadata": {},
     "output_type": "execute_result"
    }
   ],
   "source": [
    "px = diff(L_V,vx)\n",
    "Gx = diff(L_V,x(t))\n",
    "px, Gx"
   ]
  },
  {
   "cell_type": "code",
   "execution_count": 19,
   "metadata": {
    "collapsed": false
   },
   "outputs": [
    {
     "data": {
      "image/png": "[encoded data removed]",
      "text/latex": [
       "$$m \\frac{d^{2}}{d t^{2}}  x{\\left (t \\right )} + \\frac{d}{d x{\\left (t \\right )}} V{\\left (x{\\left (t \\right )} \\right )}$$"
      ],
      "text/plain": [
       "    2                       \n",
       "   d            d           \n",
       "m⋅───(x(t)) + ─────(V(x(t)))\n",
       "    2         dx(t)         \n",
       "  dt                        "
      ]
     },
     "execution_count": 19,
     "metadata": {},
     "output_type": "execute_result"
    }
   ],
   "source": [
    "EL = diff(px,t)-Gx\n",
    "EL"
   ]
  },
  {
   "cell_type": "code",
   "execution_count": 20,
   "metadata": {
    "collapsed": false
   },
   "outputs": [],
   "source": [
    "EL_sho = EL.subs({V(x(t)):k/2*x(t)**2}).doit()"
   ]
  },
  {
   "cell_type": "code",
   "execution_count": 21,
   "metadata": {
    "collapsed": false
   },
   "outputs": [
    {
     "data": {
      "image/png": "[encoded data removed]",
      "text/latex": [
       "$$\\frac{k}{m} x{\\left (t \\right )} + \\frac{d^{2}}{d t^{2}}  x{\\left (t \\right )}$$"
      ],
      "text/plain": [
       "           2      \n",
       "k⋅x(t)    d       \n",
       "────── + ───(x(t))\n",
       "  m        2      \n",
       "         dt       "
      ]
     },
     "execution_count": 21,
     "metadata": {},
     "output_type": "execute_result"
    }
   ],
   "source": [
    "simplify(EL_sho/m)"
   ]
  },
  {
   "cell_type": "markdown",
   "metadata": {},
   "source": [
    "# Rigid body motion"
   ]
  },
  {
   "cell_type": "code",
   "execution_count": 22,
   "metadata": {
    "collapsed": false
   },
   "outputs": [],
   "source": [
    "Mx = Matrix([[1,0,0],[0,cos(psi(t)),sin(psi(t))],[0,-sin(psi(t)),cos(psi(t))]])\n",
    "My = Matrix([[cos(theta),0,-sin(theta)],[0,1,0],[sin(theta),0,cos(theta)]])\n",
    "Mz = Matrix([[cos(phi),sin(phi),0],[-sin(phi),cos(phi),0],[0,0,1]])"
   ]
  },
  {
   "cell_type": "code",
   "execution_count": 23,
   "metadata": {
    "collapsed": false
   },
   "outputs": [
    {
     "data": {
      "image/png": "[encoded data removed]",
      "text/latex": [
       "$$\\left[\\begin{matrix}0 & 1 & 0\\\\-1 & 0 & 0\\\\0 & 0 & 0\\end{matrix}\\right]$$"
      ],
      "text/plain": [
       "⎡0   1  0⎤\n",
       "⎢        ⎥\n",
       "⎢-1  0  0⎥\n",
       "⎢        ⎥\n",
       "⎣0   0  0⎦"
      ]
     },
     "execution_count": 23,
     "metadata": {},
     "output_type": "execute_result"
    }
   ],
   "source": [
    "(Mx*My*Mz).diff(phi).subs({phi:0,theta:0,psi(t):0})"
   ]
  },
  {
   "cell_type": "code",
   "execution_count": 24,
   "metadata": {
    "collapsed": false
   },
   "outputs": [
    {
     "data": {
      "image/png": "[encoded data removed]",
      "text/latex": [
       "$$\\left[\\begin{matrix}1 & 0 & 0\\\\0 & \\cos{\\left (2 \\psi{\\left (t \\right )} \\right )} & \\sin{\\left (2 \\psi{\\left (t \\right )} \\right )}\\\\0 & - \\sin{\\left (2 \\psi{\\left (t \\right )} \\right )} & \\cos{\\left (2 \\psi{\\left (t \\right )} \\right )}\\end{matrix}\\right]$$"
      ],
      "text/plain": [
       "⎡1       0             0     ⎤\n",
       "⎢                            ⎥\n",
       "⎢0  cos(2⋅ψ(t))   sin(2⋅ψ(t))⎥\n",
       "⎢                            ⎥\n",
       "⎣0  -sin(2⋅ψ(t))  cos(2⋅ψ(t))⎦"
      ]
     },
     "execution_count": 24,
     "metadata": {},
     "output_type": "execute_result"
    }
   ],
   "source": [
    "trigsimp(Mx*Mx)"
   ]
  },
  {
   "cell_type": "code",
   "execution_count": 25,
   "metadata": {
    "collapsed": false
   },
   "outputs": [
    {
     "data": {
      "image/png": "[encoded data removed]",
      "text/latex": [
       "$$\\left[\\begin{matrix}0 & 0 & 0\\\\0 & - 2 \\sin{\\left (2 \\psi{\\left (t \\right )} \\right )} \\frac{d}{d t} \\psi{\\left (t \\right )} & 2 \\cos{\\left (2 \\psi{\\left (t \\right )} \\right )} \\frac{d}{d t} \\psi{\\left (t \\right )}\\\\0 & - 2 \\cos{\\left (2 \\psi{\\left (t \\right )} \\right )} \\frac{d}{d t} \\psi{\\left (t \\right )} & - 2 \\sin{\\left (2 \\psi{\\left (t \\right )} \\right )} \\frac{d}{d t} \\psi{\\left (t \\right )}\\end{matrix}\\right]$$"
      ],
      "text/plain": [
       "⎡0             0                        0           ⎤\n",
       "⎢                                                   ⎥\n",
       "⎢                  d                       d        ⎥\n",
       "⎢0  -2⋅sin(2⋅ψ(t))⋅──(ψ(t))  2⋅cos(2⋅ψ(t))⋅──(ψ(t)) ⎥\n",
       "⎢                  dt                      dt       ⎥\n",
       "⎢                                                   ⎥\n",
       "⎢                  d                        d       ⎥\n",
       "⎢0  -2⋅cos(2⋅ψ(t))⋅──(ψ(t))  -2⋅sin(2⋅ψ(t))⋅──(ψ(t))⎥\n",
       "⎣                  dt                       dt      ⎦"
      ]
     },
     "execution_count": 25,
     "metadata": {},
     "output_type": "execute_result"
    }
   ],
   "source": [
    "factor(trigsimp(Mx*Mx).diff(t))"
   ]
  },
  {
   "cell_type": "markdown",
   "metadata": {},
   "source": [
    "# Quantum Mechanics in a Box"
   ]
  },
  {
   "cell_type": "code",
   "execution_count": 51,
   "metadata": {
    "collapsed": true
   },
   "outputs": [],
   "source": [
    "k1 = pi/L\n",
    "k3 = 3*pi/L\n",
    "hbar  = 4.14e-15\n",
    "L_box = 200e-9\n",
    "c     = 3e8\n",
    "K1    = k1.subs({L:L_box})\n",
    "K3    = k3.subs({L:L_box})\n",
    "me    = 0.511e6/c**2\n",
    "w1    = hbar**2*K1**2/(2.0*me)\n",
    "w3    = hbar**2*K3**2/(2.0*me)"
   ]
  },
  {
   "cell_type": "code",
   "execution_count": 47,
   "metadata": {
    "collapsed": false
   },
   "outputs": [],
   "source": [
    "Psi = sqrt(1/L)*(exp(-I*omega_1*t)*sin(k1*x)+exp(-I*omega_3*t)*sin(k3*x))"
   ]
  },
  {
   "cell_type": "code",
   "execution_count": 48,
   "metadata": {
    "collapsed": false
   },
   "outputs": [],
   "source": [
    "Psi_0 = Psi.subs({t:0})"
   ]
  },
  {
   "cell_type": "code",
   "execution_count": 49,
   "metadata": {
    "collapsed": false
   },
   "outputs": [
    {
     "data": {
      "image/png": "[encoded data removed]",
      "text/latex": [
       "$$1$$"
      ],
      "text/plain": [
       "1"
      ]
     },
     "execution_count": 49,
     "metadata": {},
     "output_type": "execute_result"
    }
   ],
   "source": [
    "integrate(expand(Psi_0.conjugate()*Psi_0),(x,0,L))"
   ]
  },
  {
   "cell_type": "code",
   "execution_count": 53,
   "metadata": {
    "collapsed": false
   },
   "outputs": [],
   "source": [
    "Prob = expand(Psi*Psi.conjugate())"
   ]
  },
  {
   "cell_type": "code",
   "execution_count": 54,
   "metadata": {
    "collapsed": false
   },
   "outputs": [
    {
     "data": {
      "image/png": "[encoded data removed]",
      "text/latex": [
       "$$\\frac{1}{L} e^{i \\omega_{1} t} e^{- i \\omega_{3} t} \\sin{\\left (\\frac{\\pi x}{L} \\right )} \\sin{\\left (\\frac{3 \\pi}{L} x \\right )} + \\frac{1}{L} \\sin^{2}{\\left (\\frac{\\pi x}{L} \\right )} + \\frac{1}{L} \\sin^{2}{\\left (\\frac{3 \\pi}{L} x \\right )} + \\frac{1}{L} e^{- i \\omega_{1} t} e^{i \\omega_{3} t} \\sin{\\left (\\frac{\\pi x}{L} \\right )} \\sin{\\left (\\frac{3 \\pi}{L} x \\right )}$$"
      ],
      "text/plain": [
       " ⅈ⋅ω₁⋅t  -ⅈ⋅ω₃⋅t    ⎛π⋅x⎞    ⎛3⋅π⋅x⎞      2⎛π⋅x⎞      2⎛3⋅π⋅x⎞    -ⅈ⋅ω₁⋅t  ⅈ⋅ω\n",
       "ℯ      ⋅ℯ       ⋅sin⎜───⎟⋅sin⎜─────⎟   sin ⎜───⎟   sin ⎜─────⎟   ℯ       ⋅ℯ   \n",
       "                    ⎝ L ⎠    ⎝  L  ⎠       ⎝ L ⎠       ⎝  L  ⎠                \n",
       "──────────────────────────────────── + ───────── + ─────────── + ─────────────\n",
       "                 L                         L            L                     \n",
       "\n",
       "₃⋅t    ⎛π⋅x⎞    ⎛3⋅π⋅x⎞\n",
       "   ⋅sin⎜───⎟⋅sin⎜─────⎟\n",
       "       ⎝ L ⎠    ⎝  L  ⎠\n",
       "───────────────────────\n",
       "    L                  "
      ]
     },
     "execution_count": 54,
     "metadata": {},
     "output_type": "execute_result"
    }
   ],
   "source": [
    "Prob"
   ]
  },
  {
   "cell_type": "code",
   "execution_count": 82,
   "metadata": {
    "collapsed": false
   },
   "outputs": [],
   "source": [
    "Prob0 = Prob.subs({L:L_box,k1:K1,k3:K3,omega_1:w1,omega_3:w3,t:0})\n",
    "Prob1 = Prob.subs({L:L_box,k1:K1,k3:K3,omega_1:w1,omega_3:w3,t:0.1})"
   ]
  },
  {
   "cell_type": "code",
   "execution_count": 83,
   "metadata": {
    "collapsed": false
   },
   "outputs": [
    {
     "name": "stdout",
     "output_type": "stream",
     "text": [
      "5000000.0*sin(5000000.0*pi*x)**2 + 10000000.0*sin(5000000.0*pi*x)*sin(15000000.0*pi*x) + 5000000.0*sin(15000000.0*pi*x)**2\n",
      "5000000.0*sin(5000000.0*pi*x)**2 + 5000000.0*exp(-3.01871624266145e-5*I*pi**2)*sin(5000000.0*pi*x)*sin(15000000.0*pi*x) + 5000000.0*exp(3.01871624266145e-5*I*pi**2)*sin(5000000.0*pi*x)*sin(15000000.0*pi*x) + 5000000.0*sin(15000000.0*pi*x)**2\n"
     ]
    }
   ],
   "source": [
    "print Prob0\n",
    "print Prob1"
   ]
  },
  {
   "cell_type": "code",
   "execution_count": 84,
   "metadata": {
    "collapsed": false
   },
   "outputs": [
    {
     "name": "stdout",
     "output_type": "stream",
     "text": [
      "3750000.00000000\n",
      "3750000.00000000\n"
     ]
    }
   ],
   "source": [
    "print Prob0.subs({x:L_box/3.0}).evalf()\n",
    "print Prob1.subs({x:L_box/3.0}).evalf()"
   ]
  },
  {
   "cell_type": "code",
   "execution_count": 91,
   "metadata": {
    "collapsed": false
   },
   "outputs": [
    {
     "ename": "AttributeError",
     "evalue": "'Zero' object has no attribute 'real'",
     "output_type": "error",
     "traceback": [
      "\u001b[0;31m---------------------------------------------------------------------------\u001b[0m",
      "\u001b[0;31mAttributeError\u001b[0m                            Traceback (most recent call last)",
      "\u001b[0;32m<ipython-input-91-2fb45e1b3b48>\u001b[0m in \u001b[0;36m<module>\u001b[0;34m()\u001b[0m\n\u001b[1;32m      1\u001b[0m \u001b[0mx_knots\u001b[0m     \u001b[1;33m=\u001b[0m \u001b[0mnp\u001b[0m\u001b[1;33m.\u001b[0m\u001b[0mlinspace\u001b[0m\u001b[1;33m(\u001b[0m\u001b[1;36m0\u001b[0m\u001b[1;33m,\u001b[0m\u001b[1;36m200e-9\u001b[0m\u001b[1;33m,\u001b[0m\u001b[1;36m100\u001b[0m\u001b[1;33m)\u001b[0m\u001b[1;33m\u001b[0m\u001b[0m\n\u001b[1;32m      2\u001b[0m \u001b[0mProb0_knots\u001b[0m \u001b[1;33m=\u001b[0m \u001b[1;33m[\u001b[0m\u001b[0mProb0\u001b[0m\u001b[1;33m.\u001b[0m\u001b[0msubs\u001b[0m\u001b[1;33m(\u001b[0m\u001b[1;33m{\u001b[0m\u001b[0mx\u001b[0m\u001b[1;33m:\u001b[0m\u001b[0mxk\u001b[0m\u001b[1;33m}\u001b[0m\u001b[1;33m)\u001b[0m\u001b[1;33m.\u001b[0m\u001b[0mevalf\u001b[0m\u001b[1;33m(\u001b[0m\u001b[1;33m)\u001b[0m \u001b[1;32mfor\u001b[0m \u001b[0mxk\u001b[0m \u001b[1;32min\u001b[0m \u001b[0mx_knots\u001b[0m\u001b[1;33m]\u001b[0m\u001b[1;33m\u001b[0m\u001b[0m\n\u001b[0;32m----> 3\u001b[0;31m \u001b[0mProb1_knots\u001b[0m \u001b[1;33m=\u001b[0m \u001b[1;33m[\u001b[0m\u001b[0mProb1\u001b[0m\u001b[1;33m.\u001b[0m\u001b[0msubs\u001b[0m\u001b[1;33m(\u001b[0m\u001b[1;33m{\u001b[0m\u001b[0mx\u001b[0m\u001b[1;33m:\u001b[0m\u001b[0mxk\u001b[0m\u001b[1;33m}\u001b[0m\u001b[1;33m)\u001b[0m\u001b[1;33m.\u001b[0m\u001b[0mreal\u001b[0m\u001b[1;33m(\u001b[0m\u001b[1;33m)\u001b[0m\u001b[1;33m.\u001b[0m\u001b[0mevalf\u001b[0m\u001b[1;33m(\u001b[0m\u001b[1;33m)\u001b[0m \u001b[1;32mfor\u001b[0m \u001b[0mxk\u001b[0m \u001b[1;32min\u001b[0m \u001b[0mx_knots\u001b[0m\u001b[1;33m]\u001b[0m\u001b[1;33m\u001b[0m\u001b[0m\n\u001b[0m",
      "\u001b[0;31mAttributeError\u001b[0m: 'Zero' object has no attribute 'real'"
     ]
    }
   ],
   "source": [
    "x_knots     = np.linspace(0,200e-9,100)\n",
    "Prob0_knots = [Prob0.subs({x:xk}).evalf() for xk in x_knots] \n",
    "Prob1_knots = [Prob1.subs({x:xk}).real().evalf() for xk in x_knots]"
   ]
  },
  {
   "cell_type": "code",
   "execution_count": 75,
   "metadata": {
    "collapsed": true
   },
   "outputs": [],
   "source": [
    "%matplotlib inline"
   ]
  },
  {
   "cell_type": "code",
   "execution_count": 95,
   "metadata": {
    "collapsed": false
   },
   "outputs": [
    {
     "data": {
      "image/png": "[encoded data removed]",
      "text/latex": [
       "$$80370.8825304147 + 5.0 \\cdot 10^{-20} i$$"
      ],
      "text/plain": [
       "80370.8825304147 + 0.e-19⋅ⅈ"
      ]
     },
     "execution_count": 95,
     "metadata": {},
     "output_type": "execute_result"
    }
   ],
   "source": [
    "Prob1_knots[1]"
   ]
  },
  {
   "cell_type": "code",
   "execution_count": 88,
   "metadata": {
    "collapsed": false
   },
   "outputs": [
    {
     "data": {
      "text/plain": [
       "[<matplotlib.lines.Line2D at 0xe51dff0>]"
      ]
     },
     "execution_count": 88,
     "metadata": {},
     "output_type": "execute_result"
    },
    {
     "data": {
      "image/png": "[encoded data removed]",
      "text/plain": [
       "<matplotlib.figure.Figure at 0xe47d1d0>"
      ]
     },
     "metadata": {},
     "output_type": "display_data"
    }
   ],
   "source": [
    "plt.plot(x_knots,Prob0_knots,'k-')\n",
    "#plt.plot(x_knots,Prob1_knots,'r-')"
   ]
  },
  {
   "cell_type": "code",
   "execution_count": 73,
   "metadata": {
    "collapsed": true
   },
   "outputs": [],
   "source": []
  },
  {
   "cell_type": "code",
   "execution_count": 1,
   "metadata": {
    "collapsed": true
   },
   "outputs": [],
   "source": [
    "#convert string to hex\n",
    "def toHex(s):\n",
    "    lst = []\n",
    "    for ch in s:\n",
    "        hv = hex(ord(ch)).replace('0x', '')\n",
    "        if len(hv) == 1:\n",
    "            hv = '0'+hv\n",
    "        lst.append(hv)\n",
    "    \n",
    "    return reduce(lambda x,y:x+y, lst)"
   ]
  },
  {
   "cell_type": "code",
   "execution_count": 2,
   "metadata": {
    "collapsed": false
   },
   "outputs": [
    {
     "data": {
      "text/plain": [
       "'49206c6f7665206d79207769666520616e64206b696473'"
      ]
     },
     "execution_count": 2,
     "metadata": {},
     "output_type": "execute_result"
    }
   ],
   "source": [
    "toHex('I love my wife and kids')"
   ]
  },
  {
   "cell_type": "code",
   "execution_count": null,
   "metadata": {
    "collapsed": true
   },
   "outputs": [],
   "source": [
    "32xx"
   ]
  }
 ],
 "metadata": {
  "anaconda-cloud": {},
  "kernelspec": {
   "display_name": "Python [conda root]",
   "language": "python",
   "name": "conda-root-py"
  },
  "language_info": {
   "codemirror_mode": {
    "name": "ipython",
    "version": 2
   },
   "file_extension": ".py",
   "mimetype": "text/x-python",
   "name": "python",
   "nbconvert_exporter": "python",
   "pygments_lexer": "ipython2",
   "version": "2.7.12"
  }
 },
 "nbformat": 4,
 "nbformat_minor": 2
}
