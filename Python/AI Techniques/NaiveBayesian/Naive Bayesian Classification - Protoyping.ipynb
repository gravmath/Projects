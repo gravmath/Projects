{
 "cells": [
  {
   "cell_type": "code",
   "execution_count": 8,
   "metadata": {},
   "outputs": [],
   "source": [
    "import numpy  as np\n",
    "import pandas as pd\n",
    "import scipy  as sp"
   ]
  },
  {
   "cell_type": "code",
   "execution_count": 9,
   "metadata": {},
   "outputs": [],
   "source": [
    "path       = 'c:/Users/byecs/Documents/GitHub/BlogWyrm/Posts/2020/July/Aristotle2Digital/'\n",
    "data       = 'Gemstone Data.txt'\n",
    "attributes = ['color','size','shape']\n",
    "df         = pd.read_csv(path+data,names=attributes+['authenticity'])"
   ]
  },
  {
   "cell_type": "code",
   "execution_count": 10,
   "metadata": {},
   "outputs": [],
   "source": [
    "def find_distinct_attributes(df,attributes_lst):\n",
    "    distinct_attributes = {}\n",
    "    for attribute in attributes_lst:\n",
    "        distinct_attributes[attribute] = set(df[attribute])\n",
    "\n",
    "    return distinct_attributes"
   ]
  },
  {
   "cell_type": "code",
   "execution_count": 11,
   "metadata": {},
   "outputs": [],
   "source": [
    "def calculate_Laplace_smoothed_marginals(df,distinct_attributes):\n",
    "    #initialize the marginals\n",
    "    marginals = {}\n",
    "    for attribute_type in distinct_attributes:\n",
    "        for attribute in distinct_attributes[attribute_type]:\n",
    "            marginals[attribute] = np.array([1,1])  #initializing to [1,1] implements Laplace smoothing\n",
    "            \n",
    "    for attribute_type in distinct_attributes:\n",
    "        for attribute, authenticity in zip(df[attribute_type],df['authenticity']):\n",
    "            marginals[attribute][authenticity] += 1\n",
    "            \n",
    "    return marginals    "
   ]
  },
  {
   "cell_type": "code",
   "execution_count": 12,
   "metadata": {},
   "outputs": [],
   "source": [
    "def characterize_data_set(df):\n",
    "    fake_label           = 0\n",
    "    true_label           = 1\n",
    "    summary              = {}\n",
    "    authenticity_data    = df['authenticity']\n",
    "    counts               = authenticity_data.value_counts()\n",
    "    \n",
    "    summary['num terms'] = counts[fake_label] + counts[true_label]\n",
    "    summary['num fake']  = counts[fake_label]\n",
    "    summary['num true']  = counts[true_label]\n",
    "    \n",
    "    return summary"
   ]
  },
  {
   "cell_type": "code",
   "execution_count": 13,
   "metadata": {},
   "outputs": [],
   "source": [
    "def calculate_evidence(distinct_attributes,smoothed_marginals,summary,sample_attributes):\n",
    "    fake_label           = 0\n",
    "    true_label           = 1\n",
    "    num_attributes       = len(distinct_attributes)\n",
    "    \n",
    "    prob_fake            = summary['num fake']/summary['num terms']\n",
    "    prob_true            = summary['num true']/summary['num terms']\n",
    "    smoothed_num_fake    = summary['num fake'] + num_attributes\n",
    "    smoothed_num_true    = summary['num true'] + num_attributes\n",
    "    \n",
    "    sample_evidence_fake = 1\n",
    "    for attribute in sample_attributes:\n",
    "        sample_evidence_fake *= smoothed_marginals[attribute][fake_label]/smoothed_num_fake\n",
    "    sample_evidence_fake *= prob_fake\n",
    "    \n",
    "    sample_evidence_true = 1\n",
    "    for attribute in sample_attributes:\n",
    "        sample_evidence_true *= smoothed_marginals[attribute][true_label]/smoothed_num_true\n",
    "    sample_evidence_true *= prob_true\n",
    "    \n",
    "    normalization = sample_evidence_fake + sample_evidence_true\n",
    "    \n",
    "    return sample_evidence_fake/normalization, sample_evidence_true/normalization"
   ]
  },
  {
   "cell_type": "code",
   "execution_count": 14,
   "metadata": {},
   "outputs": [],
   "source": [
    "distinct_attributes = find_distinct_attributes(df,attributes)\n",
    "smoothed_marginals  = calculate_Laplace_smoothed_marginals(df,distinct_attributes)\n",
    "summary             = characterize_data_set(df)"
   ]
  },
  {
   "cell_type": "code",
   "execution_count": 15,
   "metadata": {},
   "outputs": [
    {
     "data": {
      "text/plain": [
       "(0.3854670113521412, 0.6145329886478589)"
      ]
     },
     "execution_count": 15,
     "metadata": {},
     "output_type": "execute_result"
    }
   ],
   "source": [
    "calculate_evidence(distinct_attributes,smoothed_marginals,summary,['Cyan','Small','Twisted'])"
   ]
  },
  {
   "cell_type": "code",
   "execution_count": 83,
   "metadata": {},
   "outputs": [
    {
     "data": {
      "text/plain": [
       "Dune    20\n",
       "Aqua     9\n",
       "Cyan     6\n",
       "Blue     5\n",
       "Name: color, dtype: int64"
      ]
     },
     "execution_count": 83,
     "metadata": {},
     "output_type": "execute_result"
    }
   ],
   "source": [
    "\n",
    "df['color'].value_counts()"
   ]
  },
  {
   "cell_type": "code",
   "execution_count": null,
   "metadata": {},
   "outputs": [],
   "source": []
  }
 ],
 "metadata": {
  "anaconda-cloud": {},
  "kernelspec": {
   "display_name": "Python 3",
   "language": "python",
   "name": "python3"
  },
  "language_info": {
   "codemirror_mode": {
    "name": "ipython",
    "version": 3
   },
   "file_extension": ".py",
   "mimetype": "text/x-python",
   "name": "python",
   "nbconvert_exporter": "python",
   "pygments_lexer": "ipython3",
   "version": "3.7.6"
  }
 },
 "nbformat": 4,
 "nbformat_minor": 1
}
