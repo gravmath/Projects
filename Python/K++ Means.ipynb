{
 "cells": [
  {
   "cell_type": "code",
   "execution_count": 6,
   "metadata": {
    "collapsed": true
   },
   "outputs": [],
   "source": [
    "import random\n",
    "import copy"
   ]
  },
  {
   "cell_type": "code",
   "execution_count": 7,
   "metadata": {
    "collapsed": true
   },
   "outputs": [],
   "source": [
    "def get_init_means(k,data):\n",
    "    return np.asarray(random.sample(data,k))"
   ]
  },
  {
   "cell_type": "code",
   "execution_count": 9,
   "metadata": {
    "collapsed": false
   },
   "outputs": [
    {
     "ename": "SyntaxError",
     "evalue": "invalid syntax (<ipython-input-9-69cae4842e05>, line 1)",
     "output_type": "error",
     "traceback": [
      "\u001b[0;36m  File \u001b[0;32m\"<ipython-input-9-69cae4842e05>\"\u001b[0;36m, line \u001b[0;32m1\u001b[0m\n\u001b[0;31m    def get_init_means++(k,data):\u001b[0m\n\u001b[0m                      ^\u001b[0m\n\u001b[0;31mSyntaxError\u001b[0m\u001b[0;31m:\u001b[0m invalid syntax\n"
     ]
    }
   ],
   "source": [
    "def get_init_means++(k,data):\n",
    "    #allocate array to hold the means\n",
    "    selected_means = []\n",
    "    \n",
    "    #make a deep copy of the data\n",
    "    Q = copy.deepcopy(data)\n",
    "    \n",
    "    #select the first point randomly\n",
    "    selected_means.append(random.sample(data,1))\n",
    "    \n",
    "    #find "
   ]
  },
  {
   "cell_type": "code",
   "execution_count": 10,
   "metadata": {
    "collapsed": true
   },
   "outputs": [],
   "source": [
    "def find_cluster(curr_means,data):\n",
    "    num_pts      = len(data)\n",
    "    k            = len(curr_means)\n",
    "    cluster_list = np.zeros(num_pts,dtype=int)\n",
    "    dist         = np.zeros(k)\n",
    "    for i in range(num_pts):\n",
    "        for m in range(k):\n",
    "            l       = data[i] - curr_means[m]\n",
    "            dist[m] = l.dot(l)\n",
    "        cluster_list[i] = np.argmin(dist)\n",
    "    return cluster_list "
   ]
  },
  {
   "cell_type": "code",
   "execution_count": 11,
   "metadata": {
    "collapsed": true
   },
   "outputs": [],
   "source": [
    "def update_means(k,cluster_list,curr_data):\n",
    "    updated_means = np.zeros((k,2))\n",
    "    for i in range(k):\n",
    "        clustered_data     = curr_data[np.where(cluster_list == i)]\n",
    "        updated_means[i,:] = np.array([np.mean(clustered_data[:,0]),np.mean(clustered_data[:,1])])\n",
    "    return updated_means    "
   ]
  },
  {
   "cell_type": "code",
   "execution_count": 12,
   "metadata": {
    "collapsed": false
   },
   "outputs": [],
   "source": [
    "A = np.array([[65,220],[73,160],[59,110],[61,120],[75,150],[67,240],\n",
    "              [68,230],[70,220],[62,130],[66,210],[77,190],[75,180],\n",
    "              [74,170],[70,210],[61,110],[58,100],[66,230],[59,120],\n",
    "              [68,210],[61,130]],dtype=float)"
   ]
  },
  {
   "cell_type": "code",
   "execution_count": 13,
   "metadata": {
    "collapsed": true
   },
   "outputs": [],
   "source": [
    "red   = np.array([255,0,0,255],dtype=float)/255.0\n",
    "green = np.array([0,255,0,255],dtype=float)/255.0\n",
    "blue  = np.array([0,0,255,255],dtype=float)/255.0"
   ]
  },
  {
   "cell_type": "code",
   "execution_count": 14,
   "metadata": {
    "collapsed": false
   },
   "outputs": [
    {
     "data": {
      "text/plain": [
       "<matplotlib.text.Text at 0x77e6bf0>"
      ]
     },
     "execution_count": 14,
     "metadata": {},
     "output_type": "execute_result"
    },
    {
     "data": {
      "image/png": "[encoded data removed]",
      "text/plain": [
       "<matplotlib.figure.Figure at 0x77497d0>"
      ]
     },
     "metadata": {},
     "output_type": "display_data"
    }
   ],
   "source": [
    "plt.scatter(A[:,0],A[:,1],c='k')\n",
    "plt.xlabel('Height (in)')\n",
    "plt.ylabel('Weight (lbs)')"
   ]
  },
  {
   "cell_type": "code",
   "execution_count": 15,
   "metadata": {
    "collapsed": false
   },
   "outputs": [
    {
     "data": {
      "text/plain": [
       "(50, 200)"
      ]
     },
     "execution_count": 15,
     "metadata": {},
     "output_type": "execute_result"
    },
    {
     "data": {
      "image/png": "[encoded data removed]",
      "text/plain": [
       "<matplotlib.figure.Figure at 0x77494b0>"
      ]
     },
     "metadata": {},
     "output_type": "display_data"
    }
   ],
   "source": [
    "plt.scatter(A[:,0],A[:,1],c='k')\n",
    "plt.xlabel('Height (in)')\n",
    "plt.ylabel('Weight (lbs)')\n",
    "plt.xlim([50,200])\n",
    "plt.ylim([50,200])"
   ]
  },
  {
   "cell_type": "code",
   "execution_count": 16,
   "metadata": {
    "collapsed": true
   },
   "outputs": [],
   "source": [
    "B = copy.deepcopy(A)"
   ]
  },
  {
   "cell_type": "code",
   "execution_count": 17,
   "metadata": {
    "collapsed": true
   },
   "outputs": [],
   "source": [
    "H_mean = np.mean(A[:,0])\n",
    "H_std  = np.std(A[:,0])\n",
    "W_mean = np.mean(B[:,1])\n",
    "W_std  = np.std(A[:,1])\n",
    "B[:,0] = (A[:,0]-H_mean)/H_std\n",
    "B[:,1] = (A[:,1]-W_mean)/W_std"
   ]
  },
  {
   "cell_type": "code",
   "execution_count": 18,
   "metadata": {
    "collapsed": false
   },
   "outputs": [
    {
     "data": {
      "text/plain": [
       "<matplotlib.text.Text at 0x77e65f0>"
      ]
     },
     "execution_count": 18,
     "metadata": {},
     "output_type": "execute_result"
    },
    {
     "data": {
      "image/png": "[encoded data removed]",
      "text/plain": [
       "<matplotlib.figure.Figure at 0x797f4d0>"
      ]
     },
     "metadata": {},
     "output_type": "display_data"
    }
   ],
   "source": [
    "plt.scatter(B[:,0],B[:,1],c='k')\n",
    "plt.grid('on')\n",
    "plt.xlabel('Normalized Height')\n",
    "plt.ylabel('Normalized Weight')"
   ]
  },
  {
   "cell_type": "code",
   "execution_count": 19,
   "metadata": {
    "collapsed": true
   },
   "outputs": [],
   "source": [
    "k = 3"
   ]
  },
  {
   "cell_type": "code",
   "execution_count": 20,
   "metadata": {
    "collapsed": true
   },
   "outputs": [],
   "source": [
    "init_means = get_init_means(k,B)"
   ]
  },
  {
   "cell_type": "code",
   "execution_count": 21,
   "metadata": {
    "collapsed": false
   },
   "outputs": [],
   "source": [
    "#init_means\n",
    "init_means = np.array([B[0,:],B[2,:],B[3,:]])"
   ]
  },
  {
   "cell_type": "code",
   "execution_count": 22,
   "metadata": {
    "collapsed": true
   },
   "outputs": [],
   "source": [
    "my_dist = find_cluster(init_means,B)"
   ]
  },
  {
   "cell_type": "code",
   "execution_count": 23,
   "metadata": {
    "collapsed": false
   },
   "outputs": [
    {
     "data": {
      "text/plain": [
       "array([0, 0, 1, 2, 0, 0, 0, 0, 2, 0, 0, 0, 0, 0, 2, 1, 0, 1, 0, 2])"
      ]
     },
     "execution_count": 23,
     "metadata": {},
     "output_type": "execute_result"
    }
   ],
   "source": [
    "my_dist"
   ]
  },
  {
   "cell_type": "code",
   "execution_count": 24,
   "metadata": {
    "collapsed": false
   },
   "outputs": [],
   "source": [
    "updated_means = update_means(k,my_dist,B)"
   ]
  },
  {
   "cell_type": "code",
   "execution_count": 25,
   "metadata": {
    "collapsed": false
   },
   "outputs": [
    {
     "data": {
      "text/plain": [
       "array([[ 0.61025139,  0.6361558 ],\n",
       "       [-1.38653513, -1.33526453],\n",
       "       [-0.94341566, -1.06605797]])"
      ]
     },
     "execution_count": 25,
     "metadata": {},
     "output_type": "execute_result"
    }
   ],
   "source": [
    "updated_means"
   ]
  },
  {
   "cell_type": "code",
   "execution_count": 26,
   "metadata": {
    "collapsed": false
   },
   "outputs": [],
   "source": [
    "diff = updated_means - np.asarray(init_means)"
   ]
  },
  {
   "cell_type": "code",
   "execution_count": 27,
   "metadata": {
    "collapsed": false
   },
   "outputs": [],
   "source": [
    "init_means = updated_means"
   ]
  },
  {
   "cell_type": "code",
   "execution_count": 28,
   "metadata": {
    "collapsed": true
   },
   "outputs": [],
   "source": [
    "my_dist       = find_cluster(init_means,B)\n",
    "updated_means = update_means(k,my_dist,B)\n",
    "diff          = updated_means - init_means"
   ]
  },
  {
   "cell_type": "code",
   "execution_count": 29,
   "metadata": {
    "collapsed": false
   },
   "outputs": [
    {
     "name": "stdout",
     "output_type": "stream",
     "text": [
      "[[ 0.  0.]\n",
      " [ 0.  0.]\n",
      " [ 0.  0.]]\n"
     ]
    }
   ],
   "source": [
    "diff          = updated_means - init_means\n",
    "print diff"
   ]
  },
  {
   "cell_type": "code",
   "execution_count": 30,
   "metadata": {
    "collapsed": false
   },
   "outputs": [
    {
     "data": {
      "text/plain": [
       "array([0, 0, 1, 2, 0, 0, 0, 0, 2, 0, 0, 0, 0, 0, 2, 1, 0, 1, 0, 2])"
      ]
     },
     "execution_count": 30,
     "metadata": {},
     "output_type": "execute_result"
    }
   ],
   "source": [
    "my_dist"
   ]
  },
  {
   "cell_type": "code",
   "execution_count": 31,
   "metadata": {
    "collapsed": false
   },
   "outputs": [
    {
     "data": {
      "text/plain": [
       "array([[  65.,  220.],\n",
       "       [  73.,  160.],\n",
       "       [  75.,  150.],\n",
       "       [  67.,  240.],\n",
       "       [  68.,  230.],\n",
       "       [  70.,  220.],\n",
       "       [  66.,  210.],\n",
       "       [  77.,  190.],\n",
       "       [  75.,  180.],\n",
       "       [  74.,  170.],\n",
       "       [  70.,  210.],\n",
       "       [  66.,  230.],\n",
       "       [  68.,  210.]])"
      ]
     },
     "execution_count": 31,
     "metadata": {},
     "output_type": "execute_result"
    }
   ],
   "source": [
    "A[my_dist==0]"
   ]
  },
  {
   "cell_type": "code",
   "execution_count": 32,
   "metadata": {
    "collapsed": false
   },
   "outputs": [
    {
     "data": {
      "text/plain": [
       "array([[  59.,  110.],\n",
       "       [  58.,  100.],\n",
       "       [  59.,  120.]])"
      ]
     },
     "execution_count": 32,
     "metadata": {},
     "output_type": "execute_result"
    }
   ],
   "source": [
    "A[my_dist==1]"
   ]
  },
  {
   "cell_type": "code",
   "execution_count": 33,
   "metadata": {
    "collapsed": false
   },
   "outputs": [
    {
     "data": {
      "text/plain": [
       "array([[  61.,  120.],\n",
       "       [  62.,  130.],\n",
       "       [  61.,  110.],\n",
       "       [  61.,  130.]])"
      ]
     },
     "execution_count": 33,
     "metadata": {},
     "output_type": "execute_result"
    }
   ],
   "source": [
    "A[my_dist==2]"
   ]
  },
  {
   "cell_type": "code",
   "execution_count": 34,
   "metadata": {
    "collapsed": false
   },
   "outputs": [
    {
     "name": "stdout",
     "output_type": "stream",
     "text": [
      "[[ 0.  0.]\n",
      " [ 0.  0.]\n",
      " [ 0.  0.]]\n"
     ]
    }
   ],
   "source": [
    "k = 3\n",
    "init_means = get_init_means(k,B)\n",
    "#init_means = np.array([B[0,:],B[2,:],B[3,:]])\n",
    "for i in range(5):\n",
    "    my_dist       = find_cluster(init_means,B)\n",
    "    updated_means = update_means(k,my_dist,B)\n",
    "    diff          = updated_means - init_means\n",
    "    init_means = updated_means\n",
    "print diff"
   ]
  },
  {
   "cell_type": "code",
   "execution_count": 35,
   "metadata": {
    "collapsed": false
   },
   "outputs": [
    {
     "data": {
      "text/plain": [
       "<matplotlib.text.Text at 0x79dbad0>"
      ]
     },
     "execution_count": 35,
     "metadata": {},
     "output_type": "execute_result"
    },
    {
     "data": {
      "image/png": "[encoded data removed]",
      "text/plain": [
       "<matplotlib.figure.Figure at 0x797f210>"
      ]
     },
     "metadata": {},
     "output_type": "display_data"
    }
   ],
   "source": [
    "colors             = np.zeros((len(A),4))\n",
    "colors[my_dist==0] = red\n",
    "colors[my_dist==1] = blue\n",
    "colors[my_dist==2] = green\n",
    "plt.scatter(A[:,0],A[:,1],c=colors,edgecolors=colors)\n",
    "plt.grid('on')\n",
    "plt.xlabel('Height (in)')\n",
    "plt.ylabel('Weight (lbs)')"
   ]
  },
  {
   "cell_type": "code",
   "execution_count": 36,
   "metadata": {
    "collapsed": false
   },
   "outputs": [
    {
     "data": {
      "text/plain": [
       "0.2222222222222222"
      ]
     },
     "execution_count": 36,
     "metadata": {},
     "output_type": "execute_result"
    }
   ],
   "source": [
    "4./18"
   ]
  },
  {
   "cell_type": "code",
   "execution_count": 37,
   "metadata": {
    "collapsed": true
   },
   "outputs": [],
   "source": [
    "Q = copy.deepcopy(A)"
   ]
  },
  {
   "cell_type": "code",
   "execution_count": 76,
   "metadata": {
    "collapsed": false
   },
   "outputs": [],
   "source": [
    "q1 = random.sample(A,1)[0]"
   ]
  },
  {
   "cell_type": "code",
   "execution_count": 77,
   "metadata": {
    "collapsed": false
   },
   "outputs": [
    {
     "data": {
      "text/plain": [
       "array([  61.,  130.])"
      ]
     },
     "execution_count": 77,
     "metadata": {},
     "output_type": "execute_result"
    }
   ],
   "source": [
    "q1"
   ]
  },
  {
   "cell_type": "code",
   "execution_count": 41,
   "metadata": {
    "collapsed": false
   },
   "outputs": [],
   "source": [
    "i1 = np.where(Q==q1)"
   ]
  },
  {
   "cell_type": "code",
   "execution_count": 44,
   "metadata": {
    "collapsed": false
   },
   "outputs": [
    {
     "data": {
      "text/plain": [
       "array([ 4,  4, 11])"
      ]
     },
     "execution_count": 44,
     "metadata": {},
     "output_type": "execute_result"
    }
   ],
   "source": [
    "i1[0]"
   ]
  },
  {
   "cell_type": "code",
   "execution_count": 64,
   "metadata": {
    "collapsed": false
   },
   "outputs": [],
   "source": [
    "Q = np.delete(Q,np.where(np.all(Q==q1,axis=1)==True),axis=0)"
   ]
  },
  {
   "cell_type": "code",
   "execution_count": 71,
   "metadata": {
    "collapsed": false
   },
   "outputs": [],
   "source": [
    "def calculate_fitness(center,Q):\n",
    "    return center.dot(Q.T)        "
   ]
  },
  {
   "cell_type": "code",
   "execution_count": 72,
   "metadata": {
    "collapsed": false
   },
   "outputs": [
    {
     "ename": "AttributeError",
     "evalue": "'list' object has no attribute 'dot'",
     "output_type": "error",
     "traceback": [
      "\u001b[0;31m---------------------------------------------------------------------------\u001b[0m",
      "\u001b[0;31mAttributeError\u001b[0m                            Traceback (most recent call last)",
      "\u001b[0;32m<ipython-input-72-e1ce1c75ab6b>\u001b[0m in \u001b[0;36m<module>\u001b[0;34m()\u001b[0m\n\u001b[0;32m----> 1\u001b[0;31m \u001b[0mcalculate_fitness\u001b[0m\u001b[1;33m(\u001b[0m\u001b[0mq1\u001b[0m\u001b[1;33m,\u001b[0m\u001b[0mQ\u001b[0m\u001b[1;33m)\u001b[0m\u001b[1;33m\u001b[0m\u001b[0m\n\u001b[0m",
      "\u001b[0;32m<ipython-input-71-5a65648feab8>\u001b[0m in \u001b[0;36mcalculate_fitness\u001b[0;34m(center, Q)\u001b[0m\n\u001b[1;32m      1\u001b[0m \u001b[1;32mdef\u001b[0m \u001b[0mcalculate_fitness\u001b[0m\u001b[1;33m(\u001b[0m\u001b[0mcenter\u001b[0m\u001b[1;33m,\u001b[0m\u001b[0mQ\u001b[0m\u001b[1;33m)\u001b[0m\u001b[1;33m:\u001b[0m\u001b[1;33m\u001b[0m\u001b[0m\n\u001b[0;32m----> 2\u001b[0;31m     \u001b[1;32mreturn\u001b[0m \u001b[0mcenter\u001b[0m\u001b[1;33m.\u001b[0m\u001b[0mdot\u001b[0m\u001b[1;33m(\u001b[0m\u001b[0mQ\u001b[0m\u001b[1;33m.\u001b[0m\u001b[0mT\u001b[0m\u001b[1;33m)\u001b[0m\u001b[1;33m\u001b[0m\u001b[0m\n\u001b[0m",
      "\u001b[0;31mAttributeError\u001b[0m: 'list' object has no attribute 'dot'"
     ]
    }
   ],
   "source": [
    "calculate_fitness(q1,Q)"
   ]
  },
  {
   "cell_type": "code",
   "execution_count": 73,
   "metadata": {
    "collapsed": false
   },
   "outputs": [
    {
     "data": {
      "text/plain": [
       "array([[  65.,  220.],\n",
       "       [  73.,  160.],\n",
       "       [  59.,  110.],\n",
       "       [  61.,  120.],\n",
       "       [  67.,  240.],\n",
       "       [  68.,  230.],\n",
       "       [  70.,  220.],\n",
       "       [  62.,  130.],\n",
       "       [  66.,  210.],\n",
       "       [  77.,  190.],\n",
       "       [  75.,  180.],\n",
       "       [  74.,  170.],\n",
       "       [  70.,  210.],\n",
       "       [  61.,  110.],\n",
       "       [  58.,  100.],\n",
       "       [  66.,  230.],\n",
       "       [  59.,  120.],\n",
       "       [  68.,  210.],\n",
       "       [  61.,  130.]])"
      ]
     },
     "execution_count": 73,
     "metadata": {},
     "output_type": "execute_result"
    }
   ],
   "source": [
    "Q"
   ]
  },
  {
   "cell_type": "code",
   "execution_count": 74,
   "metadata": {
    "collapsed": false
   },
   "outputs": [
    {
     "data": {
      "text/plain": [
       "[array([  75.,  150.])]"
      ]
     },
     "execution_count": 74,
     "metadata": {},
     "output_type": "execute_result"
    }
   ],
   "source": [
    "q1"
   ]
  },
  {
   "cell_type": "code",
   "execution_count": 78,
   "metadata": {
    "collapsed": false
   },
   "outputs": [
    {
     "data": {
      "text/plain": [
       "array([ 32565.,  25253.,  17899.,  19321.,  35287.,  34048.,  32870.,\n",
       "        20682.,  31326.,  29397.,  27975.,  26614.,  31570.,  18021.,\n",
       "        16538.,  33926.,  19199.,  31448.,  20621.])"
      ]
     },
     "execution_count": 78,
     "metadata": {},
     "output_type": "execute_result"
    }
   ],
   "source": [
    "q1.dot(Q.T)"
   ]
  },
  {
   "cell_type": "code",
   "execution_count": 172,
   "metadata": {
    "collapsed": false
   },
   "outputs": [
    {
     "name": "stdout",
     "output_type": "stream",
     "text": [
      "means:\n",
      "[[ 1.24359337 -0.04307305]\n",
      " [ 0.          0.        ]\n",
      " [ 0.          0.        ]] \n",
      "len(Q):\n",
      "19\n",
      "fit:\n",
      "[[ 0.]\n",
      " [ 0.]\n",
      " [ 0.]\n",
      " [ 0.]\n",
      " [ 0.]\n",
      " [ 0.]\n",
      " [ 0.]\n",
      " [ 0.]\n",
      " [ 0.]\n",
      " [ 0.]\n",
      " [ 0.]\n",
      " [ 0.]\n",
      " [ 0.]\n",
      " [ 0.]\n",
      " [ 0.]\n",
      " [ 0.]\n",
      " [ 0.]\n",
      " [ 0.]\n",
      " [ 0.]]\n",
      "fit:\n",
      "[[  1.           6.83634637   0.65373127   0.76010271   4.05977768\n",
      "    0.97662091   1.13939106   1.47413218   0.84353423   1.16170115\n",
      "    2.80482602   6.83634637   1.70908659   0.73032668   0.60110531\n",
      "    0.99858882   0.67482739   1.40241301   0.78737572]\n",
      " [  0.14627697   1.           0.09562583   0.11118552   0.59385196\n",
      "    0.14285714   0.16666667   0.21563158   0.12338963   0.16993012\n",
      "    0.41028144   1.           0.25         0.10682997   0.08792786\n",
      "    0.14607054   0.0987117    0.20514072   0.11517493]\n",
      " [  1.52968053  10.45742592   1.           1.16271431   6.21016286\n",
      "    1.49391799   1.74290432   2.2549513    1.29033789   1.77703162\n",
      "    4.29048775  10.45742592   2.61435648   1.1171665    0.91949908\n",
      "    1.52752188   1.03227031   2.14524387   1.20443331]\n",
      " [  1.31561168   8.99397711   0.8600565    1.           5.34109092\n",
      "    1.28485387   1.49899619   1.93938551   1.10976349   1.52834759\n",
      "    3.69006186   8.99397711   2.24849428   0.96082631   0.79082116\n",
      "    1.31375512   0.88781079   1.84503093   1.03588069]\n",
      " [  0.24631891   1.68392136   0.16102637   0.18722767   1.           0.24056019\n",
      "    0.28065356   0.36310663   0.20777843   0.28614896   0.69088168\n",
      "    1.68392136   0.42098034   0.17989327   0.1480636    0.24597131\n",
      "    0.16622274   0.34544084   0.19394553]\n",
      " [  1.02393876   7.           0.66938079   0.77829862   4.15696371   1.\n",
      "    1.16666667   1.50942108   0.8637274    1.18951083   2.87197007   7.\n",
      "    1.75         0.74780979   0.61549502   1.0224938    0.69098192\n",
      "    1.43598503   0.80622452]\n",
      " [  0.87766179   6.           0.57375496   0.66711311   3.56311175\n",
      "    0.85714286   1.           1.29378949   0.74033777   1.01958071\n",
      "    2.46168863   6.           1.5          0.64097982   0.52756716\n",
      "    0.87642326   0.59227021   1.23084431   0.69104959]\n",
      " [  0.67836522   4.63753959   0.44346856   0.51562724   2.75401197\n",
      "    0.66250566   0.77292327   1.           0.57222428   0.78805765\n",
      "    1.90269641   4.63753959   1.1593849    0.49542822   0.40776893\n",
      "    0.67740792   0.45777943   0.95134821   0.5341283 ]\n",
      " [  1.18548834   8.10440891   0.7749908    0.9010929    4.8128191\n",
      "    1.1577727    1.35073482   1.74756652   1.           1.37718316\n",
      "    3.32508854   8.10440891   2.02610223   0.86579377   0.71260333\n",
      "    1.18381541   0.8          1.66254427   0.93342474]\n",
      " [  0.86080659   5.88477199   0.56273619   0.65430142   3.49468337\n",
      "    0.84068171   0.98079533   1.2689427    0.72611983   1.           2.41441272\n",
      "    5.88477199   1.471193     0.62867002   0.51743541   0.85959184\n",
      "    0.58089586   1.20720636   0.67777821]\n",
      " [  0.35652835   2.43735131   0.23307373   0.27099817   1.44742585\n",
      "    0.34819304   0.40622522   0.52556992   0.30074387   0.4141794    1.\n",
      "    2.43735131   0.60933783   0.26038217   0.21431108   0.35602523\n",
      "    0.2405951    0.5          0.28072177]\n",
      " [  0.14627697   1.           0.09562583   0.11118552   0.59385196\n",
      "    0.14285714   0.16666667   0.21563158   0.12338963   0.16993012\n",
      "    0.41028144   1.           0.25         0.10682997   0.08792786\n",
      "    0.14607054   0.0987117    0.20514072   0.11517493]\n",
      " [  0.58510786   4.           0.38250331   0.44474207   2.37540783\n",
      "    0.57142857   0.66666667   0.86252633   0.49355851   0.67972047\n",
      "    1.64112575   4.           1.           0.42731988   0.35171144\n",
      "    0.58428217   0.39484681   0.82056288   0.46069972]\n",
      " [  1.36925026   9.36066906   0.89512172   1.04077083   5.55885165\n",
      "    1.33723844   1.56011151   2.01845588   1.15500947   1.5906596\n",
      "    3.84050876   9.36066906   2.34016726   1.           0.8230636\n",
      "    1.36731801   0.92400758   1.92025438   1.07811441]\n",
      " [  1.66360201  11.37295959   1.08754866   1.2645084    6.75385433\n",
      "    1.62470851   1.89549327   2.45236927   1.40330525   1.93260837\n",
      "    4.66611422  11.37295959   2.8432399    1.21497294   1.           1.66125438\n",
      "    1.1226442    2.33305711   1.30987983]\n",
      " [  1.00141317   6.84600729   0.65465511   0.76117686   4.06551484\n",
      "    0.97800104   1.14100122   1.47621538   0.84472629   1.16334283\n",
      "    2.80878972   6.84600729   1.71150182   0.73135876   0.60195477   1.\n",
      "    0.67578103   1.40439486   0.78848842]\n",
      " [  1.48186043  10.13051114   0.9687385    1.12636612   6.01602388\n",
      "    1.44721588   1.68841852   2.18445815   1.25         1.72147895\n",
      "    4.15636068  10.13051114   2.53262778   1.08224221   0.89075417\n",
      "    1.47976926   1.           2.07818034   1.16678092]\n",
      " [  0.71305671   4.87470262   0.46614747   0.54199633   2.8948517\n",
      "    0.69638609   0.81245044   1.05113984   0.60148774   0.82835879   2.\n",
      "    4.87470262   1.21867565   0.52076434   0.42862217   0.71205046\n",
      "    0.48119019   1.           0.56144354]\n",
      " [  1.2700417    8.68244498   0.83026598   0.96536214   5.15608695\n",
      "    1.24034928   1.44707416   1.87220935   1.07132366   1.4754089\n",
      "    3.56224601   8.68244498   2.17061124   0.92754534   0.76342881\n",
      "    1.26824945   0.85705892   1.78112301   1.        ]] \n",
      "cumsum:\n",
      "[   1.            7.83634637    8.49007764    9.25018035   13.30995803\n",
      "   14.28657894   15.42597      16.90010219   17.74363642   18.90533757\n",
      "   21.71016359   28.54650995   30.25559655   30.98592323   31.58702853\n",
      "   32.58561736   33.26044475   34.66285776   35.45023348   35.59651044\n",
      "   36.59651044   36.69213627   36.80332179   37.39717374   37.54003089\n",
      "   37.70669755   37.92232914   38.04571876   38.21564888   38.62593032\n",
      "   39.62593032   39.87593032   39.98276029   40.07068815   40.21675869\n",
      "   40.3154704    40.52061111   40.63578605   42.16546657   52.62289249\n",
      "   53.62289249   54.78560681   60.99576967   62.48968766   64.23259198\n",
      "   66.48754327   67.77788117   69.55491279   73.84540054   84.30282646\n",
      "   86.91718294   88.03434944   88.95384852   90.4813704    91.51364072\n",
      "   93.65888459   94.8633179    96.17892957  105.17290668  106.03296318\n",
      "  107.03296318  112.3740541   113.65890798  115.15790416  117.09728968\n",
      "  118.20705317  119.73540076  123.42546262  132.41943974  134.66793401\n",
      "  135.62876032  136.41958148  137.7333366   138.62114739  140.46617833\n",
      "  141.50205902  141.74837792  143.43229929  143.59332566  143.78055333\n",
      "  144.78055333  145.02111352  145.30176709  145.66487371  145.87265214\n",
      "  146.1588011   146.84968278  148.53360414  148.95458448  149.13447775\n",
      "  149.28254136  149.52851266  149.69473541  150.04017625  150.23412177\n",
      "  151.25806053  158.25806053  158.92744132  159.70573994  163.86270365\n",
      "  164.86270365  166.02937032  167.53879139  168.40251879  169.59202961\n",
      "  172.46399968  179.46399968  181.21399968  181.96180948  182.5773045\n",
      "  183.5997983   184.29078021  185.72676524  186.53298976  187.41065155\n",
      "  193.41065155  193.98440651  194.65151962  198.21463137  199.07177423\n",
      "  200.07177423  201.36556372  202.10590149  203.1254822   205.58717082\n",
      "  211.58717082  213.08717082  213.72815065  214.25571781  215.13214106\n",
      "  215.72441128  216.95525559  217.64630518  218.3246704   222.96220999\n",
      "  223.40567855  223.92130579  226.67531776  227.33782341  228.11074668\n",
      "  229.11074668  229.68297096  230.47102861  232.37372503  237.01126462\n",
      "  238.17064952  238.66607774  239.07384667  239.7512546   240.20903402\n",
      "  241.16038223  241.69451053  242.87999887  250.98440779  251.75939859\n",
      "  252.66049149  257.47331059  258.63108329  259.98181811  261.72938463\n",
      "  262.72938463  264.10656779  267.43165634  275.53606525  277.56216748\n",
      "  278.42796124  279.14056458  280.32437998  281.12437998  282.78692425\n",
      "  283.72034899  284.58115558  290.46592757  291.02866376  291.68296518\n",
      "  295.17764856  296.01833027  296.9991256   298.2680683   298.99418812\n",
      "  299.99418812  302.40860084  308.29337284  309.76456583  310.39323585\n",
      "  310.91067126  311.7702631   312.35115896  313.55836532  314.23614353\n",
      "  314.59267188  317.03002319  317.26309692  317.53409509  318.98152094\n",
      "  319.32971398  319.7359392   320.26150912  320.56225299  320.97643238\n",
      "  321.97643238  324.41378369  325.02312152  325.28350369  325.49781477\n",
      "  325.85384     326.0944351   326.5944351   326.87515687  327.02143383\n",
      "  328.02143383  328.11705966  328.22824518  328.82209713  328.96495428\n",
      "  329.13162094  329.34725253  329.47064215  329.64057227  330.05085371\n",
      "  331.05085371  331.30085371  331.40768368  331.49561154  331.64168208\n",
      "  331.74039379  331.94553451  332.06070944  332.6458173   336.6458173\n",
      "  337.0283206   337.47306267  339.84847051  340.41989908  341.08656575\n",
      "  341.94909207  342.44265059  343.12237106  344.76349681  348.76349681\n",
      "  349.76349681  350.19081669  350.54252813  351.1268103   351.52165711\n",
      "  352.34221999  352.80291971  354.17216998  363.53283903  364.42796075\n",
      "  365.46873159  371.02758324  372.36482168  373.92493318  375.94338906\n",
      "  377.09839854  378.68905813  382.5295669   391.89023596  394.23040322\n",
      "  395.23040322  396.05346682  397.42078483  398.34479241  400.26504679\n",
      "  401.3431612   403.00676321  414.37972281  415.46727147  416.73177987\n",
      "  423.4856342   425.11034271  427.00583598  429.45820525  430.8615105\n",
      "  432.79411887  437.46023309  448.83319268  451.67643258  452.89140552\n",
      "  453.89140552  455.55265989  456.6753041   459.00836121  460.31824104\n",
      "  461.31965421  468.1656615   468.82031661  469.58149347  473.64700831\n",
      "  474.62500935  475.76601057  477.24222595  478.08695224  479.25029507\n",
      "  482.05908479  488.90509208  490.6165939   491.34795266  491.94990743\n",
      "  492.94990743  493.62568847  495.03008332  495.81857174  497.30043217\n",
      "  507.43094331  508.39968181  509.52604793  515.54207181  516.98928769\n",
      "  518.67770622  520.86216436  522.11216436  523.83364331  527.99000399\n",
      "  538.12051513  540.65314292  541.73538513  542.62613929  544.10590855\n",
      "  545.10590855  547.18408889  548.35086981  549.06392652  553.93862913\n",
      "  554.4047766   554.94677293  557.84162463  558.53801072  559.35046115\n",
      "  560.40160099  561.00308873  561.83144752  563.83144752  568.70615014\n",
      "  569.9248258   570.44559013  570.8742123   571.58626276  572.06745295\n",
      "  573.06745295  573.62889649  574.89893819  583.58138317  584.41164915\n",
      "  585.37701129  590.53309824  591.77344752  593.22052169  595.09273104\n",
      "  596.16405469  597.63946359  601.2017096   609.88415458  612.05476583\n",
      "  612.98231117  613.74573998  615.01398943  615.87104835  617.65217136\n",
      "  618.65217136]\n",
      "[False False False False False False False False False False False False\n",
      " False False False False False False False False False False False False\n",
      " False False False False False False False False False False False False\n",
      " False False False False False False False False False False False False\n",
      " False False False False False False False False False False False False\n",
      " False False False False False False False False False False False False\n",
      " False False False False False False False False False False False False\n",
      " False False False False False False False False False False False False\n",
      " False False False False False False False False False False False False\n",
      " False False False False False False False False False False False False\n",
      " False False False False False False False False False False False False\n",
      " False False False False False False False False False False False False\n",
      " False False False False False False False False False False False False\n",
      " False False False False False False False False False False False False\n",
      " False False False False False False False False False False False False\n",
      " False False False False False False False False False False False False\n",
      " False False False False False False False False False False False False\n",
      " False False False False False False False False False False False False\n",
      " False False False False False False False False False False False False\n",
      " False False False False False False False False False False False False\n",
      " False False False False False False False False False False False False\n",
      " False False False False False False False False False False False False\n",
      " False False False False False False False False False False False False\n",
      " False False False False False False False False False False False False\n",
      " False False False False False False False False False False False False\n",
      " False False False False False False False False False False False False\n",
      " False False False False False False False False False False False False\n",
      " False False False False False False False False False False False False\n",
      " False False False False False False False False False False False False\n",
      " False False False False False False False False False False False False\n",
      " False]\n",
      "means:\n",
      "[[ 1.24359337 -0.04307305]\n",
      " [ 1.41512348  0.1722922 ]\n",
      " [ 0.          0.        ]] \n",
      "len(Q):\n",
      "18\n",
      "fit:\n",
      "[[ 0.  0.]\n",
      " [ 0.  0.]\n",
      " [ 0.  0.]\n",
      " [ 0.  0.]\n",
      " [ 0.  0.]\n",
      " [ 0.  0.]\n",
      " [ 0.  0.]\n",
      " [ 0.  0.]\n",
      " [ 0.  0.]\n",
      " [ 0.  0.]\n",
      " [ 0.  0.]\n",
      " [ 0.  0.]\n",
      " [ 0.  0.]\n",
      " [ 0.  0.]\n",
      " [ 0.  0.]\n",
      " [ 0.  0.]\n",
      " [ 0.  0.]\n",
      " [ 0.  0.]]\n"
     ]
    },
    {
     "ename": "ValueError",
     "evalue": "operands could not be broadcast together with shapes (18,2) (18,) ",
     "output_type": "error",
     "traceback": [
      "\u001b[0;31m---------------------------------------------------------------------------\u001b[0m",
      "\u001b[0;31mValueError\u001b[0m                                Traceback (most recent call last)",
      "\u001b[0;32m<ipython-input-172-b4fb17d9b368>\u001b[0m in \u001b[0;36m<module>\u001b[0;34m()\u001b[0m\n\u001b[1;32m     22\u001b[0m             \u001b[0mfit\u001b[0m\u001b[1;33m[\u001b[0m\u001b[0mcounter\u001b[0m\u001b[1;33m,\u001b[0m\u001b[0mm\u001b[0m\u001b[1;33m]\u001b[0m \u001b[1;33m=\u001b[0m \u001b[0mnp\u001b[0m\u001b[1;33m.\u001b[0m\u001b[0msqrt\u001b[0m\u001b[1;33m(\u001b[0m\u001b[0md2\u001b[0m\u001b[1;33m)\u001b[0m\u001b[1;33m\u001b[0m\u001b[0m\n\u001b[1;32m     23\u001b[0m         \u001b[0mcounter\u001b[0m \u001b[1;33m+=\u001b[0m \u001b[1;36m1\u001b[0m\u001b[1;33m\u001b[0m\u001b[0m\n\u001b[0;32m---> 24\u001b[0;31m     \u001b[0mfit\u001b[0m \u001b[1;33m=\u001b[0m \u001b[0mfit\u001b[0m\u001b[1;33m/\u001b[0m\u001b[0mnp\u001b[0m\u001b[1;33m.\u001b[0m\u001b[0msum\u001b[0m\u001b[1;33m(\u001b[0m\u001b[0mfit\u001b[0m\u001b[1;33m,\u001b[0m\u001b[0maxis\u001b[0m\u001b[1;33m=\u001b[0m\u001b[1;36m1\u001b[0m\u001b[1;33m)\u001b[0m\u001b[1;33m\u001b[0m\u001b[0m\n\u001b[0m\u001b[1;32m     25\u001b[0m     \u001b[1;32mprint\u001b[0m \u001b[1;34m'fit:\\n'\u001b[0m\u001b[1;33m,\u001b[0m\u001b[0mfit\u001b[0m\u001b[1;33m,\u001b[0m \u001b[1;34m'\\ncumsum:\\n'\u001b[0m\u001b[1;33m,\u001b[0m \u001b[0mnp\u001b[0m\u001b[1;33m.\u001b[0m\u001b[0mcumsum\u001b[0m\u001b[1;33m(\u001b[0m\u001b[0mfit\u001b[0m\u001b[1;33m)\u001b[0m\u001b[1;33m\u001b[0m\u001b[0m\n\u001b[1;32m     26\u001b[0m     \u001b[1;32mprint\u001b[0m \u001b[0mrandom\u001b[0m\u001b[1;33m.\u001b[0m\u001b[0mrandom\u001b[0m\u001b[1;33m(\u001b[0m\u001b[1;33m)\u001b[0m \u001b[1;33m>\u001b[0m \u001b[0mnp\u001b[0m\u001b[1;33m.\u001b[0m\u001b[0mcumsum\u001b[0m\u001b[1;33m(\u001b[0m\u001b[0mfit\u001b[0m\u001b[1;33m)\u001b[0m\u001b[1;33m\u001b[0m\u001b[0m\n",
      "\u001b[0;31mValueError\u001b[0m: operands could not be broadcast together with shapes (18,2) (18,) "
     ]
    }
   ],
   "source": [
    "#initialize the data\n",
    "means        = np.zeros((3,2))\n",
    "Q            = copy.deepcopy(B)\n",
    "total_means  = 0\n",
    "\n",
    "while total_means < 3:\n",
    "    #select a point at random, it out of the list, and reflect the selection by \n",
    "    #incrementing total means\n",
    "    means[total_means,:] = Q[0,:]#np.array(random.sample(Q,1))\n",
    "    Q = np.delete(Q,np.where(np.all(Q==means[total_means],axis=1)==True),axis=0)\n",
    "    total_means += 1\n",
    "    \n",
    "    print means\n",
    "    print Q\n",
    "    #calculate fitness\n",
    "    fit      = means.np.zeros((len(Q),total_means))\n",
    "    for m in range(total_means):\n",
    "        r        = means[m] - Q\n",
    "        fit[:,m] = np.sqrt(r.dot(r))\n",
    "    fit[:,0] =  \n",
    "    counter = 0\n",
    "    for q in Q:\n",
    "        for m in range(total_means):\n",
    "            d2             = (means[m]-q).dot(means[m]-q)\n",
    "            fit[counter,m] = np.sqrt(d2)\n",
    "        counter += 1\n",
    "    fit = fit/np.sum(fit,axis=1)\n",
    "    print 'fit:\\n',fit, '\\ncumsum:\\n', np.cumsum(fit)\n",
    "    print random.random() > np.cumsum(fit) \n",
    "    #lculate the fitness of the remaining points\n",
    "#counter = 0\n",
    "#for q in Q:\n",
    "#    d2           = (means[current_mean]-q).dot(means[current_mean]-q)\n",
    "#    fit[counter] = np.sqrt(d2)\n",
    "#    counter     += 1\n",
    "    \n",
    "\n",
    "    "
   ]
  },
  {
   "cell_type": "code",
   "execution_count": 162,
   "metadata": {
    "collapsed": false
   },
   "outputs": [
    {
     "data": {
      "text/plain": [
       "0.948323023604248"
      ]
     },
     "execution_count": 162,
     "metadata": {},
     "output_type": "execute_result"
    }
   ],
   "source": [
    "random.random()"
   ]
  },
  {
   "cell_type": "code",
   "execution_count": 148,
   "metadata": {
    "collapsed": false
   },
   "outputs": [
    {
     "data": {
      "text/plain": [
       "array([[False, False],\n",
       "       [False, False],\n",
       "       [False, False],\n",
       "       [False, False],\n",
       "       [False, False],\n",
       "       [False, False],\n",
       "       [False, False],\n",
       "       [False, False],\n",
       "       [False, False],\n",
       "       [False, False],\n",
       "       [False, False],\n",
       "       [False, False],\n",
       "       [False, False],\n",
       "       [False, False],\n",
       "       [False, False],\n",
       "       [False, False],\n",
       "       [False, False],\n",
       "       [False, False],\n",
       "       [False, False]], dtype=bool)"
      ]
     },
     "execution_count": 148,
     "metadata": {},
     "output_type": "execute_result"
    }
   ],
   "source": [
    "Q == means[0]"
   ]
  },
  {
   "cell_type": "code",
   "execution_count": 173,
   "metadata": {
    "collapsed": true
   },
   "outputs": [],
   "source": [
    "m = np.array([[1,2],[3,4]])"
   ]
  },
  {
   "cell_type": "code",
   "execution_count": 174,
   "metadata": {
    "collapsed": false
   },
   "outputs": [
    {
     "name": "stdout",
     "output_type": "stream",
     "text": [
      "[[1 2]\n",
      " [3 4]]\n"
     ]
    }
   ],
   "source": [
    "print m"
   ]
  },
  {
   "cell_type": "code",
   "execution_count": 175,
   "metadata": {
    "collapsed": true
   },
   "outputs": [],
   "source": [
    "Q = np.array([[5,6],[7,8],[9,10]])"
   ]
  },
  {
   "cell_type": "code",
   "execution_count": 176,
   "metadata": {
    "collapsed": false
   },
   "outputs": [
    {
     "name": "stdout",
     "output_type": "stream",
     "text": [
      "[[ 5  6]\n",
      " [ 7  8]\n",
      " [ 9 10]]\n"
     ]
    }
   ],
   "source": [
    "print Q"
   ]
  },
  {
   "cell_type": "code",
   "execution_count": 177,
   "metadata": {
    "collapsed": false
   },
   "outputs": [
    {
     "ename": "ValueError",
     "evalue": "operands could not be broadcast together with shapes (2,2) (3,2) ",
     "output_type": "error",
     "traceback": [
      "\u001b[0;31m---------------------------------------------------------------------------\u001b[0m",
      "\u001b[0;31mValueError\u001b[0m                                Traceback (most recent call last)",
      "\u001b[0;32m<ipython-input-177-d533cb43c9c4>\u001b[0m in \u001b[0;36m<module>\u001b[0;34m()\u001b[0m\n\u001b[0;32m----> 1\u001b[0;31m \u001b[0mm\u001b[0m\u001b[1;33m-\u001b[0m\u001b[0mQ\u001b[0m\u001b[1;33m\u001b[0m\u001b[0m\n\u001b[0m",
      "\u001b[0;31mValueError\u001b[0m: operands could not be broadcast together with shapes (2,2) (3,2) "
     ]
    }
   ],
   "source": [
    "m-Q"
   ]
  },
  {
   "cell_type": "code",
   "execution_count": 178,
   "metadata": {
    "collapsed": false
   },
   "outputs": [
    {
     "data": {
      "text/plain": [
       "array([[-4, -4],\n",
       "       [-6, -6],\n",
       "       [-8, -8]])"
      ]
     },
     "execution_count": 178,
     "metadata": {},
     "output_type": "execute_result"
    }
   ],
   "source": [
    "m[0] - Q"
   ]
  },
  {
   "cell_type": "code",
   "execution_count": 182,
   "metadata": {
    "collapsed": false
   },
   "outputs": [
    {
     "ename": "ValueError",
     "evalue": "shapes (3,2) and (3,2) not aligned: 2 (dim 1) != 3 (dim 0)",
     "output_type": "error",
     "traceback": [
      "\u001b[0;31m---------------------------------------------------------------------------\u001b[0m",
      "\u001b[0;31mValueError\u001b[0m                                Traceback (most recent call last)",
      "\u001b[0;32m<ipython-input-182-72d0bfae8044>\u001b[0m in \u001b[0;36m<module>\u001b[0;34m()\u001b[0m\n\u001b[0;32m----> 1\u001b[0;31m \u001b[0mrr\u001b[0m \u001b[1;33m=\u001b[0m \u001b[1;33m(\u001b[0m\u001b[0mm\u001b[0m\u001b[1;33m[\u001b[0m\u001b[1;36m0\u001b[0m\u001b[1;33m]\u001b[0m\u001b[1;33m-\u001b[0m\u001b[0mQ\u001b[0m\u001b[1;33m)\u001b[0m\u001b[1;33m.\u001b[0m\u001b[0mdot\u001b[0m\u001b[1;33m(\u001b[0m\u001b[1;33m(\u001b[0m\u001b[0mm\u001b[0m\u001b[1;33m[\u001b[0m\u001b[1;36m0\u001b[0m\u001b[1;33m]\u001b[0m\u001b[1;33m-\u001b[0m\u001b[0mQ\u001b[0m\u001b[1;33m)\u001b[0m\u001b[1;33m)\u001b[0m\u001b[1;33m\u001b[0m\u001b[0m\n\u001b[0m",
      "\u001b[0;31mValueError\u001b[0m: shapes (3,2) and (3,2) not aligned: 2 (dim 1) != 3 (dim 0)"
     ]
    }
   ],
   "source": [
    "rr = (m[0]-Q).dot((m[0]-Q))"
   ]
  },
  {
   "cell_type": "code",
   "execution_count": 181,
   "metadata": {
    "collapsed": false
   },
   "outputs": [
    {
     "data": {
      "text/plain": [
       "array([[ 32,  48,  64],\n",
       "       [ 48,  72,  96],\n",
       "       [ 64,  96, 128]])"
      ]
     },
     "execution_count": 181,
     "metadata": {},
     "output_type": "execute_result"
    }
   ],
   "source": [
    "rr"
   ]
  },
  {
   "cell_type": "code",
   "execution_count": null,
   "metadata": {
    "collapsed": true
   },
   "outputs": [],
   "source": []
  }
 ],
 "metadata": {
  "anaconda-cloud": {},
  "kernelspec": {
   "display_name": "Python [conda root]",
   "language": "python",
   "name": "conda-root-py"
  },
  "language_info": {
   "codemirror_mode": {
    "name": "ipython",
    "version": 2
   },
   "file_extension": ".py",
   "mimetype": "text/x-python",
   "name": "python",
   "nbconvert_exporter": "python",
   "pygments_lexer": "ipython2",
   "version": "2.7.12"
  }
 },
 "nbformat": 4,
 "nbformat_minor": 1
}
