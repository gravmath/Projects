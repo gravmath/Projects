{
 "cells": [
  {
   "cell_type": "markdown",
   "metadata": {},
   "source": [
    "The notebook:  C:\\Users\\Conrad\\Documents\\GitHub\\Projects\\Python\\NP-Array Shapes.ipynb"
   ]
  },
  {
   "cell_type": "code",
   "execution_count": 1,
   "metadata": {
    "collapsed": true
   },
   "outputs": [],
   "source": [
    "L1 = [0., 0.5, 1., 1.5, 2., 2.5]\n",
    "L2 = [[0.],[0.5],[1.],[1.5],[2.],[2.5]]"
   ]
  },
  {
   "cell_type": "code",
   "execution_count": 2,
   "metadata": {
    "collapsed": false
   },
   "outputs": [
    {
     "name": "stdout",
     "output_type": "stream",
     "text": [
      "2 5\n"
     ]
    }
   ],
   "source": [
    "print L1.index(1), L2.index([2.5])"
   ]
  },
  {
   "cell_type": "code",
   "execution_count": 3,
   "metadata": {
    "collapsed": false
   },
   "outputs": [
    {
     "data": {
      "text/plain": [
       "5"
      ]
     },
     "execution_count": 3,
     "metadata": {},
     "output_type": "execute_result"
    }
   ],
   "source": [
    "L1.index(2.5)\n",
    "L2.index([2.5])"
   ]
  },
  {
   "cell_type": "code",
   "execution_count": 4,
   "metadata": {
    "collapsed": true
   },
   "outputs": [],
   "source": [
    "import numpy as np"
   ]
  },
  {
   "cell_type": "code",
   "execution_count": 5,
   "metadata": {
    "collapsed": false
   },
   "outputs": [
    {
     "name": "stdout",
     "output_type": "stream",
     "text": [
      "The 1D list is:  [ 0.   0.5  1.   1.5  2.   2.5]  and its shape is  (6L,)\n"
     ]
    }
   ],
   "source": [
    "q = np.array([0., 0.5, 1.0, 1.5, 2., 2.5])\n",
    "print 'The 1D list is: ', q, ' and its shape is ', q.shape"
   ]
  },
  {
   "cell_type": "code",
   "execution_count": 6,
   "metadata": {
    "collapsed": false
   },
   "outputs": [
    {
     "name": "stdout",
     "output_type": "stream",
     "text": [
      "The 2D list is: \n",
      "\n",
      "[[1 2 3]\n",
      " [4 5 6]\n",
      " [7 8 9]] \n",
      "\n",
      "and its shape is  (3L, 3L)\n"
     ]
    }
   ],
   "source": [
    "q2 = np.array([[1,2,3],[4,5,6],[7,8,9]])\n",
    "print 'The 2D list is: \\n\\n', q2, '\\n\\nand its shape is ', q2.shape"
   ]
  },
  {
   "cell_type": "code",
   "execution_count": 7,
   "metadata": {
    "collapsed": false
   },
   "outputs": [
    {
     "name": "stdout",
     "output_type": "stream",
     "text": [
      "The product q2*q2 is a 2D list with element-by-element multiplication \n",
      "\n",
      "[[ 1  4  9]\n",
      " [16 25 36]\n",
      " [49 64 81]] \n",
      "\n",
      "and a shape of  (3L, 3L)\n"
     ]
    }
   ],
   "source": [
    "q3 = (q2*q2)\n",
    "print 'The product q2*q2 is a 2D list with element-by-element multiplication \\n\\n', q3, '\\n\\nand a shape of ', q3.shape"
   ]
  },
  {
   "cell_type": "code",
   "execution_count": 8,
   "metadata": {
    "collapsed": false
   },
   "outputs": [
    {
     "name": "stdout",
     "output_type": "stream",
     "text": [
      "There are many ways to sum an numpy array.\n",
      "\n",
      "\n",
      "Can sum the columns (i.e. across the rows), with sum(axis=0), to get a 1D row array\n",
      "[ 66  93 126] \n",
      "of shape (3L,)\n",
      "\n",
      "Can sum the row (i.e. across the columns), with sum(axis=1), to get a 1D row array\n",
      "[ 14  77 194] \n",
      "of shape (3L,)\n",
      "\n",
      "Can sum columns and rows to get 0D array\n",
      "285 \n",
      "of shape ()\n"
     ]
    }
   ],
   "source": [
    "print 'There are many ways to sum an numpy array.\\n'\n",
    "q4_0 = q3.sum(axis=0)\n",
    "print '\\nCan sum the columns (i.e. across the rows), with sum(axis=0), to get a 1D row array\\n', q4_0, '\\nof shape', q4_0.shape\n",
    "q4_1 = q3.sum(axis=1)\n",
    "print '\\nCan sum the row (i.e. across the columns), with sum(axis=1), to get a 1D row array\\n', q4_1, '\\nof shape', q4_1.shape\n",
    "q4_s = q3.sum()\n",
    "print '\\nCan sum columns and rows to get 0D array\\n', q4_s, '\\nof shape', q4_s.shape"
   ]
  },
  {
   "cell_type": "code",
   "execution_count": 9,
   "metadata": {
    "collapsed": false
   },
   "outputs": [
    {
     "name": "stdout",
     "output_type": "stream",
     "text": [
      "The confusion comes between a list and a list-of-lists.  To see this reshape q4_1 using q4_1.reshape(-1,1) to get a 1D array\n",
      "[[ 14]\n",
      " [ 77]\n",
      " [194]] \n",
      "of shape (3L, 1L)\n",
      "\n",
      "Note the extra \"index\"\n"
     ]
    }
   ],
   "source": [
    "q5_1 = q4_1.reshape(-1,1)\n",
    "print 'The confusion comes between a list and a list-of-lists.  To see this reshape q4_1 using q4_1.reshape(-1,1) to get a 1D array\\n', q5_1, '\\nof shape', q5_1.shape\n",
    "print '\\nNote the extra \"index\"'"
   ]
  },
  {
   "cell_type": "code",
   "execution_count": 10,
   "metadata": {
    "collapsed": false
   },
   "outputs": [
    {
     "name": "stdout",
     "output_type": "stream",
     "text": [
      "So far the change looks cosmetic but look what happens when the 1D list-of-lists is added to the 1D list\n",
      ".\n",
      "The result of q5_1 + q4_1 gives a 2D array\n",
      "[[ 28  91 208]\n",
      " [ 91 154 271]\n",
      " [208 271 388]] \n",
      "of shape (3L, 3L)\n",
      "\n",
      "The result is a sort of outer-sum\n"
     ]
    }
   ],
   "source": [
    "q6_1 = q4_1 + q5_1\n",
    "print 'So far the change looks cosmetic but look what happens when the 1D list-of-lists is added to the 1D list\\n.'\n",
    "print 'The result of q5_1 + q4_1 gives a 2D array\\n',q6_1,'\\nof shape', q6_1.shape\n",
    "print '\\nThe result is a sort of outer-sum'"
   ]
  },
  {
   "cell_type": "code",
   "execution_count": 11,
   "metadata": {
    "collapsed": false
   },
   "outputs": [
    {
     "name": "stdout",
     "output_type": "stream",
     "text": [
      "This sort of coercion occurs even for the one element case.\n",
      "An integer doesn't have a shape but add it to q4_s and the result does.\n",
      "\n",
      "The result is:  292 with shape  ()\n"
     ]
    }
   ],
   "source": [
    "scalar = 7\n",
    "q7 = scalar + q4_s\n",
    "print \"This sort of coercion occurs even for the one element case.\"\n",
    "print \"An integer doesn't have a shape but add it to q4_s and the result does.\\n\"\n",
    "print 'The result is: ', q7, 'with shape ', q7.shape"
   ]
  }
 ],
 "metadata": {
  "kernelspec": {
   "display_name": "Python 2",
   "language": "python",
   "name": "python2"
  },
  "language_info": {
   "codemirror_mode": {
    "name": "ipython",
    "version": 2
   },
   "file_extension": ".py",
   "mimetype": "text/x-python",
   "name": "python",
   "nbconvert_exporter": "python",
   "pygments_lexer": "ipython2",
   "version": "2.7.9"
  }
 },
 "nbformat": 4,
 "nbformat_minor": 0
}
