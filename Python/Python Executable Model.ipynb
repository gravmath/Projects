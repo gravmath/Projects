{
 "cells": [
  {
   "cell_type": "code",
   "execution_count": 1,
   "metadata": {
    "collapsed": false
   },
   "outputs": [],
   "source": [
    "A_strg = ''"
   ]
  },
  {
   "cell_type": "code",
   "execution_count": 2,
   "metadata": {
    "collapsed": true
   },
   "outputs": [],
   "source": [
    "def change_str_1(str_val):\n",
    "    A_strg = str_val\n",
    "    print \"Here in change_str_1: \", A_strg\n",
    "    \n",
    "def change_str_2(str_val):\n",
    "    global A_strg\n",
    "    A_strg = str_val\n",
    "    print \"Here in change_str_2: \", A_strg\n",
    "    \n",
    "def change_str_3(str_val,A_strg):\n",
    "    A_strg = str_val\n",
    "    print \"Here in change_str_3: \", A_strg    "
   ]
  },
  {
   "cell_type": "code",
   "execution_count": 3,
   "metadata": {
    "collapsed": false
   },
   "outputs": [
    {
     "name": "stdout",
     "output_type": "stream",
     "text": [
      "Here in main:  \n",
      "Here in change_str_1:  skippy\n",
      "Here in main:  \n"
     ]
    }
   ],
   "source": [
    "print \"Here in main: \", A_strg\n",
    "change_str_1('skippy')\n",
    "print \"Here in main: \", A_strg"
   ]
  },
  {
   "cell_type": "code",
   "execution_count": 4,
   "metadata": {
    "collapsed": false
   },
   "outputs": [
    {
     "name": "stdout",
     "output_type": "stream",
     "text": [
      "Here in main:  \n",
      "Here in change_str_2:  skippy\n",
      "Here in main:  skippy\n"
     ]
    }
   ],
   "source": [
    "print \"Here in main: \", A_strg\n",
    "change_str_2('skippy')\n",
    "print \"Here in main: \", A_strg"
   ]
  },
  {
   "cell_type": "code",
   "execution_count": 5,
   "metadata": {
    "collapsed": false
   },
   "outputs": [
    {
     "name": "stdout",
     "output_type": "stream",
     "text": [
      "Here in main:  skippy\n",
      "Here in change_str_3:  dude\n",
      "Here in main:  skippy\n"
     ]
    }
   ],
   "source": [
    "print \"Here in main: \", A_strg\n",
    "change_str_3('dude',A_strg)\n",
    "print \"Here in main: \", A_strg"
   ]
  },
  {
   "cell_type": "code",
   "execution_count": 6,
   "metadata": {
    "collapsed": true
   },
   "outputs": [],
   "source": [
    "A_list = []"
   ]
  },
  {
   "cell_type": "code",
   "execution_count": 7,
   "metadata": {
    "collapsed": true
   },
   "outputs": [],
   "source": [
    "def change_lst_1(lst_val):\n",
    "    A_list = lst_val\n",
    "    print \"Here in change_lst_1: \", A_list\n",
    "    \n",
    "def change_lst_2(lst_val):\n",
    "    global A_list\n",
    "    A_list = lst_val\n",
    "    print \"Here in change_lst_2: \", A_list\n",
    "    \n",
    "def change_lst_3(lst_val,A_list):\n",
    "    A_list = lst_val\n",
    "    print \"Here in change_lst_3: \", A_list    "
   ]
  },
  {
   "cell_type": "code",
   "execution_count": 8,
   "metadata": {
    "collapsed": false
   },
   "outputs": [
    {
     "name": "stdout",
     "output_type": "stream",
     "text": [
      "Here in main: []\n",
      "Here in change_lst_1:  [1, 2, 3]\n",
      "Here in main: []\n"
     ]
    }
   ],
   "source": [
    "print \"Here in main:\", A_list\n",
    "change_lst_1([1,2,3])\n",
    "print \"Here in main:\", A_list"
   ]
  },
  {
   "cell_type": "code",
   "execution_count": 9,
   "metadata": {
    "collapsed": false
   },
   "outputs": [
    {
     "name": "stdout",
     "output_type": "stream",
     "text": [
      "Here in main: []\n",
      "Here in change_lst_2:  [1, 2, 3]\n",
      "Here in main: [1, 2, 3]\n"
     ]
    }
   ],
   "source": [
    "print \"Here in main:\", A_list\n",
    "change_lst_2([1,2,3])\n",
    "print \"Here in main:\", A_list"
   ]
  },
  {
   "cell_type": "code",
   "execution_count": 10,
   "metadata": {
    "collapsed": false
   },
   "outputs": [
    {
     "name": "stdout",
     "output_type": "stream",
     "text": [
      "Here in main: [1, 2, 3]\n",
      "Here in change_lst_3:  [3, 2, 1]\n",
      "Here in main: [1, 2, 3]\n"
     ]
    }
   ],
   "source": [
    "print \"Here in main:\", A_list\n",
    "change_lst_3([3,2,1],A_list)\n",
    "print \"Here in main:\", A_list"
   ]
  },
  {
   "cell_type": "code",
   "execution_count": 11,
   "metadata": {
    "collapsed": true
   },
   "outputs": [],
   "source": [
    "A_var = 7"
   ]
  },
  {
   "cell_type": "code",
   "execution_count": 12,
   "metadata": {
    "collapsed": true
   },
   "outputs": [],
   "source": [
    "def change_var_1(value):\n",
    "    A_var = value\n",
    "    print \"Here in change_var_1:\",A_var\n",
    "\n",
    "def change_var_2(value):\n",
    "    global A_var\n",
    "    A_var = value\n",
    "    print \"Here in change_var_2:\",A_var\n",
    "\n",
    "def change_var_3(value,A_var):\n",
    "    A_var = value\n",
    "    print \"Here in change_var_3:\",A_var\n"
   ]
  },
  {
   "cell_type": "code",
   "execution_count": 13,
   "metadata": {
    "collapsed": false
   },
   "outputs": [
    {
     "name": "stdout",
     "output_type": "stream",
     "text": [
      "Here in main: 7\n",
      "Here in change_var_1: -5\n",
      "Here in main: 7\n"
     ]
    }
   ],
   "source": [
    "print \"Here in main:\", A_var\n",
    "change_var_1(-5)\n",
    "print \"Here in main:\", A_var"
   ]
  },
  {
   "cell_type": "code",
   "execution_count": 14,
   "metadata": {
    "collapsed": false
   },
   "outputs": [
    {
     "name": "stdout",
     "output_type": "stream",
     "text": [
      "Here in main: 7\n",
      "Here in change_var_2: -5\n",
      "Here in main: -5\n"
     ]
    }
   ],
   "source": [
    "print \"Here in main:\", A_var\n",
    "change_var_2(-5)\n",
    "print \"Here in main:\", A_var"
   ]
  },
  {
   "cell_type": "code",
   "execution_count": 15,
   "metadata": {
    "collapsed": false
   },
   "outputs": [
    {
     "name": "stdout",
     "output_type": "stream",
     "text": [
      "Here in main: -5\n",
      "Here in change_var_3: 4.3\n",
      "Here in main: -5\n"
     ]
    }
   ],
   "source": [
    "print \"Here in main:\", A_var\n",
    "change_var_3(4.3,A_var)\n",
    "print \"Here in main:\", A_var"
   ]
  },
  {
   "cell_type": "code",
   "execution_count": 16,
   "metadata": {
    "collapsed": true
   },
   "outputs": [],
   "source": [
    "B_list = [1,2,3,4]"
   ]
  },
  {
   "cell_type": "code",
   "execution_count": 17,
   "metadata": {
    "collapsed": false
   },
   "outputs": [],
   "source": [
    "def change_comp_1(value):\n",
    "    B_list[-1] = value\n",
    "    print \"Here change_comp_1:\", B_list\n",
    "    \n",
    "def change_comp_2(value):\n",
    "    global B_list\n",
    "    B_list[-1] = value\n",
    "    print \"Here change_comp_2:\", B_list\n",
    "    \n",
    "def change_comp_3(value,B_list):\n",
    "    B_list[-1] = value\n",
    "    print \"Here change_comp_3:\", B_list    "
   ]
  },
  {
   "cell_type": "code",
   "execution_count": 18,
   "metadata": {
    "collapsed": false
   },
   "outputs": [
    {
     "name": "stdout",
     "output_type": "stream",
     "text": [
      "Here in main: [1, 2, 3, 4]\n",
      "Here change_comp_1: [1, 2, 3, 5]\n",
      "Here in main: [1, 2, 3, 5]\n"
     ]
    }
   ],
   "source": [
    "print \"Here in main:\", B_list\n",
    "change_comp_1(5)\n",
    "print \"Here in main:\", B_list"
   ]
  },
  {
   "cell_type": "code",
   "execution_count": 19,
   "metadata": {
    "collapsed": false
   },
   "outputs": [
    {
     "name": "stdout",
     "output_type": "stream",
     "text": [
      "Here in main: [1, 2, 3, 5]\n",
      "Here change_comp_2: [1, 2, 3, 6]\n",
      "Here in main: [1, 2, 3, 6]\n"
     ]
    }
   ],
   "source": [
    "print \"Here in main:\", B_list\n",
    "change_comp_2(6)\n",
    "print \"Here in main:\", B_list"
   ]
  },
  {
   "cell_type": "code",
   "execution_count": 20,
   "metadata": {
    "collapsed": false
   },
   "outputs": [
    {
     "name": "stdout",
     "output_type": "stream",
     "text": [
      "Here in main: [1, 2, 3, 6]\n",
      "Here change_comp_3: [1, 2, 3, 7]\n",
      "Here in main: [1, 2, 3, 7]\n"
     ]
    }
   ],
   "source": [
    "print \"Here in main:\", B_list\n",
    "change_comp_3(7,B_list)\n",
    "print \"Here in main:\", B_list"
   ]
  },
  {
   "cell_type": "code",
   "execution_count": 14,
   "metadata": {
    "collapsed": true
   },
   "outputs": [],
   "source": [
    "B_np = np.array([1,2,3,4])"
   ]
  },
  {
   "cell_type": "code",
   "execution_count": 16,
   "metadata": {
    "collapsed": true
   },
   "outputs": [],
   "source": [
    "def change_np_1(np_arr):\n",
    "    B_np = np_arr\n",
    "    print \"Here in change_np_1:\", B_np\n",
    "    \n",
    "def change_np_2(np_arr):\n",
    "    global B_np\n",
    "    B_np = np_arr\n",
    "    print \"Here in change_np_2:\", B_np\n",
    "    \n",
    "def change_np_3(np_arr,B_np):\n",
    "    B_np = np_arr\n",
    "    print \"Here in change_np_3:\", B_np    "
   ]
  },
  {
   "cell_type": "code",
   "execution_count": 19,
   "metadata": {
    "collapsed": false
   },
   "outputs": [
    {
     "name": "stdout",
     "output_type": "stream",
     "text": [
      "Here in main: [1 2 3 4]\n",
      "Here in change_np_1: [-7  7 -7]\n",
      "Here in main: [1 2 3 4]\n"
     ]
    }
   ],
   "source": [
    "print \"Here in main:\", B_np\n",
    "change_np_1(np.array([-7,7,-7]))\n",
    "print \"Here in main:\", B_np"
   ]
  },
  {
   "cell_type": "code",
   "execution_count": 21,
   "metadata": {
    "collapsed": false
   },
   "outputs": [
    {
     "name": "stdout",
     "output_type": "stream",
     "text": [
      "Here in main: [1 2 3 4]\n",
      "Here in change_np_2: [-7  7 -7]\n",
      "Here in main: [-7  7 -7]\n"
     ]
    }
   ],
   "source": [
    "print \"Here in main:\", B_np\n",
    "change_np_2(np.array([-7,7,-7]))\n",
    "print \"Here in main:\", B_np"
   ]
  },
  {
   "cell_type": "code",
   "execution_count": 23,
   "metadata": {
    "collapsed": false
   },
   "outputs": [
    {
     "name": "stdout",
     "output_type": "stream",
     "text": [
      "Here in main: [-7  7 -7]\n",
      "Here in change_np_3: [-8  8 -8]\n",
      "Here in main: [-7  7 -7]\n"
     ]
    }
   ],
   "source": [
    "print \"Here in main:\", B_np\n",
    "change_np_3(np.array([-8,8,-8]),B_np)\n",
    "print \"Here in main:\", B_np"
   ]
  },
  {
   "cell_type": "code",
   "execution_count": 24,
   "metadata": {
    "collapsed": true
   },
   "outputs": [],
   "source": [
    "C_dict = {'name':'skippy',3:7}"
   ]
  },
  {
   "cell_type": "code",
   "execution_count": 26,
   "metadata": {
    "collapsed": false
   },
   "outputs": [],
   "source": [
    "def change_dict_1(new_dict):\n",
    "    C_dict = new_dict\n",
    "    print \"Here in change_dict_1:\", C_dict\n",
    "\n",
    "def change_dict_2(new_dict):\n",
    "    global C_dict\n",
    "    C_dict = new_dict\n",
    "    print \"Here in change_dict_2:\", C_dict\n",
    "    \n",
    "def change_dict_3(new_dict,C_dict):\n",
    "    C_dict = new_dict\n",
    "    print \"Here in change_dict_3:\", C_dict\n",
    "    "
   ]
  },
  {
   "cell_type": "code",
   "execution_count": 27,
   "metadata": {
    "collapsed": false
   },
   "outputs": [
    {
     "name": "stdout",
     "output_type": "stream",
     "text": [
      "Here in main: {3: 7, 'name': 'skippy'}\n",
      "Here in change_dict_1: {'current': 10, 'power': 75}\n",
      "Here in main: {3: 7, 'name': 'skippy'}\n"
     ]
    }
   ],
   "source": [
    "print \"Here in main:\", C_dict\n",
    "change_dict_1({'power':75,'current':10})\n",
    "print \"Here in main:\", C_dict"
   ]
  },
  {
   "cell_type": "code",
   "execution_count": 28,
   "metadata": {
    "collapsed": false
   },
   "outputs": [
    {
     "name": "stdout",
     "output_type": "stream",
     "text": [
      "Here in main: {3: 7, 'name': 'skippy'}\n",
      "Here in change_dict_2: {'current': 10, 'power': 75}\n",
      "Here in main: {'current': 10, 'power': 75}\n"
     ]
    }
   ],
   "source": [
    "print \"Here in main:\", C_dict\n",
    "change_dict_2({'power':75,'current':10})\n",
    "print \"Here in main:\", C_dict"
   ]
  },
  {
   "cell_type": "code",
   "execution_count": 30,
   "metadata": {
    "collapsed": false
   },
   "outputs": [
    {
     "name": "stdout",
     "output_type": "stream",
     "text": [
      "Here in main: {'current': 10, 'power': 75}\n",
      "Here in change_dict_3: {'uber': 'sucks', 'lyft': 'much better'}\n",
      "Here in main: {'current': 10, 'power': 75}\n"
     ]
    }
   ],
   "source": [
    "print \"Here in main:\", C_dict\n",
    "change_dict_3({'uber':'sucks','lyft':\"much better\"},C_dict)\n",
    "print \"Here in main:\", C_dict"
   ]
  },
  {
   "cell_type": "code",
   "execution_count": 51,
   "metadata": {
    "collapsed": true
   },
   "outputs": [],
   "source": [
    "D_list = [6,5,4]"
   ]
  },
  {
   "cell_type": "code",
   "execution_count": 52,
   "metadata": {
    "collapsed": true
   },
   "outputs": [],
   "source": [
    "def append_list_1(value):\n",
    "    D_list.append(value)\n",
    "    print \"Here in append_list_1:\", D_list\n",
    "\n",
    "def append_list_2(value):\n",
    "    global D_list\n",
    "    D_list.append(value)\n",
    "    print \"Here in append_list_2:\", D_list\n",
    "\n",
    "def append_list_3(value,D_list):\n",
    "    D_list.append(value)\n",
    "    print \"Here in append_list_3:\", D_list  "
   ]
  },
  {
   "cell_type": "code",
   "execution_count": 53,
   "metadata": {
    "collapsed": false
   },
   "outputs": [
    {
     "name": "stdout",
     "output_type": "stream",
     "text": [
      "Here in main: [6, 5, 4]\n",
      "Here in append_list_1: [6, 5, 4, 3]\n",
      "Here in main: [6, 5, 4, 3]\n"
     ]
    }
   ],
   "source": [
    "print \"Here in main:\", D_list\n",
    "append_list_1(3)\n",
    "print \"Here in main:\", D_list"
   ]
  },
  {
   "cell_type": "code",
   "execution_count": 54,
   "metadata": {
    "collapsed": false
   },
   "outputs": [
    {
     "name": "stdout",
     "output_type": "stream",
     "text": [
      "Here in main: [6, 5, 4, 3]\n",
      "Here in append_list_2: [6, 5, 4, 3, 2]\n",
      "Here in main: [6, 5, 4, 3, 2]\n"
     ]
    }
   ],
   "source": [
    "print \"Here in main:\", D_list\n",
    "append_list_2(2)\n",
    "print \"Here in main:\", D_list"
   ]
  },
  {
   "cell_type": "code",
   "execution_count": 55,
   "metadata": {
    "collapsed": false
   },
   "outputs": [
    {
     "name": "stdout",
     "output_type": "stream",
     "text": [
      "Here in main: [6, 5, 4, 3, 2]\n",
      "Here in append_list_3: [6, 5, 4, 3, 2, 1]\n",
      "Here in main: [6, 5, 4, 3, 2, 1]\n"
     ]
    }
   ],
   "source": [
    "print \"Here in main:\", D_list\n",
    "append_list_3(1,D_list)\n",
    "print \"Here in main:\", D_list"
   ]
  },
  {
   "cell_type": "code",
   "execution_count": null,
   "metadata": {
    "collapsed": true
   },
   "outputs": [],
   "source": []
  }
 ],
 "metadata": {
  "anaconda-cloud": {},
  "kernelspec": {
   "display_name": "Python [conda root]",
   "language": "python",
   "name": "conda-root-py"
  },
  "language_info": {
   "codemirror_mode": {
    "name": "ipython",
    "version": 2
   },
   "file_extension": ".py",
   "mimetype": "text/x-python",
   "name": "python",
   "nbconvert_exporter": "python",
   "pygments_lexer": "ipython2",
   "version": "2.7.12"
  }
 },
 "nbformat": 4,
 "nbformat_minor": 2
}
