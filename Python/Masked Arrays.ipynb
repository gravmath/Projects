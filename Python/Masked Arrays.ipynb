{
 "cells": [
  {
   "cell_type": "markdown",
   "metadata": {},
   "source": [
    "# Define a typical scientific array\n",
    "\n",
    "The definition of the matrix A is designed to represent a typical scientific data set that varies by orders of magnitude.  In addition, some of the data is invalid due to either no measurement ($A_{0,1} = 0$) or there was a measurement glitch ($A_{1,2} = -1$).\n",
    "\n",
    "For sake of completeness, the entire matrix is given by: \n",
    "\n",
    "$$A = \\left[ \\begin{array}{ccc} 1\\times 10^{-4} & 0 & 1\\times 10^{-5} \\\\ 1\\times 10^{-3} & 5\\times 10^{-3} & -1 \\end{array} \\right]$$"
   ]
  },
  {
   "cell_type": "code",
   "execution_count": 16,
   "metadata": {
    "collapsed": false
   },
   "outputs": [
    {
     "name": "stdout",
     "output_type": "stream",
     "text": [
      "[[  1.00000000e-04   0.00000000e+00   1.00000000e-05]\n",
      " [  1.00000000e-03   5.00000000e-03  -1.00000000e+00]]\n"
     ]
    }
   ],
   "source": [
    "A = np.array([[1e-4,0,1e-5],[1e-3,5e-3,-1]])\n",
    "print A"
   ]
  },
  {
   "cell_type": "markdown",
   "metadata": {},
   "source": [
    "A simple matrix plot (using matplotlib's pcolormesh) doesn't show anything useful since all the 'good' numbers are orders of magnitude smaller than the bad.  Note also that the matrix is 'plotted up' as the zeroth row corresponds to the lowest row of the plot"
   ]
  },
  {
   "cell_type": "code",
   "execution_count": 17,
   "metadata": {
    "collapsed": false
   },
   "outputs": [
    {
     "data": {
      "text/plain": [
       "<matplotlib.collections.QuadMesh at 0x862fab0>"
      ]
     },
     "execution_count": 17,
     "metadata": {},
     "output_type": "execute_result"
    },
    {
     "data": {
      "image/png": "[encoded data removed]",
      "text/plain": [
       "<matplotlib.figure.Figure at 0x854f030>"
      ]
     },
     "metadata": {},
     "output_type": "display_data"
    }
   ],
   "source": [
    "plt.pcolormesh(A)"
   ]
  },
  {
   "cell_type": "markdown",
   "metadata": {},
   "source": [
    "Of course, the way to bring out the data is by taking a logarithm - but the inclusion of the '0' and the '-1' are going to cause problems.  Numpy gives two warnings (different ones) and it comes back with different values.  The resulting matrix should look like\n",
    "\n",
    "$$ log_{10} (A) = \\left[ \\begin{array}{ccc} -4 & -\\infty & -5 \\\\ -3 & -2.3 & nan \\end{array} \\right] $$"
   ]
  },
  {
   "cell_type": "code",
   "execution_count": 20,
   "metadata": {
    "collapsed": false
   },
   "outputs": [
    {
     "name": "stdout",
     "output_type": "stream",
     "text": [
      "[[-4.          -inf -5.     ]\n",
      " [-3.      -2.30103      nan]]\n"
     ]
    },
    {
     "name": "stderr",
     "output_type": "stream",
     "text": [
      "C:\\Users\\Conrad\\Anaconda2\\lib\\site-packages\\ipykernel\\__main__.py:1: RuntimeWarning: divide by zero encountered in log10\n",
      "  if __name__ == '__main__':\n",
      "C:\\Users\\Conrad\\Anaconda2\\lib\\site-packages\\ipykernel\\__main__.py:1: RuntimeWarning: invalid value encountered in log10\n",
      "  if __name__ == '__main__':\n"
     ]
    }
   ],
   "source": [
    "log_A = np.log10(A)\n",
    "print log_A"
   ]
  },
  {
   "cell_type": "markdown",
   "metadata": {},
   "source": [
    "This helps a bit, but unfortunately the 'bad' values put in a false color that says something it shouldn't."
   ]
  },
  {
   "cell_type": "code",
   "execution_count": 21,
   "metadata": {
    "collapsed": false
   },
   "outputs": [
    {
     "data": {
      "text/plain": [
       "<matplotlib.collections.QuadMesh at 0x870c4b0>"
      ]
     },
     "execution_count": 21,
     "metadata": {},
     "output_type": "execute_result"
    },
    {
     "data": {
      "image/png": "[encoded data removed]",
      "text/plain": [
       "<matplotlib.figure.Figure at 0x854f230>"
      ]
     },
     "metadata": {},
     "output_type": "display_data"
    }
   ],
   "source": [
    "plt.pcolormesh(log_A,vmin=-6,vmax=-3)"
   ]
  },
  {
   "cell_type": "markdown",
   "metadata": {},
   "source": [
    "A much better alternative is to mark the bad points as invalid.  Numpy's masked array does this for us.  The correct invoccation is numpy.ma.masked_invalid, where ma is numpy's masked array package and masked_invalid is the function that takes care of $-\\infty$ and $nan$.  The proper array is now\n",
    "\n",
    "$$ \\log_{10}(A) = \\left[ \\begin{array}{ccc}  -4 & -- & -5 \\\\ -3 & -2.3 & --  \\end{array} \\right] $$"
   ]
  },
  {
   "cell_type": "code",
   "execution_count": 22,
   "metadata": {
    "collapsed": false
   },
   "outputs": [
    {
     "name": "stdout",
     "output_type": "stream",
     "text": [
      "[[-4.0 -- -5.0]\n",
      " [-3.0 -2.3010299956639813 --]]\n"
     ]
    }
   ],
   "source": [
    "masked_log_A = np.ma.masked_invalid(log_A)\n",
    "print masked_log_A"
   ]
  },
  {
   "cell_type": "code",
   "execution_count": 23,
   "metadata": {
    "collapsed": false
   },
   "outputs": [
    {
     "data": {
      "text/plain": [
       "<matplotlib.collections.QuadMesh at 0x875cc90>"
      ]
     },
     "execution_count": 23,
     "metadata": {},
     "output_type": "execute_result"
    },
    {
     "data": {
      "image/png": "[encoded data removed]",
      "text/plain": [
       "<matplotlib.figure.Figure at 0x86685d0>"
      ]
     },
     "metadata": {},
     "output_type": "display_data"
    }
   ],
   "source": [
    "plt.pcolormesh(masked_log_A,vmin=-6,vmax=-3)"
   ]
  }
 ],
 "metadata": {
  "kernelspec": {
   "display_name": "Python [conda root]",
   "language": "python",
   "name": "conda-root-py"
  },
  "language_info": {
   "codemirror_mode": {
    "name": "ipython",
    "version": 2
   },
   "file_extension": ".py",
   "mimetype": "text/x-python",
   "name": "python",
   "nbconvert_exporter": "python",
   "pygments_lexer": "ipython2",
   "version": "2.7.12"
  }
 },
 "nbformat": 4,
 "nbformat_minor": 2
}
