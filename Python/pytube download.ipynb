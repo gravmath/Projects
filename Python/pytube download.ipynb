{
 "cells": [
  {
   "cell_type": "code",
   "execution_count": 1,
   "metadata": {},
   "outputs": [],
   "source": [
    "import pytube\n",
    "from pytube import YouTube"
   ]
  },
  {
   "cell_type": "code",
   "execution_count": 2,
   "metadata": {},
   "outputs": [],
   "source": [
    "myURLs = ['https://www.youtube.com/watch?v=aCQdM-g3NOQ',\n",
    "          'https://www.youtube.com/watch?v=frpWdJ8X1Eo',\n",
    "          'https://www.youtube.com/watch?v=otqKCwgjWRc',\n",
    "          'https://www.youtube.com/watch?v=4wdVC9-IlCc',\n",
    "          'https://www.youtube.com/watch?v=273vu-UUG64',\n",
    "          'https://www.youtube.com/watch?v=ZZPoKGHC2T8',\n",
    "          'https://www.youtube.com/watch?v=RWtzDOrOA08',\n",
    "          'https://www.youtube.com/watch?v=0rEFmfCmF5w',\n",
    "          'https://www.youtube.com/watch?v=90O0W40lT7E',\n",
    "          'https://www.youtube.com/watch?v=o5Grfe15bfs',\n",
    "          'https://www.youtube.com/watch?v=E3c1ighoy30',\n",
    "          'https://www.youtube.com/watch?v=L3W0_KfMuy4',\n",
    "          'https://www.youtube.com/watch?v=bGW4Ups1pTk',\n",
    "          'https://www.youtube.com/watch?v=iQgU0ixSKws',\n",
    "          'https://www.youtube.com/watch?v=uB1y_L_otWs&t=2s',\n",
    "          'https://www.youtube.com/watch?v=R9vG5qrB8fM',\n",
    "          'https://www.youtube.com/watch?v=dFdqJML4A4I',\n",
    "          'https://www.youtube.com/watch?v=ak2AMrGYq-Q',\n",
    "          'https://www.youtube.com/watch?v=y6ZN42Hc7pI',\n",
    "          'https://www.youtube.com/watch?v=a2R16HMuYRc',\n",
    "          'https://www.youtube.com/watch?v=MAm1Etk-FC8&t=3s',\n",
    "          'https://www.youtube.com/watch?v=rWtewNrw3KU',\n",
    "          'https://www.youtube.com/watch?v=ZDZZZrbGoV4',\n",
    "          'https://www.youtube.com/watch?v=5ZaGgFloK_E',\n",
    "          'https://www.youtube.com/watch?v=Og9DOCD5wHo',\n",
    "          'https://www.youtube.com/watch?v=4XGwiOgTfic',\n",
    "          'https://www.youtube.com/watch?v=4XGwiOgTfic',\n",
    "          'https://www.youtube.com/watch?v=6u9_TZf4h-w',\n",
    "          'https://www.youtube.com/watch?v=PHBg2OIxZbo',\n",
    "          'https://www.youtube.com/watch?v=8WGxkeQrZis',\n",
    "          'https://www.youtube.com/watch?v=1-qD5rVFJxs',\n",
    "          'https://www.youtube.com/watch?v=F5SyS-VEcww',\n",
    "          'https://www.youtube.com/watch?v=-fFyEYrvWOw',\n",
    "          'https://www.youtube.com/watch?v=Po5HH1hTV0o',\n",
    "          'https://www.youtube.com/watch?v=8hVPnXUjZi0',\n",
    "          'https://www.youtube.com/watch?v=ZOnUJJGZrHk',\n",
    "          'https://www.youtube.com/watch?v=N2H8FKiVIlM']\n",
    "\n",
    "Castaneda = [#'https://www.youtube.com/watch?v=XJLJXDRP_58',\n",
    "             #'https://www.youtube.com/watch?v=9EbOl5qc9Zg',\n",
    "             #'https://www.youtube.com/watch?v=sInUoPsAxDQ',\n",
    "             #'https://www.youtube.com/watch?v=Dwexf4lDd0E',\n",
    "             #'https://www.youtube.com/watch?v=lFRkz8wO27w',          \n",
    "             #'https://www.youtube.com/watch?v=F0rWWhltfQ0',\n",
    "             #'https://www.youtube.com/watch?v=_5YWG8J4iL0',\n",
    "             #'https://www.youtube.com/watch?v=Ksnj_hMuHks',\n",
    "             #'https://www.youtube.com/watch?v=T5t7wG4BaWA',\n",
    "             #'https://www.youtube.com/watch?v=LcoiYoTOH1o'\n",
    "            ]\n",
    "    \n",
    "Splits = [#'https://www.youtube.com/watch?v=cN0-1YuMwwI',\n",
    "          #'https://www.youtube.com/watch?v=qZTGgEWPbLk',\n",
    "          #'https://www.youtube.com/watch?v=1B6UX7QrKEA',\n",
    "          #'https://www.youtube.com/watch?v=6NPqAN8axGg',\n",
    "          #'https://www.youtube.com/watch?v=-VS6jgTTYAQ',\n",
    "          #'https://www.youtube.com/watch?v=lxw5Lo00gf8',\n",
    "          #'https://www.youtube.com/watch?v=A29WErEZqyY',\n",
    "          #'https://www.youtube.com/watch?v=GTBB3IekEwY',\n",
    "          #'https://www.youtube.com/watch?v=hgzCSHycX6I',\n",
    "          'https://www.youtube.com/watch?v=YziSrtaKwSs',\n",
    "          'https://www.youtube.com/watch?v=O9lEXkmO9AU',\n",
    "          'https://www.youtube.com/watch?v=9XGZI0XQoUM',\n",
    "          'https://www.youtube.com/watch?v=722ZLi8uumY']"
   ]
  },
  {
   "cell_type": "code",
   "execution_count": 12,
   "metadata": {},
   "outputs": [
    {
     "name": "stdout",
     "output_type": "stream",
     "text": [
      "Stretches for Splits and Oversplits\n",
      "Learn the Middle Splits Fast\n",
      "Splits Stretch Flexibility Workout\n",
      "Achieving The Full Splits in One Day\n"
     ]
    }
   ],
   "source": [
    "for u in Splits:\n",
    "    yt = YouTube(u)\n",
    "    print yt.title\n",
    "    #print yt.streams.all()\n",
    "    stream = yt.streams.get_by_itag(18)\n",
    "    #print stream\n",
    "    stream.download('c:/Users/Conrad/Downloads/')"
   ]
  },
  {
   "cell_type": "code",
   "execution_count": 3,
   "metadata": {},
   "outputs": [
    {
     "ename": "RegexMatchError",
     "evalue": "regex pattern (\"signature\",\\s?([a-zA-Z0-9$]+)\\() had zero matches",
     "output_type": "error",
     "traceback": [
      "\u001b[1;31m---------------------------------------------------------------------------\u001b[0m",
      "\u001b[1;31mRegexMatchError\u001b[0m                           Traceback (most recent call last)",
      "\u001b[1;32m<ipython-input-3-a3f5c64bc9a6>\u001b[0m in \u001b[0;36m<module>\u001b[1;34m()\u001b[0m\n\u001b[1;32m----> 1\u001b[1;33m \u001b[0myt\u001b[0m \u001b[1;33m=\u001b[0m \u001b[0mYouTube\u001b[0m\u001b[1;33m(\u001b[0m\u001b[1;34m'https://www.youtube.com/watch?v=30o7_iy-O1g'\u001b[0m\u001b[1;33m)\u001b[0m\u001b[1;33m\u001b[0m\u001b[0m\n\u001b[0m",
      "\u001b[1;32mC:\\Users\\Conrad\\Anaconda2\\lib\\site-packages\\pytube\\__main__.pyc\u001b[0m in \u001b[0;36m__init__\u001b[1;34m(self, url, defer_prefetch_init, on_progress_callback, on_complete_callback, proxies)\u001b[0m\n\u001b[0;32m     85\u001b[0m \u001b[1;33m\u001b[0m\u001b[0m\n\u001b[0;32m     86\u001b[0m         \u001b[1;32mif\u001b[0m \u001b[1;32mnot\u001b[0m \u001b[0mdefer_prefetch_init\u001b[0m\u001b[1;33m:\u001b[0m\u001b[1;33m\u001b[0m\u001b[0m\n\u001b[1;32m---> 87\u001b[1;33m             \u001b[0mself\u001b[0m\u001b[1;33m.\u001b[0m\u001b[0mprefetch_init\u001b[0m\u001b[1;33m(\u001b[0m\u001b[1;33m)\u001b[0m\u001b[1;33m\u001b[0m\u001b[0m\n\u001b[0m\u001b[0;32m     88\u001b[0m \u001b[1;33m\u001b[0m\u001b[0m\n\u001b[0;32m     89\u001b[0m     \u001b[1;32mdef\u001b[0m \u001b[0mprefetch_init\u001b[0m\u001b[1;33m(\u001b[0m\u001b[0mself\u001b[0m\u001b[1;33m)\u001b[0m\u001b[1;33m:\u001b[0m\u001b[1;33m\u001b[0m\u001b[0m\n",
      "\u001b[1;32mC:\\Users\\Conrad\\Anaconda2\\lib\\site-packages\\pytube\\__main__.pyc\u001b[0m in \u001b[0;36mprefetch_init\u001b[1;34m(self)\u001b[0m\n\u001b[0;32m     94\u001b[0m         \"\"\"\n\u001b[0;32m     95\u001b[0m         \u001b[0mself\u001b[0m\u001b[1;33m.\u001b[0m\u001b[0mprefetch\u001b[0m\u001b[1;33m(\u001b[0m\u001b[1;33m)\u001b[0m\u001b[1;33m\u001b[0m\u001b[0m\n\u001b[1;32m---> 96\u001b[1;33m         \u001b[0mself\u001b[0m\u001b[1;33m.\u001b[0m\u001b[0minit\u001b[0m\u001b[1;33m(\u001b[0m\u001b[1;33m)\u001b[0m\u001b[1;33m\u001b[0m\u001b[0m\n\u001b[0m\u001b[0;32m     97\u001b[0m \u001b[1;33m\u001b[0m\u001b[0m\n\u001b[0;32m     98\u001b[0m     \u001b[1;32mdef\u001b[0m \u001b[0minit\u001b[0m\u001b[1;33m(\u001b[0m\u001b[0mself\u001b[0m\u001b[1;33m)\u001b[0m\u001b[1;33m:\u001b[0m\u001b[1;33m\u001b[0m\u001b[0m\n",
      "\u001b[1;32mC:\\Users\\Conrad\\Anaconda2\\lib\\site-packages\\pytube\\__main__.pyc\u001b[0m in \u001b[0;36minit\u001b[1;34m(self)\u001b[0m\n\u001b[0;32m    129\u001b[0m \u001b[1;33m\u001b[0m\u001b[0m\n\u001b[0;32m    130\u001b[0m             \u001b[1;32mtry\u001b[0m\u001b[1;33m:\u001b[0m\u001b[1;33m\u001b[0m\u001b[0m\n\u001b[1;32m--> 131\u001b[1;33m                 \u001b[0mmixins\u001b[0m\u001b[1;33m.\u001b[0m\u001b[0mapply_signature\u001b[0m\u001b[1;33m(\u001b[0m\u001b[0mself\u001b[0m\u001b[1;33m.\u001b[0m\u001b[0mplayer_config_args\u001b[0m\u001b[1;33m,\u001b[0m \u001b[0mfmt\u001b[0m\u001b[1;33m,\u001b[0m \u001b[0mself\u001b[0m\u001b[1;33m.\u001b[0m\u001b[0mjs\u001b[0m\u001b[1;33m)\u001b[0m\u001b[1;33m\u001b[0m\u001b[0m\n\u001b[0m\u001b[0;32m    132\u001b[0m             \u001b[1;32mexcept\u001b[0m \u001b[0mTypeError\u001b[0m\u001b[1;33m:\u001b[0m\u001b[1;33m\u001b[0m\u001b[0m\n\u001b[0;32m    133\u001b[0m                 self.js_url = extract.js_url(\n",
      "\u001b[1;32mC:\\Users\\Conrad\\Anaconda2\\lib\\site-packages\\pytube\\mixins.pyc\u001b[0m in \u001b[0;36mapply_signature\u001b[1;34m(config_args, fmt, js)\u001b[0m\n\u001b[0;32m     39\u001b[0m \u001b[1;33m\u001b[0m\u001b[0m\n\u001b[0;32m     40\u001b[0m         \u001b[1;32mif\u001b[0m \u001b[0mjs\u001b[0m \u001b[1;32mis\u001b[0m \u001b[1;32mnot\u001b[0m \u001b[0mNone\u001b[0m\u001b[1;33m:\u001b[0m\u001b[1;33m\u001b[0m\u001b[0m\n\u001b[1;32m---> 41\u001b[1;33m             \u001b[0msignature\u001b[0m \u001b[1;33m=\u001b[0m \u001b[0mcipher\u001b[0m\u001b[1;33m.\u001b[0m\u001b[0mget_signature\u001b[0m\u001b[1;33m(\u001b[0m\u001b[0mjs\u001b[0m\u001b[1;33m,\u001b[0m \u001b[0mstream\u001b[0m\u001b[1;33m[\u001b[0m\u001b[1;34m's'\u001b[0m\u001b[1;33m]\u001b[0m\u001b[1;33m)\u001b[0m\u001b[1;33m\u001b[0m\u001b[0m\n\u001b[0m\u001b[0;32m     42\u001b[0m         \u001b[1;32melse\u001b[0m\u001b[1;33m:\u001b[0m\u001b[1;33m\u001b[0m\u001b[0m\n\u001b[0;32m     43\u001b[0m             \u001b[1;31m# signature not present in url (line 33), need js to descramble\u001b[0m\u001b[1;33m\u001b[0m\u001b[1;33m\u001b[0m\u001b[0m\n",
      "\u001b[1;32mC:\\Users\\Conrad\\Anaconda2\\lib\\site-packages\\pytube\\cipher.pyc\u001b[0m in \u001b[0;36mget_signature\u001b[1;34m(js, ciphered_signature)\u001b[0m\n\u001b[0;32m    243\u001b[0m \u001b[1;33m\u001b[0m\u001b[0m\n\u001b[0;32m    244\u001b[0m     \"\"\"\n\u001b[1;32m--> 245\u001b[1;33m     \u001b[0mtplan\u001b[0m \u001b[1;33m=\u001b[0m \u001b[0mget_transform_plan\u001b[0m\u001b[1;33m(\u001b[0m\u001b[0mjs\u001b[0m\u001b[1;33m)\u001b[0m\u001b[1;33m\u001b[0m\u001b[0m\n\u001b[0m\u001b[0;32m    246\u001b[0m     \u001b[1;31m# DE.AJ(a,15) => DE, AJ(a,15)\u001b[0m\u001b[1;33m\u001b[0m\u001b[1;33m\u001b[0m\u001b[0m\n\u001b[0;32m    247\u001b[0m     \u001b[0mvar\u001b[0m\u001b[1;33m,\u001b[0m \u001b[0m_\u001b[0m \u001b[1;33m=\u001b[0m \u001b[0mtplan\u001b[0m\u001b[1;33m[\u001b[0m\u001b[1;36m0\u001b[0m\u001b[1;33m]\u001b[0m\u001b[1;33m.\u001b[0m\u001b[0msplit\u001b[0m\u001b[1;33m(\u001b[0m\u001b[1;34m'.'\u001b[0m\u001b[1;33m)\u001b[0m\u001b[1;33m\u001b[0m\u001b[0m\n",
      "\u001b[1;32mC:\\Users\\Conrad\\Anaconda2\\lib\\site-packages\\pytube\\cipher.pyc\u001b[0m in \u001b[0;36mget_transform_plan\u001b[1;34m(js)\u001b[0m\n\u001b[0;32m     62\u001b[0m     'DE.kT(a,21)']\n\u001b[0;32m     63\u001b[0m     \"\"\"\n\u001b[1;32m---> 64\u001b[1;33m     \u001b[0mname\u001b[0m \u001b[1;33m=\u001b[0m \u001b[0mre\u001b[0m\u001b[1;33m.\u001b[0m\u001b[0mescape\u001b[0m\u001b[1;33m(\u001b[0m\u001b[0mget_initial_function_name\u001b[0m\u001b[1;33m(\u001b[0m\u001b[0mjs\u001b[0m\u001b[1;33m)\u001b[0m\u001b[1;33m)\u001b[0m\u001b[1;33m\u001b[0m\u001b[0m\n\u001b[0m\u001b[0;32m     65\u001b[0m     \u001b[0mpattern\u001b[0m \u001b[1;33m=\u001b[0m \u001b[1;34mr'%s=function\\(\\w\\){[a-z=\\.\\(\\\"\\)]*;(.*);(?:.+)}'\u001b[0m \u001b[1;33m%\u001b[0m \u001b[0mname\u001b[0m\u001b[1;33m\u001b[0m\u001b[0m\n\u001b[0;32m     66\u001b[0m     \u001b[0mlogger\u001b[0m\u001b[1;33m.\u001b[0m\u001b[0mdebug\u001b[0m\u001b[1;33m(\u001b[0m\u001b[1;34m'getting transform plan'\u001b[0m\u001b[1;33m)\u001b[0m\u001b[1;33m\u001b[0m\u001b[0m\n",
      "\u001b[1;32mC:\\Users\\Conrad\\Anaconda2\\lib\\site-packages\\pytube\\cipher.pyc\u001b[0m in \u001b[0;36mget_initial_function_name\u001b[1;34m(js)\u001b[0m\n\u001b[0;32m     38\u001b[0m     \u001b[0mpattern\u001b[0m \u001b[1;33m=\u001b[0m \u001b[1;34mr'\"signature\",\\s?([a-zA-Z0-9$]+)\\('\u001b[0m\u001b[1;33m\u001b[0m\u001b[0m\n\u001b[0;32m     39\u001b[0m     \u001b[0mlogger\u001b[0m\u001b[1;33m.\u001b[0m\u001b[0mdebug\u001b[0m\u001b[1;33m(\u001b[0m\u001b[1;34m'finding initial function name'\u001b[0m\u001b[1;33m)\u001b[0m\u001b[1;33m\u001b[0m\u001b[0m\n\u001b[1;32m---> 40\u001b[1;33m     \u001b[1;32mreturn\u001b[0m \u001b[0mregex_search\u001b[0m\u001b[1;33m(\u001b[0m\u001b[0mpattern\u001b[0m\u001b[1;33m,\u001b[0m \u001b[0mjs\u001b[0m\u001b[1;33m,\u001b[0m \u001b[0mgroup\u001b[0m\u001b[1;33m=\u001b[0m\u001b[1;36m1\u001b[0m\u001b[1;33m)\u001b[0m\u001b[1;33m\u001b[0m\u001b[0m\n\u001b[0m\u001b[0;32m     41\u001b[0m \u001b[1;33m\u001b[0m\u001b[0m\n\u001b[0;32m     42\u001b[0m \u001b[1;33m\u001b[0m\u001b[0m\n",
      "\u001b[1;32mC:\\Users\\Conrad\\Anaconda2\\lib\\site-packages\\pytube\\helpers.pyc\u001b[0m in \u001b[0;36mregex_search\u001b[1;34m(pattern, string, groups, group, flags)\u001b[0m\n\u001b[0;32m     37\u001b[0m         raise RegexMatchError(\n\u001b[0;32m     38\u001b[0m             \u001b[1;34m'regex pattern ({pattern}) had zero matches'\u001b[0m\u001b[1;33m\u001b[0m\u001b[0m\n\u001b[1;32m---> 39\u001b[1;33m             \u001b[1;33m.\u001b[0m\u001b[0mformat\u001b[0m\u001b[1;33m(\u001b[0m\u001b[0mpattern\u001b[0m\u001b[1;33m=\u001b[0m\u001b[0mpattern\u001b[0m\u001b[1;33m)\u001b[0m\u001b[1;33m,\u001b[0m\u001b[1;33m\u001b[0m\u001b[0m\n\u001b[0m\u001b[0;32m     40\u001b[0m         )\n\u001b[0;32m     41\u001b[0m     \u001b[1;32melse\u001b[0m\u001b[1;33m:\u001b[0m\u001b[1;33m\u001b[0m\u001b[0m\n",
      "\u001b[1;31mRegexMatchError\u001b[0m: regex pattern (\"signature\",\\s?([a-zA-Z0-9$]+)\\() had zero matches"
     ]
    }
   ],
   "source": [
    "yt = YouTube('https://www.youtube.com/watch?v=30o7_iy-O1g')"
   ]
  },
  {
   "cell_type": "code",
   "execution_count": 4,
   "metadata": {
    "scrolled": false
   },
   "outputs": [
    {
     "data": {
      "text/plain": [
       "u'Marvel Vs Capcom 2 history 2002-2010 Skisonic and Viscant'"
      ]
     },
     "execution_count": 4,
     "metadata": {},
     "output_type": "execute_result"
    }
   ],
   "source": [
    "yt.title"
   ]
  },
  {
   "cell_type": "code",
   "execution_count": 5,
   "metadata": {},
   "outputs": [
    {
     "data": {
      "text/plain": [
       "[<Stream: itag=\"43\" mime_type=\"video/webm\" res=\"360p\" fps=\"30fps\" vcodec=\"vp8.0\" acodec=\"vorbis\">,\n",
       " <Stream: itag=\"18\" mime_type=\"video/mp4\" res=\"360p\" fps=\"30fps\" vcodec=\"avc1.42001E\" acodec=\"mp4a.40.2\">,\n",
       " <Stream: itag=\"36\" mime_type=\"video/3gpp\" res=\"240p\" fps=\"30fps\" vcodec=\"mp4v.20.3\" acodec=\"mp4a.40.2\">,\n",
       " <Stream: itag=\"17\" mime_type=\"video/3gpp\" res=\"144p\" fps=\"30fps\" vcodec=\"mp4v.20.3\" acodec=\"mp4a.40.2\">,\n",
       " <Stream: itag=\"135\" mime_type=\"video/mp4\" res=\"480p\" fps=\"30fps\" vcodec=\"avc1.4d401e\">,\n",
       " <Stream: itag=\"244\" mime_type=\"video/webm\" res=\"480p\" fps=\"30fps\" vcodec=\"vp9\">,\n",
       " <Stream: itag=\"134\" mime_type=\"video/mp4\" res=\"360p\" fps=\"30fps\" vcodec=\"avc1.4d401e\">,\n",
       " <Stream: itag=\"243\" mime_type=\"video/webm\" res=\"360p\" fps=\"30fps\" vcodec=\"vp9\">,\n",
       " <Stream: itag=\"133\" mime_type=\"video/mp4\" res=\"240p\" fps=\"30fps\" vcodec=\"avc1.4d400d\">,\n",
       " <Stream: itag=\"242\" mime_type=\"video/webm\" res=\"240p\" fps=\"30fps\" vcodec=\"vp9\">,\n",
       " <Stream: itag=\"160\" mime_type=\"video/mp4\" res=\"144p\" fps=\"30fps\" vcodec=\"avc1.4d400c\">,\n",
       " <Stream: itag=\"278\" mime_type=\"video/webm\" res=\"144p\" fps=\"30fps\" vcodec=\"vp9\">,\n",
       " <Stream: itag=\"140\" mime_type=\"audio/mp4\" abr=\"128kbps\" acodec=\"mp4a.40.2\">,\n",
       " <Stream: itag=\"171\" mime_type=\"audio/webm\" abr=\"128kbps\" acodec=\"vorbis\">,\n",
       " <Stream: itag=\"249\" mime_type=\"audio/webm\" abr=\"50kbps\" acodec=\"opus\">,\n",
       " <Stream: itag=\"250\" mime_type=\"audio/webm\" abr=\"70kbps\" acodec=\"opus\">,\n",
       " <Stream: itag=\"251\" mime_type=\"audio/webm\" abr=\"160kbps\" acodec=\"opus\">]"
      ]
     },
     "execution_count": 5,
     "metadata": {},
     "output_type": "execute_result"
    }
   ],
   "source": [
    "yt.streams.all()"
   ]
  },
  {
   "cell_type": "code",
   "execution_count": 6,
   "metadata": {},
   "outputs": [],
   "source": [
    "stream = yt.streams.get_by_itag(18)"
   ]
  },
  {
   "cell_type": "code",
   "execution_count": 7,
   "metadata": {},
   "outputs": [],
   "source": [
    "stream.download('c:/Users/Conrad/Downloads/')"
   ]
  },
  {
   "cell_type": "code",
   "execution_count": null,
   "metadata": {},
   "outputs": [],
   "source": []
  }
 ],
 "metadata": {
  "kernelspec": {
   "display_name": "Python [conda root]",
   "language": "python",
   "name": "conda-root-py"
  },
  "language_info": {
   "codemirror_mode": {
    "name": "ipython",
    "version": 2
   },
   "file_extension": ".py",
   "mimetype": "text/x-python",
   "name": "python",
   "nbconvert_exporter": "python",
   "pygments_lexer": "ipython2",
   "version": "2.7.14"
  }
 },
 "nbformat": 4,
 "nbformat_minor": 2
}
