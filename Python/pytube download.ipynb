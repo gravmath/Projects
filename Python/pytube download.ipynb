{
 "cells": [
  {
   "cell_type": "code",
   "execution_count": 9,
   "metadata": {},
   "outputs": [],
   "source": [
    "import pytube\n",
    "from pytube import YouTube"
   ]
  },
  {
   "cell_type": "code",
   "execution_count": 5,
   "metadata": {},
   "outputs": [],
   "source": [
    "myURLs = ['https://www.youtube.com/watch?v=aCQdM-g3NOQ',\n",
    "          'https://www.youtube.com/watch?v=frpWdJ8X1Eo',\n",
    "          'https://www.youtube.com/watch?v=otqKCwgjWRc',\n",
    "          'https://www.youtube.com/watch?v=4wdVC9-IlCc',\n",
    "          'https://www.youtube.com/watch?v=273vu-UUG64',\n",
    "          'https://www.youtube.com/watch?v=ZZPoKGHC2T8',\n",
    "          'https://www.youtube.com/watch?v=RWtzDOrOA08',\n",
    "          'https://www.youtube.com/watch?v=0rEFmfCmF5w',\n",
    "          'https://www.youtube.com/watch?v=90O0W40lT7E',\n",
    "          'https://www.youtube.com/watch?v=o5Grfe15bfs',\n",
    "          'https://www.youtube.com/watch?v=E3c1ighoy30',\n",
    "          'https://www.youtube.com/watch?v=L3W0_KfMuy4',\n",
    "          'https://www.youtube.com/watch?v=bGW4Ups1pTk',\n",
    "          'https://www.youtube.com/watch?v=iQgU0ixSKws',\n",
    "          'https://www.youtube.com/watch?v=uB1y_L_otWs&t=2s',\n",
    "          'https://www.youtube.com/watch?v=R9vG5qrB8fM',\n",
    "          'https://www.youtube.com/watch?v=dFdqJML4A4I',\n",
    "          'https://www.youtube.com/watch?v=ak2AMrGYq-Q',\n",
    "          'https://www.youtube.com/watch?v=y6ZN42Hc7pI',\n",
    "          'https://www.youtube.com/watch?v=a2R16HMuYRc',\n",
    "          'https://www.youtube.com/watch?v=MAm1Etk-FC8&t=3s',\n",
    "          'https://www.youtube.com/watch?v=rWtewNrw3KU',\n",
    "          'https://www.youtube.com/watch?v=ZDZZZrbGoV4',\n",
    "          'https://www.youtube.com/watch?v=5ZaGgFloK_E',\n",
    "          'https://www.youtube.com/watch?v=Og9DOCD5wHo',\n",
    "          'https://www.youtube.com/watch?v=4XGwiOgTfic',\n",
    "          'https://www.youtube.com/watch?v=4XGwiOgTfic',\n",
    "          'https://www.youtube.com/watch?v=6u9_TZf4h-w',\n",
    "          'https://www.youtube.com/watch?v=PHBg2OIxZbo',\n",
    "          'https://www.youtube.com/watch?v=8WGxkeQrZis',\n",
    "          'https://www.youtube.com/watch?v=1-qD5rVFJxs',\n",
    "          'https://www.youtube.com/watch?v=F5SyS-VEcww',\n",
    "          'https://www.youtube.com/watch?v=-fFyEYrvWOw',\n",
    "          'https://www.youtube.com/watch?v=Po5HH1hTV0o',\n",
    "          'https://www.youtube.com/watch?v=8hVPnXUjZi0',\n",
    "          'https://www.youtube.com/watch?v=ZOnUJJGZrHk',\n",
    "          'https://www.youtube.com/watch?v=N2H8FKiVIlM']\n",
    "\n",
    "Castaneda = [#'https://www.youtube.com/watch?v=XJLJXDRP_58',\n",
    "             #'https://www.youtube.com/watch?v=9EbOl5qc9Zg',\n",
    "             #'https://www.youtube.com/watch?v=sInUoPsAxDQ',\n",
    "             #'https://www.youtube.com/watch?v=Dwexf4lDd0E',\n",
    "             #'https://www.youtube.com/watch?v=lFRkz8wO27w',          \n",
    "             #'https://www.youtube.com/watch?v=F0rWWhltfQ0',\n",
    "             #'https://www.youtube.com/watch?v=_5YWG8J4iL0',\n",
    "             #'https://www.youtube.com/watch?v=Ksnj_hMuHks',\n",
    "             #'https://www.youtube.com/watch?v=T5t7wG4BaWA',\n",
    "             #'https://www.youtube.com/watch?v=LcoiYoTOH1o'\n",
    "            ]\n",
    "    \n",
    "Splits = [#'https://www.youtube.com/watch?v=cN0-1YuMwwI',\n",
    "          #'https://www.youtube.com/watch?v=qZTGgEWPbLk',\n",
    "          #'https://www.youtube.com/watch?v=1B6UX7QrKEA',\n",
    "          #'https://www.youtube.com/watch?v=6NPqAN8axGg',\n",
    "          #'https://www.youtube.com/watch?v=-VS6jgTTYAQ',\n",
    "          #'https://www.youtube.com/watch?v=lxw5Lo00gf8',\n",
    "          #'https://www.youtube.com/watch?v=A29WErEZqyY',\n",
    "          #'https://www.youtube.com/watch?v=GTBB3IekEwY',\n",
    "          #'https://www.youtube.com/watch?v=hgzCSHycX6I',\n",
    "          #'https://www.youtube.com/watch?v=YziSrtaKwSs',\n",
    "          #'https://www.youtube.com/watch?v=O9lEXkmO9AU',\n",
    "          #'https://www.youtube.com/watch?v=9XGZI0XQoUM',\n",
    "          #'https://www.youtube.com/watch?v=722ZLi8uumY'\n",
    "         ] \n",
    "\n",
    "    \n",
    "AH =            ['https://www.youtube.com/watch?v=3pFe13ZrnJA',\n",
    "                 'https://www.youtube.com/watch?v=hSK5snciaow',\n",
    "                 'https://www.youtube.com/watch?v=zzliu_-xNNQ',\n",
    "                 'https://www.youtube.com/watch?v=Dz5IzTLVmD0',\n",
    "                 'https://www.youtube.com/watch?v=91IvEc9AfZY']  \n",
    "\n",
    "Castaneda_2 = [#'https://www.youtube.com/watch?v=wcU2VEGz7Hk',\n",
    "               #'https://www.youtube.com/watch?v=piOBf_Ki_RA',\n",
    "               #'https://www.youtube.com/watch?v=5Pdz6heOytM',\n",
    "               #'https://www.youtube.com/watch?v=KnEQSjMZLm4',\n",
    "               #'https://www.youtube.com/watch?v=0bRPqCRfHVg',\n",
    "               #'https://www.youtube.com/watch?v=zQ12WkepInI',\n",
    "               #'https://www.youtube.com/watch?v=5Ejk0Vv-wYU',\n",
    "               #'https://www.youtube.com/watch?v=oJbhBfG6P7c',\n",
    "               #'https://www.youtube.com/watch?v=RRD5Pb60yMQ',\n",
    "               #'https://www.youtube.com/watch?v=yZt_v5auq6A',\n",
    "               #'https://www.youtube.com/watch?v=ocAJwo-YdPs',\n",
    "               #'https://www.youtube.com/watch?v=NfeRv8cV9sM',\n",
    "               #'https://www.youtube.com/watch?v=CMxjHmigqTQ',\n",
    "               #'https://www.youtube.com/watch?v=XvP_VbYokOs',\n",
    "               #'https://www.youtube.com/watch?v=taaJ1q7rvkg',\n",
    "               #'https://www.youtube.com/watch?v=P200cCCM1JM',\n",
    "               #'https://www.youtube.com/watch?v=6-J6vCSvqtY',\n",
    "               #'https://www.youtube.com/watch?v=yxZyRMEaS5Q',\n",
    "               #'https://www.youtube.com/watch?v=xi64r4xRMvU',\n",
    "               #'https://www.youtube.com/watch?v=dneiU5xAbyQ',\n",
    "               #'https://www.youtube.com/watch?v=-ft_7gadg14',\n",
    "               #'https://www.youtube.com/watch?v=igubm_vK9U0',\n",
    "               #'https://www.youtube.com/watch?v=vtbkmS00ICU',\n",
    "               #'https://www.youtube.com/watch?v=9RAxILIQbvE',\n",
    "               #'https://www.youtube.com/watch?v=w9_ee1s5-kk',\n",
    "               #'https://www.youtube.com/watch?v=Gwbe-vVf5hs',\n",
    "               #'https://www.youtube.com/watch?v=ymylx-nrldc']\n",
    "            ]\n",
    "\n",
    "unfinshed_tales = ['https://www.youtube.com/watch?v=pin0Lk3zaBQ',\n",
    "                   'https://www.youtube.com/watch?v=gFoxPoZY0Sg',\n",
    "                   'https://www.youtube.com/watch?v=TOPSMk5kd_Q']\n",
    "\n",
    "Foucalt = ['https://www.youtube.com/watch?v=QyALEomuk9k','https://www.youtube.com/watch?v=KQBgDgW0fLw']"
   ]
  },
  {
   "cell_type": "code",
   "execution_count": 11,
   "metadata": {},
   "outputs": [
    {
     "ename": "RegexMatchError",
     "evalue": "regex pattern (\\W[\\'\"]?t[\\'\"]?: ?[\\'\"](.+?)[\\'\"]) had zero matches",
     "output_type": "error",
     "traceback": [
      "\u001b[1;31m---------------------------------------------------------------------------\u001b[0m",
      "\u001b[1;31mRegexMatchError\u001b[0m                           Traceback (most recent call last)",
      "\u001b[1;32m<ipython-input-11-ba845660696c>\u001b[0m in \u001b[0;36m<module>\u001b[1;34m()\u001b[0m\n\u001b[1;32m----> 1\u001b[1;33m \u001b[0myt\u001b[0m \u001b[1;33m=\u001b[0m \u001b[0mYouTube\u001b[0m\u001b[1;33m(\u001b[0m\u001b[1;34m'https://www.youtube.com/watch?v=3pFe13ZrnJA'\u001b[0m\u001b[1;33m)\u001b[0m\u001b[1;33m\u001b[0m\u001b[0m\n\u001b[0m",
      "\u001b[1;32mC:\\Users\\Conrad\\Anaconda2\\lib\\site-packages\\pytube\\__main__.pyc\u001b[0m in \u001b[0;36m__init__\u001b[1;34m(self, url, defer_prefetch_init, on_progress_callback, on_complete_callback, proxies)\u001b[0m\n\u001b[0;32m     85\u001b[0m \u001b[1;33m\u001b[0m\u001b[0m\n\u001b[0;32m     86\u001b[0m         \u001b[1;32mif\u001b[0m \u001b[1;32mnot\u001b[0m \u001b[0mdefer_prefetch_init\u001b[0m\u001b[1;33m:\u001b[0m\u001b[1;33m\u001b[0m\u001b[0m\n\u001b[1;32m---> 87\u001b[1;33m             \u001b[0mself\u001b[0m\u001b[1;33m.\u001b[0m\u001b[0mprefetch_init\u001b[0m\u001b[1;33m(\u001b[0m\u001b[1;33m)\u001b[0m\u001b[1;33m\u001b[0m\u001b[0m\n\u001b[0m\u001b[0;32m     88\u001b[0m \u001b[1;33m\u001b[0m\u001b[0m\n\u001b[0;32m     89\u001b[0m     \u001b[1;32mdef\u001b[0m \u001b[0mprefetch_init\u001b[0m\u001b[1;33m(\u001b[0m\u001b[0mself\u001b[0m\u001b[1;33m)\u001b[0m\u001b[1;33m:\u001b[0m\u001b[1;33m\u001b[0m\u001b[0m\n",
      "\u001b[1;32mC:\\Users\\Conrad\\Anaconda2\\lib\\site-packages\\pytube\\__main__.pyc\u001b[0m in \u001b[0;36mprefetch_init\u001b[1;34m(self)\u001b[0m\n\u001b[0;32m     93\u001b[0m \u001b[1;33m\u001b[0m\u001b[0m\n\u001b[0;32m     94\u001b[0m         \"\"\"\n\u001b[1;32m---> 95\u001b[1;33m         \u001b[0mself\u001b[0m\u001b[1;33m.\u001b[0m\u001b[0mprefetch\u001b[0m\u001b[1;33m(\u001b[0m\u001b[1;33m)\u001b[0m\u001b[1;33m\u001b[0m\u001b[0m\n\u001b[0m\u001b[0;32m     96\u001b[0m         \u001b[0mself\u001b[0m\u001b[1;33m.\u001b[0m\u001b[0minit\u001b[0m\u001b[1;33m(\u001b[0m\u001b[1;33m)\u001b[0m\u001b[1;33m\u001b[0m\u001b[0m\n\u001b[0;32m     97\u001b[0m \u001b[1;33m\u001b[0m\u001b[0m\n",
      "\u001b[1;32mC:\\Users\\Conrad\\Anaconda2\\lib\\site-packages\\pytube\\__main__.pyc\u001b[0m in \u001b[0;36mprefetch\u001b[1;34m(self)\u001b[0m\n\u001b[0;32m    164\u001b[0m             \u001b[0mwatch_html\u001b[0m\u001b[1;33m=\u001b[0m\u001b[0mself\u001b[0m\u001b[1;33m.\u001b[0m\u001b[0mwatch_html\u001b[0m\u001b[1;33m,\u001b[0m\u001b[1;33m\u001b[0m\u001b[0m\n\u001b[0;32m    165\u001b[0m             \u001b[0membed_html\u001b[0m\u001b[1;33m=\u001b[0m\u001b[0mself\u001b[0m\u001b[1;33m.\u001b[0m\u001b[0membed_html\u001b[0m\u001b[1;33m,\u001b[0m\u001b[1;33m\u001b[0m\u001b[0m\n\u001b[1;32m--> 166\u001b[1;33m             \u001b[0mage_restricted\u001b[0m\u001b[1;33m=\u001b[0m\u001b[0mself\u001b[0m\u001b[1;33m.\u001b[0m\u001b[0mage_restricted\u001b[0m\u001b[1;33m,\u001b[0m\u001b[1;33m\u001b[0m\u001b[0m\n\u001b[0m\u001b[0;32m    167\u001b[0m         )\n\u001b[0;32m    168\u001b[0m         \u001b[0mself\u001b[0m\u001b[1;33m.\u001b[0m\u001b[0mvid_info\u001b[0m \u001b[1;33m=\u001b[0m \u001b[0mrequest\u001b[0m\u001b[1;33m.\u001b[0m\u001b[0mget\u001b[0m\u001b[1;33m(\u001b[0m\u001b[0mself\u001b[0m\u001b[1;33m.\u001b[0m\u001b[0mvid_info_url\u001b[0m\u001b[1;33m)\u001b[0m\u001b[1;33m\u001b[0m\u001b[0m\n",
      "\u001b[1;32mC:\\Users\\Conrad\\Anaconda2\\lib\\site-packages\\pytube\\extract.pyc\u001b[0m in \u001b[0;36mvideo_info_url\u001b[1;34m(video_id, watch_url, watch_html, embed_html, age_restricted)\u001b[0m\n\u001b[0;32m     99\u001b[0m         t = regex_search(\n\u001b[0;32m    100\u001b[0m             \u001b[1;34mr'\\W[\\'\"]?t[\\'\"]?: ?[\\'\"](.+?)[\\'\"]'\u001b[0m\u001b[1;33m,\u001b[0m \u001b[0mwatch_html\u001b[0m\u001b[1;33m,\u001b[0m\u001b[1;33m\u001b[0m\u001b[0m\n\u001b[1;32m--> 101\u001b[1;33m             \u001b[0mgroup\u001b[0m\u001b[1;33m=\u001b[0m\u001b[1;36m0\u001b[0m\u001b[1;33m,\u001b[0m\u001b[1;33m\u001b[0m\u001b[0m\n\u001b[0m\u001b[0;32m    102\u001b[0m         )\n\u001b[0;32m    103\u001b[0m         params = OrderedDict([\n",
      "\u001b[1;32mC:\\Users\\Conrad\\Anaconda2\\lib\\site-packages\\pytube\\helpers.pyc\u001b[0m in \u001b[0;36mregex_search\u001b[1;34m(pattern, string, groups, group, flags)\u001b[0m\n\u001b[0;32m     37\u001b[0m         raise RegexMatchError(\n\u001b[0;32m     38\u001b[0m             \u001b[1;34m'regex pattern ({pattern}) had zero matches'\u001b[0m\u001b[1;33m\u001b[0m\u001b[0m\n\u001b[1;32m---> 39\u001b[1;33m             \u001b[1;33m.\u001b[0m\u001b[0mformat\u001b[0m\u001b[1;33m(\u001b[0m\u001b[0mpattern\u001b[0m\u001b[1;33m=\u001b[0m\u001b[0mpattern\u001b[0m\u001b[1;33m)\u001b[0m\u001b[1;33m,\u001b[0m\u001b[1;33m\u001b[0m\u001b[0m\n\u001b[0m\u001b[0;32m     40\u001b[0m         )\n\u001b[0;32m     41\u001b[0m     \u001b[1;32melse\u001b[0m\u001b[1;33m:\u001b[0m\u001b[1;33m\u001b[0m\u001b[0m\n",
      "\u001b[1;31mRegexMatchError\u001b[0m: regex pattern (\\W[\\'\"]?t[\\'\"]?: ?[\\'\"](.+?)[\\'\"]) had zero matches"
     ]
    }
   ],
   "source": [
    "yt = YouTube('https://www.youtube.com/watch?v=3pFe13ZrnJA')"
   ]
  },
  {
   "cell_type": "code",
   "execution_count": 4,
   "metadata": {},
   "outputs": [
    {
     "ename": "RegexMatchError",
     "evalue": "regex pattern (\\W[\\'\"]?t[\\'\"]?: ?[\\'\"](.+?)[\\'\"]) had zero matches",
     "output_type": "error",
     "traceback": [
      "\u001b[1;31m---------------------------------------------------------------------------\u001b[0m",
      "\u001b[1;31mRegexMatchError\u001b[0m                           Traceback (most recent call last)",
      "\u001b[1;32m<ipython-input-4-b11afc057b72>\u001b[0m in \u001b[0;36m<module>\u001b[1;34m()\u001b[0m\n\u001b[0;32m      1\u001b[0m \u001b[1;32mfor\u001b[0m \u001b[0mf\u001b[0m \u001b[1;32min\u001b[0m \u001b[0mFoucalt\u001b[0m\u001b[1;33m:\u001b[0m\u001b[1;33m\u001b[0m\u001b[0m\n\u001b[1;32m----> 2\u001b[1;33m     \u001b[0myt\u001b[0m \u001b[1;33m=\u001b[0m \u001b[0mYouTube\u001b[0m\u001b[1;33m(\u001b[0m\u001b[0mf\u001b[0m\u001b[1;33m)\u001b[0m\u001b[1;33m\u001b[0m\u001b[0m\n\u001b[0m\u001b[0;32m      3\u001b[0m     \u001b[1;32mprint\u001b[0m \u001b[0myt\u001b[0m\u001b[1;33m.\u001b[0m\u001b[0mtitle\u001b[0m\u001b[1;33m\u001b[0m\u001b[0m\n\u001b[0;32m      4\u001b[0m     \u001b[1;31m#print yt.streams.all()\u001b[0m\u001b[1;33m\u001b[0m\u001b[1;33m\u001b[0m\u001b[0m\n\u001b[0;32m      5\u001b[0m     \u001b[0mstream\u001b[0m \u001b[1;33m=\u001b[0m \u001b[0myt\u001b[0m\u001b[1;33m.\u001b[0m\u001b[0mstreams\u001b[0m\u001b[1;33m.\u001b[0m\u001b[0mget_by_itag\u001b[0m\u001b[1;33m(\u001b[0m\u001b[1;36m18\u001b[0m\u001b[1;33m)\u001b[0m\u001b[1;33m\u001b[0m\u001b[0m\n",
      "\u001b[1;32mC:\\Users\\Conrad\\Anaconda2\\lib\\site-packages\\pytube\\__main__.pyc\u001b[0m in \u001b[0;36m__init__\u001b[1;34m(self, url, defer_prefetch_init, on_progress_callback, on_complete_callback, proxies)\u001b[0m\n\u001b[0;32m     85\u001b[0m \u001b[1;33m\u001b[0m\u001b[0m\n\u001b[0;32m     86\u001b[0m         \u001b[1;32mif\u001b[0m \u001b[1;32mnot\u001b[0m \u001b[0mdefer_prefetch_init\u001b[0m\u001b[1;33m:\u001b[0m\u001b[1;33m\u001b[0m\u001b[0m\n\u001b[1;32m---> 87\u001b[1;33m             \u001b[0mself\u001b[0m\u001b[1;33m.\u001b[0m\u001b[0mprefetch_init\u001b[0m\u001b[1;33m(\u001b[0m\u001b[1;33m)\u001b[0m\u001b[1;33m\u001b[0m\u001b[0m\n\u001b[0m\u001b[0;32m     88\u001b[0m \u001b[1;33m\u001b[0m\u001b[0m\n\u001b[0;32m     89\u001b[0m     \u001b[1;32mdef\u001b[0m \u001b[0mprefetch_init\u001b[0m\u001b[1;33m(\u001b[0m\u001b[0mself\u001b[0m\u001b[1;33m)\u001b[0m\u001b[1;33m:\u001b[0m\u001b[1;33m\u001b[0m\u001b[0m\n",
      "\u001b[1;32mC:\\Users\\Conrad\\Anaconda2\\lib\\site-packages\\pytube\\__main__.pyc\u001b[0m in \u001b[0;36mprefetch_init\u001b[1;34m(self)\u001b[0m\n\u001b[0;32m     93\u001b[0m \u001b[1;33m\u001b[0m\u001b[0m\n\u001b[0;32m     94\u001b[0m         \"\"\"\n\u001b[1;32m---> 95\u001b[1;33m         \u001b[0mself\u001b[0m\u001b[1;33m.\u001b[0m\u001b[0mprefetch\u001b[0m\u001b[1;33m(\u001b[0m\u001b[1;33m)\u001b[0m\u001b[1;33m\u001b[0m\u001b[0m\n\u001b[0m\u001b[0;32m     96\u001b[0m         \u001b[0mself\u001b[0m\u001b[1;33m.\u001b[0m\u001b[0minit\u001b[0m\u001b[1;33m(\u001b[0m\u001b[1;33m)\u001b[0m\u001b[1;33m\u001b[0m\u001b[0m\n\u001b[0;32m     97\u001b[0m \u001b[1;33m\u001b[0m\u001b[0m\n",
      "\u001b[1;32mC:\\Users\\Conrad\\Anaconda2\\lib\\site-packages\\pytube\\__main__.pyc\u001b[0m in \u001b[0;36mprefetch\u001b[1;34m(self)\u001b[0m\n\u001b[0;32m    164\u001b[0m             \u001b[0mwatch_html\u001b[0m\u001b[1;33m=\u001b[0m\u001b[0mself\u001b[0m\u001b[1;33m.\u001b[0m\u001b[0mwatch_html\u001b[0m\u001b[1;33m,\u001b[0m\u001b[1;33m\u001b[0m\u001b[0m\n\u001b[0;32m    165\u001b[0m             \u001b[0membed_html\u001b[0m\u001b[1;33m=\u001b[0m\u001b[0mself\u001b[0m\u001b[1;33m.\u001b[0m\u001b[0membed_html\u001b[0m\u001b[1;33m,\u001b[0m\u001b[1;33m\u001b[0m\u001b[0m\n\u001b[1;32m--> 166\u001b[1;33m             \u001b[0mage_restricted\u001b[0m\u001b[1;33m=\u001b[0m\u001b[0mself\u001b[0m\u001b[1;33m.\u001b[0m\u001b[0mage_restricted\u001b[0m\u001b[1;33m,\u001b[0m\u001b[1;33m\u001b[0m\u001b[0m\n\u001b[0m\u001b[0;32m    167\u001b[0m         )\n\u001b[0;32m    168\u001b[0m         \u001b[0mself\u001b[0m\u001b[1;33m.\u001b[0m\u001b[0mvid_info\u001b[0m \u001b[1;33m=\u001b[0m \u001b[0mrequest\u001b[0m\u001b[1;33m.\u001b[0m\u001b[0mget\u001b[0m\u001b[1;33m(\u001b[0m\u001b[0mself\u001b[0m\u001b[1;33m.\u001b[0m\u001b[0mvid_info_url\u001b[0m\u001b[1;33m)\u001b[0m\u001b[1;33m\u001b[0m\u001b[0m\n",
      "\u001b[1;32mC:\\Users\\Conrad\\Anaconda2\\lib\\site-packages\\pytube\\extract.pyc\u001b[0m in \u001b[0;36mvideo_info_url\u001b[1;34m(video_id, watch_url, watch_html, embed_html, age_restricted)\u001b[0m\n\u001b[0;32m     99\u001b[0m         t = regex_search(\n\u001b[0;32m    100\u001b[0m             \u001b[1;34mr'\\W[\\'\"]?t[\\'\"]?: ?[\\'\"](.+?)[\\'\"]'\u001b[0m\u001b[1;33m,\u001b[0m \u001b[0mwatch_html\u001b[0m\u001b[1;33m,\u001b[0m\u001b[1;33m\u001b[0m\u001b[0m\n\u001b[1;32m--> 101\u001b[1;33m             \u001b[0mgroup\u001b[0m\u001b[1;33m=\u001b[0m\u001b[1;36m0\u001b[0m\u001b[1;33m,\u001b[0m\u001b[1;33m\u001b[0m\u001b[0m\n\u001b[0m\u001b[0;32m    102\u001b[0m         )\n\u001b[0;32m    103\u001b[0m         params = OrderedDict([\n",
      "\u001b[1;32mC:\\Users\\Conrad\\Anaconda2\\lib\\site-packages\\pytube\\helpers.pyc\u001b[0m in \u001b[0;36mregex_search\u001b[1;34m(pattern, string, groups, group, flags)\u001b[0m\n\u001b[0;32m     37\u001b[0m         raise RegexMatchError(\n\u001b[0;32m     38\u001b[0m             \u001b[1;34m'regex pattern ({pattern}) had zero matches'\u001b[0m\u001b[1;33m\u001b[0m\u001b[0m\n\u001b[1;32m---> 39\u001b[1;33m             \u001b[1;33m.\u001b[0m\u001b[0mformat\u001b[0m\u001b[1;33m(\u001b[0m\u001b[0mpattern\u001b[0m\u001b[1;33m=\u001b[0m\u001b[0mpattern\u001b[0m\u001b[1;33m)\u001b[0m\u001b[1;33m,\u001b[0m\u001b[1;33m\u001b[0m\u001b[0m\n\u001b[0m\u001b[0;32m     40\u001b[0m         )\n\u001b[0;32m     41\u001b[0m     \u001b[1;32melse\u001b[0m\u001b[1;33m:\u001b[0m\u001b[1;33m\u001b[0m\u001b[0m\n",
      "\u001b[1;31mRegexMatchError\u001b[0m: regex pattern (\\W[\\'\"]?t[\\'\"]?: ?[\\'\"](.+?)[\\'\"]) had zero matches"
     ]
    }
   ],
   "source": [
    "for f in Foucalt:\n",
    "    yt = YouTube(f)\n",
    "    print yt.title\n",
    "    #print yt.streams.all()\n",
    "    stream = yt.streams.get_by_itag(18)\n",
    "    #print stream\n",
    "    stream.download('c:/Users/Conrad/Downloads/')"
   ]
  },
  {
   "cell_type": "code",
   "execution_count": 6,
   "metadata": {},
   "outputs": [],
   "source": [
    "#<iframe width=\"560\" height=\"315\" src=\"https://www.youtube.com/embed/KowhjcDxhHE\" frameborder=\"0\" allow=\"accelerometer; autoplay; encrypted-media; gyroscope; picture-in-picture\" allowfullscreen></iframe>\n",
    "yt = YouTube('https://www.youtube.com/watch?v=spUNpyF58BY')"
   ]
  },
  {
   "cell_type": "code",
   "execution_count": 7,
   "metadata": {
    "scrolled": false
   },
   "outputs": [
    {
     "data": {
      "text/plain": [
       "u'But what is the Fourier Transform?  A visual introduction.'"
      ]
     },
     "execution_count": 7,
     "metadata": {},
     "output_type": "execute_result"
    }
   ],
   "source": [
    "yt.title"
   ]
  },
  {
   "cell_type": "code",
   "execution_count": 8,
   "metadata": {},
   "outputs": [
    {
     "data": {
      "text/plain": [
       "[<Stream: itag=\"22\" mime_type=\"video/mp4\" res=\"720p\" fps=\"30fps\" vcodec=\"avc1.64001F\" acodec=\"mp4a.40.2\">,\n",
       " <Stream: itag=\"43\" mime_type=\"video/webm\" res=\"360p\" fps=\"30fps\" vcodec=\"vp8.0\" acodec=\"vorbis\">,\n",
       " <Stream: itag=\"18\" mime_type=\"video/mp4\" res=\"360p\" fps=\"30fps\" vcodec=\"avc1.42001E\" acodec=\"mp4a.40.2\">,\n",
       " <Stream: itag=\"137\" mime_type=\"video/mp4\" res=\"1080p\" fps=\"30fps\" vcodec=\"avc1.640028\">,\n",
       " <Stream: itag=\"248\" mime_type=\"video/webm\" res=\"1080p\" fps=\"30fps\" vcodec=\"vp9\">,\n",
       " <Stream: itag=\"299\" mime_type=\"video/mp4\" res=\"1080p\" fps=\"60fps\" vcodec=\"avc1.64002a\">,\n",
       " <Stream: itag=\"303\" mime_type=\"video/webm\" res=\"1080p\" fps=\"60fps\" vcodec=\"vp9\">,\n",
       " <Stream: itag=\"136\" mime_type=\"video/mp4\" res=\"720p\" fps=\"30fps\" vcodec=\"avc1.4d401f\">,\n",
       " <Stream: itag=\"247\" mime_type=\"video/webm\" res=\"720p\" fps=\"30fps\" vcodec=\"vp9\">,\n",
       " <Stream: itag=\"298\" mime_type=\"video/mp4\" res=\"720p\" fps=\"60fps\" vcodec=\"avc1.4d4020\">,\n",
       " <Stream: itag=\"302\" mime_type=\"video/webm\" res=\"720p\" fps=\"60fps\" vcodec=\"vp9\">,\n",
       " <Stream: itag=\"135\" mime_type=\"video/mp4\" res=\"480p\" fps=\"30fps\" vcodec=\"avc1.4d401f\">,\n",
       " <Stream: itag=\"244\" mime_type=\"video/webm\" res=\"480p\" fps=\"30fps\" vcodec=\"vp9\">,\n",
       " <Stream: itag=\"134\" mime_type=\"video/mp4\" res=\"360p\" fps=\"30fps\" vcodec=\"avc1.4d401e\">,\n",
       " <Stream: itag=\"243\" mime_type=\"video/webm\" res=\"360p\" fps=\"30fps\" vcodec=\"vp9\">,\n",
       " <Stream: itag=\"133\" mime_type=\"video/mp4\" res=\"240p\" fps=\"30fps\" vcodec=\"avc1.4d4015\">,\n",
       " <Stream: itag=\"242\" mime_type=\"video/webm\" res=\"240p\" fps=\"30fps\" vcodec=\"vp9\">,\n",
       " <Stream: itag=\"160\" mime_type=\"video/mp4\" res=\"144p\" fps=\"30fps\" vcodec=\"avc1.4d400c\">,\n",
       " <Stream: itag=\"278\" mime_type=\"video/webm\" res=\"144p\" fps=\"30fps\" vcodec=\"vp9\">,\n",
       " <Stream: itag=\"140\" mime_type=\"audio/mp4\" abr=\"128kbps\" acodec=\"mp4a.40.2\">,\n",
       " <Stream: itag=\"171\" mime_type=\"audio/webm\" abr=\"128kbps\" acodec=\"vorbis\">,\n",
       " <Stream: itag=\"249\" mime_type=\"audio/webm\" abr=\"50kbps\" acodec=\"opus\">,\n",
       " <Stream: itag=\"250\" mime_type=\"audio/webm\" abr=\"70kbps\" acodec=\"opus\">,\n",
       " <Stream: itag=\"251\" mime_type=\"audio/webm\" abr=\"160kbps\" acodec=\"opus\">]"
      ]
     },
     "execution_count": 8,
     "metadata": {},
     "output_type": "execute_result"
    }
   ],
   "source": [
    "yt.streams.all()"
   ]
  },
  {
   "cell_type": "code",
   "execution_count": 9,
   "metadata": {},
   "outputs": [],
   "source": [
    "stream = yt.streams.get_by_itag(22)"
   ]
  },
  {
   "cell_type": "code",
   "execution_count": 10,
   "metadata": {},
   "outputs": [],
   "source": [
    "stream.download('c:/Users/Conrad/Downloads/')"
   ]
  },
  {
   "cell_type": "code",
   "execution_count": null,
   "metadata": {},
   "outputs": [],
   "source": []
  }
 ],
 "metadata": {
  "kernelspec": {
   "display_name": "Python [conda root]",
   "language": "python",
   "name": "conda-root-py"
  },
  "language_info": {
   "codemirror_mode": {
    "name": "ipython",
    "version": 2
   },
   "file_extension": ".py",
   "mimetype": "text/x-python",
   "name": "python",
   "nbconvert_exporter": "python",
   "pygments_lexer": "ipython2",
   "version": "2.7.14"
  }
 },
 "nbformat": 4,
 "nbformat_minor": 2
}
