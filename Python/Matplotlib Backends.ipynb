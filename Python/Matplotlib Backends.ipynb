{
 "cells": [
  {
   "cell_type": "code",
   "execution_count": 1,
   "metadata": {},
   "outputs": [
    {
     "name": "stdout",
     "output_type": "stream",
     "text": [
      "Help on function use in module matplotlib:\n",
      "\n",
      "use(arg, warn=True, force=False)\n",
      "    Set the matplotlib backend to one of the known backends.\n",
      "    \n",
      "    The argument is case-insensitive. *warn* specifies whether a\n",
      "    warning should be issued if a backend has already been set up.\n",
      "    *force* is an **experimental** flag that tells matplotlib to\n",
      "    attempt to initialize a new backend by reloading the backend\n",
      "    module.\n",
      "    \n",
      "    .. note::\n",
      "    \n",
      "        This function must be called *before* importing pyplot for\n",
      "        the first time; or, if you are not using pyplot, it must be called\n",
      "        before importing matplotlib.backends.  If warn is True, a warning\n",
      "        is issued if you try and call this after pylab or pyplot have been\n",
      "        loaded.  In certain black magic use cases, e.g.\n",
      "        :func:`pyplot.switch_backend`, we are doing the reloading necessary to\n",
      "        make the backend switch work (in some cases, e.g., pure image\n",
      "        backends) so one can set warn=False to suppress the warnings.\n",
      "    \n",
      "    To find out which backend is currently set, see\n",
      "    :func:`matplotlib.get_backend`.\n",
      "\n"
     ]
    }
   ],
   "source": [
    "help(mpl.use)"
   ]
  },
  {
   "cell_type": "code",
   "execution_count": 1,
   "metadata": {},
   "outputs": [
    {
     "data": {
      "text/plain": [
       "u'TkAgg'"
      ]
     },
     "execution_count": 1,
     "metadata": {},
     "output_type": "execute_result"
    }
   ],
   "source": [
    "mpl.get_backend()"
   ]
  },
  {
   "cell_type": "code",
   "execution_count": 2,
   "metadata": {},
   "outputs": [
    {
     "data": {
      "text/plain": [
       "[<matplotlib.lines.Line2D at 0x74d8190>]"
      ]
     },
     "execution_count": 2,
     "metadata": {},
     "output_type": "execute_result"
    }
   ],
   "source": [
    "plt.plot(np.sin(np.arange(1,10,0.1)))"
   ]
  },
  {
   "cell_type": "code",
   "execution_count": 3,
   "metadata": {},
   "outputs": [],
   "source": [
    "plt.show()"
   ]
  },
  {
   "cell_type": "code",
   "execution_count": null,
   "metadata": {},
   "outputs": [],
   "source": []
  }
 ],
 "metadata": {
  "kernelspec": {
   "display_name": "Python [conda env:Anaconda2]",
   "language": "python",
   "name": "conda-env-Anaconda2-py"
  },
  "language_info": {
   "codemirror_mode": {
    "name": "ipython",
    "version": 2
   },
   "file_extension": ".py",
   "mimetype": "text/x-python",
   "name": "python",
   "nbconvert_exporter": "python",
   "pygments_lexer": "ipython2",
   "version": "2.7.14"
  }
 },
 "nbformat": 4,
 "nbformat_minor": 2
}
