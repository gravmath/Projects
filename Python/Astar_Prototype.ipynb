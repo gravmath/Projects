{
 "cells": [
  {
   "cell_type": "code",
   "execution_count": 10,
   "metadata": {},
   "outputs": [],
   "source": [
    "grid_point = lambda x,t,c: {'loc':x,'terrain':t,'cost':c,'parent':()}\n",
    "grid_index = lambda loc : (loc[0]-1)*num_y + (loc[1]-1)\n",
    "\n",
    "def grid_dist(loc,targ):\n",
    "    k = abs(loc[0]-targ[0])\n",
    "    l = abs(loc[1]-targ[1])\n",
    "    \n",
    "    q = min(k,l)\n",
    "    w = abs(k-l)\n",
    "    return q + w"
   ]
  },
  {
   "cell_type": "code",
   "execution_count": 11,
   "metadata": {},
   "outputs": [],
   "source": [
    "def initialize_grid(grid):\n",
    "    for i in range(1,num_x+1):\n",
    "        for j in range(1,num_y+1):\n",
    "            loc = (i,j)\n",
    "            if loc in walls:\n",
    "                ter = 1000000\n",
    "            elif loc in mountains:\n",
    "                ter = 10\n",
    "            elif loc in desert:\n",
    "                ter = 7\n",
    "            elif loc in water:\n",
    "                ter = 5\n",
    "            elif loc in forest:\n",
    "                ter = 2\n",
    "            else:\n",
    "                ter = 1\n",
    "            dist = grid_dist(loc,man)\n",
    "            cost = ter + dist\n",
    "            grid.append(grid_point(loc,ter,cost))\n",
    "    grid = sorted(grid,key=lambda k : k['loc'])"
   ]
  },
  {
   "cell_type": "code",
   "execution_count": 12,
   "metadata": {},
   "outputs": [],
   "source": [
    "def find_index_of_loc_in_list(loc,lst):\n",
    "    counter = 0\n",
    "    for item in lst:\n",
    "        if item['loc'] == loc:\n",
    "            return counter\n",
    "        counter += 1\n",
    "    return False"
   ]
  },
  {
   "cell_type": "code",
   "execution_count": 13,
   "metadata": {},
   "outputs": [],
   "source": [
    "def explore_a_spot(loc):\n",
    "    #put loc on closed_list and remove loc from the open list\n",
    "    loc_index = grid_index(loc)\n",
    "    closed_list.append(grid[loc_index])\n",
    "    \n",
    "    #for each neighbor\n",
    "    for  i in range(-1,2):\n",
    "        for j in range(-1,2):\n",
    "            neighbor_loc   = (loc[0]+i,loc[1]+j)\n",
    "            if neighbor_loc[0] < 1 or neighbor_loc[1] < 1 or neighbor_loc[0] > num_x or neighbor_loc[1] > num_y :\n",
    "                pass\n",
    "            else:\n",
    "                neighbor_index = grid_index(neighbor_loc)\n",
    "                neighbor       = grid[neighbor_index]\n",
    "                if neighbor in open_list or neighbor in closed_list:\n",
    "                    pass\n",
    "                else:\n",
    "                    if grid[neighbor_index]['terrain'] < 1000000:\n",
    "                        grid[neighbor_index]['parent'] = loc\n",
    "                        open_list.append(grid[neighbor_index])"
   ]
  },
  {
   "cell_type": "code",
   "execution_count": 14,
   "metadata": {},
   "outputs": [],
   "source": [
    "def construct_path(closed_list,start,targ):\n",
    "    path = [targ]\n",
    "    closed_list_by_loc = sorted(closed_list,key=lambda k : k['loc'])\n",
    "    curr_index         = find_index_of_loc_in_list(targ,closed_list_by_loc)\n",
    "    flag = 0 \n",
    "    while flag != 1:\n",
    "        prev_loc   = closed_list_by_loc[curr_index]['parent']\n",
    "        curr_index = find_index_of_loc_in_list(prev_loc,closed_list_by_loc)\n",
    "        print prev_loc\n",
    "        path.append(prev_loc)\n",
    "        if prev_loc == 'self':\n",
    "            flag = 1\n",
    "    path.reverse()\n",
    "    return path"
   ]
  },
  {
   "cell_type": "code",
   "execution_count": 95,
   "metadata": {},
   "outputs": [],
   "source": [
    "walls     = [(5,2),(2,3),(3,3),(4,3),(5,3),(10,3),(11,3),(6,4),(8,4),(9,4),(10,4),(7,5),(8,5)]\n",
    "mountains = []\n",
    "desert    = []\n",
    "water     = []\n",
    "forest    = []\n",
    "snake = (4,2)\n",
    "man   = (11,4)\n",
    "num_x = 11\n",
    "num_y = 6\n",
    "open_list   = []\n",
    "closed_list = []\n",
    "grid        = []\n",
    "path        = []"
   ]
  },
  {
   "cell_type": "code",
   "execution_count": 96,
   "metadata": {},
   "outputs": [],
   "source": [
    "initialize_grid(grid)\n",
    "grid[grid_index(snake)]['parent'] = 'self'\n",
    "open_list.append(grid[grid_index(snake)])"
   ]
  },
  {
   "cell_type": "code",
   "execution_count": 97,
   "metadata": {
    "scrolled": false
   },
   "outputs": [
    {
     "name": "stdout",
     "output_type": "stream",
     "text": [
      "(11, 5)\n",
      "(10, 6)\n",
      "(9, 6)\n",
      "(8, 6)\n",
      "(7, 6)\n",
      "(6, 5)\n",
      "(7, 4)\n",
      "(7, 3)\n",
      "(6, 2)\n",
      "(5, 1)\n",
      "(4, 2)\n",
      "self\n"
     ]
    }
   ],
   "source": [
    "open_list  = sorted(open_list,key=lambda k : k['loc'])\n",
    "curr_spot  = open_list.pop()\n",
    "while curr_spot['loc'] != man:\n",
    "    explore_a_spot(curr_spot['loc'])\n",
    "    open_list  = sorted(open_list,key=lambda k : k['loc'])\n",
    "    curr_spot  = open_list.pop()\n",
    "closed_list.append(curr_spot)    \n",
    "my_path = construct_path(closed_list,snake,man)"
   ]
  },
  {
   "cell_type": "code",
   "execution_count": 26,
   "metadata": {},
   "outputs": [],
   "source": [
    "walls     = [(5,2),(2,3),(3,3),(4,3),(5,3),(10,3),(11,3),(6,4),(8,4),(9,4),(10,4),(7,5),(8,5)]\n",
    "mountains = []\n",
    "desert    = []\n",
    "water     = []\n",
    "forest    = []\n",
    "snake = (4,2)\n",
    "man   = (11,4)\n",
    "num_x = 11\n",
    "num_y = 6\n",
    "open_list   = []\n",
    "closed_list = []\n",
    "grid        = []\n",
    "path        = []"
   ]
  },
  {
   "cell_type": "code",
   "execution_count": 27,
   "metadata": {},
   "outputs": [],
   "source": [
    "initialize_grid(grid)\n",
    "grid[grid_index(snake)]['parent'] = 'self'\n",
    "open_list.append(grid[grid_index(snake)])"
   ]
  },
  {
   "cell_type": "code",
   "execution_count": 28,
   "metadata": {},
   "outputs": [
    {
     "name": "stdout",
     "output_type": "stream",
     "text": [
      "(4, 2) False\n",
      "[{'loc': (4, 2), 'cost': 8, 'terrain': 1, 'parent': 'self'}]\n"
     ]
    },
    {
     "data": {
      "text/plain": [
       "[{'cost': 9, 'loc': (3, 1), 'parent': (4, 2), 'terrain': 1},\n",
       " {'cost': 9, 'loc': (3, 2), 'parent': (4, 2), 'terrain': 1},\n",
       " {'cost': 8, 'loc': (4, 1), 'parent': (4, 2), 'terrain': 1},\n",
       " {'cost': 7, 'loc': (5, 1), 'parent': (4, 2), 'terrain': 1}]"
      ]
     },
     "execution_count": 28,
     "metadata": {},
     "output_type": "execute_result"
    }
   ],
   "source": [
    "open_list  = sorted(open_list,key=lambda k : k['loc'])\n",
    "curr_spot  = open_list.pop()\n",
    "print curr_spot['loc'], curr_spot['loc'] == man\n",
    "explore_a_spot(curr_spot['loc'])\n",
    "print closed_list\n",
    "open_list"
   ]
  },
  {
   "cell_type": "code",
   "execution_count": 29,
   "metadata": {},
   "outputs": [
    {
     "name": "stdout",
     "output_type": "stream",
     "text": [
      "(5, 1) False\n",
      "[{'loc': (4, 2), 'cost': 8, 'terrain': 1, 'parent': 'self'}, {'loc': (5, 1), 'cost': 7, 'terrain': 1, 'parent': (4, 2)}]\n"
     ]
    },
    {
     "data": {
      "text/plain": [
       "[{'cost': 9, 'loc': (3, 1), 'parent': (4, 2), 'terrain': 1},\n",
       " {'cost': 9, 'loc': (3, 2), 'parent': (4, 2), 'terrain': 1},\n",
       " {'cost': 8, 'loc': (4, 1), 'parent': (4, 2), 'terrain': 1},\n",
       " {'cost': 6, 'loc': (6, 1), 'parent': (5, 1), 'terrain': 1},\n",
       " {'cost': 6, 'loc': (6, 2), 'parent': (5, 1), 'terrain': 1}]"
      ]
     },
     "execution_count": 29,
     "metadata": {},
     "output_type": "execute_result"
    }
   ],
   "source": [
    "open_list  = sorted(open_list,key=lambda k : k['loc'])\n",
    "curr_spot  = open_list.pop()\n",
    "print curr_spot['loc'], curr_spot['loc'] == man\n",
    "explore_a_spot(curr_spot['loc'])\n",
    "print closed_list\n",
    "open_list"
   ]
  },
  {
   "cell_type": "code",
   "execution_count": 30,
   "metadata": {},
   "outputs": [
    {
     "name": "stdout",
     "output_type": "stream",
     "text": [
      "(6, 2) False\n",
      "[{'loc': (4, 2), 'cost': 8, 'terrain': 1, 'parent': 'self'}, {'loc': (5, 1), 'cost': 7, 'terrain': 1, 'parent': (4, 2)}, {'loc': (6, 2), 'cost': 6, 'terrain': 1, 'parent': (5, 1)}]\n"
     ]
    },
    {
     "data": {
      "text/plain": [
       "[{'cost': 9, 'loc': (3, 1), 'parent': (4, 2), 'terrain': 1},\n",
       " {'cost': 9, 'loc': (3, 2), 'parent': (4, 2), 'terrain': 1},\n",
       " {'cost': 8, 'loc': (4, 1), 'parent': (4, 2), 'terrain': 1},\n",
       " {'cost': 6, 'loc': (6, 1), 'parent': (5, 1), 'terrain': 1},\n",
       " {'cost': 6, 'loc': (6, 3), 'parent': (6, 2), 'terrain': 1},\n",
       " {'cost': 5, 'loc': (7, 1), 'parent': (6, 2), 'terrain': 1},\n",
       " {'cost': 5, 'loc': (7, 2), 'parent': (6, 2), 'terrain': 1},\n",
       " {'cost': 5, 'loc': (7, 3), 'parent': (6, 2), 'terrain': 1}]"
      ]
     },
     "execution_count": 30,
     "metadata": {},
     "output_type": "execute_result"
    }
   ],
   "source": [
    "open_list  = sorted(open_list,key=lambda k : k['loc'])\n",
    "curr_spot  = open_list.pop()\n",
    "print curr_spot['loc'], curr_spot['loc'] == man\n",
    "explore_a_spot(curr_spot['loc'])\n",
    "print closed_list\n",
    "open_list"
   ]
  },
  {
   "cell_type": "code",
   "execution_count": 31,
   "metadata": {},
   "outputs": [
    {
     "name": "stdout",
     "output_type": "stream",
     "text": [
      "(7, 3) False\n",
      "[{'loc': (4, 2), 'cost': 8, 'terrain': 1, 'parent': 'self'}, {'loc': (5, 1), 'cost': 7, 'terrain': 1, 'parent': (4, 2)}, {'loc': (6, 2), 'cost': 6, 'terrain': 1, 'parent': (5, 1)}, {'loc': (7, 3), 'cost': 5, 'terrain': 1, 'parent': (6, 2)}]\n"
     ]
    },
    {
     "data": {
      "text/plain": [
       "[{'cost': 9, 'loc': (3, 1), 'parent': (4, 2), 'terrain': 1},\n",
       " {'cost': 9, 'loc': (3, 2), 'parent': (4, 2), 'terrain': 1},\n",
       " {'cost': 8, 'loc': (4, 1), 'parent': (4, 2), 'terrain': 1},\n",
       " {'cost': 6, 'loc': (6, 1), 'parent': (5, 1), 'terrain': 1},\n",
       " {'cost': 6, 'loc': (6, 3), 'parent': (6, 2), 'terrain': 1},\n",
       " {'cost': 5, 'loc': (7, 1), 'parent': (6, 2), 'terrain': 1},\n",
       " {'cost': 5, 'loc': (7, 2), 'parent': (6, 2), 'terrain': 1},\n",
       " {'cost': 5, 'loc': (7, 4), 'parent': (7, 3), 'terrain': 1},\n",
       " {'cost': 4, 'loc': (8, 2), 'parent': (7, 3), 'terrain': 1},\n",
       " {'cost': 4, 'loc': (8, 3), 'parent': (7, 3), 'terrain': 1}]"
      ]
     },
     "execution_count": 31,
     "metadata": {},
     "output_type": "execute_result"
    }
   ],
   "source": [
    "open_list  = sorted(open_list,key=lambda k : k['loc'])\n",
    "curr_spot  = open_list.pop()\n",
    "print curr_spot['loc'], curr_spot['loc'] == man\n",
    "explore_a_spot(curr_spot['loc'])\n",
    "print closed_list\n",
    "open_list"
   ]
  },
  {
   "cell_type": "code",
   "execution_count": 32,
   "metadata": {},
   "outputs": [
    {
     "name": "stdout",
     "output_type": "stream",
     "text": [
      "(8, 3) False\n",
      "[{'loc': (4, 2), 'cost': 8, 'terrain': 1, 'parent': 'self'}, {'loc': (5, 1), 'cost': 7, 'terrain': 1, 'parent': (4, 2)}, {'loc': (6, 2), 'cost': 6, 'terrain': 1, 'parent': (5, 1)}, {'loc': (7, 3), 'cost': 5, 'terrain': 1, 'parent': (6, 2)}, {'loc': (8, 3), 'cost': 4, 'terrain': 1, 'parent': (7, 3)}]\n"
     ]
    },
    {
     "data": {
      "text/plain": [
       "[{'cost': 9, 'loc': (3, 1), 'parent': (4, 2), 'terrain': 1},\n",
       " {'cost': 9, 'loc': (3, 2), 'parent': (4, 2), 'terrain': 1},\n",
       " {'cost': 8, 'loc': (4, 1), 'parent': (4, 2), 'terrain': 1},\n",
       " {'cost': 6, 'loc': (6, 1), 'parent': (5, 1), 'terrain': 1},\n",
       " {'cost': 6, 'loc': (6, 3), 'parent': (6, 2), 'terrain': 1},\n",
       " {'cost': 5, 'loc': (7, 1), 'parent': (6, 2), 'terrain': 1},\n",
       " {'cost': 5, 'loc': (7, 2), 'parent': (6, 2), 'terrain': 1},\n",
       " {'cost': 5, 'loc': (7, 4), 'parent': (7, 3), 'terrain': 1},\n",
       " {'cost': 4, 'loc': (8, 2), 'parent': (7, 3), 'terrain': 1},\n",
       " {'cost': 3, 'loc': (9, 2), 'parent': (8, 3), 'terrain': 1},\n",
       " {'cost': 3, 'loc': (9, 3), 'parent': (8, 3), 'terrain': 1}]"
      ]
     },
     "execution_count": 32,
     "metadata": {},
     "output_type": "execute_result"
    }
   ],
   "source": [
    "open_list  = sorted(open_list,key=lambda k : k['loc'])\n",
    "curr_spot  = open_list.pop()\n",
    "print curr_spot['loc'], curr_spot['loc'] == man\n",
    "explore_a_spot(curr_spot['loc'])\n",
    "print closed_list\n",
    "open_list"
   ]
  },
  {
   "cell_type": "code",
   "execution_count": 33,
   "metadata": {},
   "outputs": [
    {
     "name": "stdout",
     "output_type": "stream",
     "text": [
      "(9, 3) False\n",
      "[{'loc': (4, 2), 'cost': 8, 'terrain': 1, 'parent': 'self'}, {'loc': (5, 1), 'cost': 7, 'terrain': 1, 'parent': (4, 2)}, {'loc': (6, 2), 'cost': 6, 'terrain': 1, 'parent': (5, 1)}, {'loc': (7, 3), 'cost': 5, 'terrain': 1, 'parent': (6, 2)}, {'loc': (8, 3), 'cost': 4, 'terrain': 1, 'parent': (7, 3)}, {'loc': (9, 3), 'cost': 3, 'terrain': 1, 'parent': (8, 3)}]\n"
     ]
    },
    {
     "data": {
      "text/plain": [
       "[{'cost': 9, 'loc': (3, 1), 'parent': (4, 2), 'terrain': 1},\n",
       " {'cost': 9, 'loc': (3, 2), 'parent': (4, 2), 'terrain': 1},\n",
       " {'cost': 8, 'loc': (4, 1), 'parent': (4, 2), 'terrain': 1},\n",
       " {'cost': 6, 'loc': (6, 1), 'parent': (5, 1), 'terrain': 1},\n",
       " {'cost': 6, 'loc': (6, 3), 'parent': (6, 2), 'terrain': 1},\n",
       " {'cost': 5, 'loc': (7, 1), 'parent': (6, 2), 'terrain': 1},\n",
       " {'cost': 5, 'loc': (7, 2), 'parent': (6, 2), 'terrain': 1},\n",
       " {'cost': 5, 'loc': (7, 4), 'parent': (7, 3), 'terrain': 1},\n",
       " {'cost': 4, 'loc': (8, 2), 'parent': (7, 3), 'terrain': 1},\n",
       " {'cost': 3, 'loc': (9, 2), 'parent': (8, 3), 'terrain': 1},\n",
       " {'cost': 3, 'loc': (10, 2), 'parent': (9, 3), 'terrain': 1}]"
      ]
     },
     "execution_count": 33,
     "metadata": {},
     "output_type": "execute_result"
    }
   ],
   "source": [
    "open_list  = sorted(open_list,key=lambda k : k['loc'])\n",
    "curr_spot  = open_list.pop()\n",
    "print curr_spot['loc'], curr_spot['loc'] == man\n",
    "explore_a_spot(curr_spot['loc'])\n",
    "print closed_list\n",
    "open_list"
   ]
  },
  {
   "cell_type": "code",
   "execution_count": 34,
   "metadata": {},
   "outputs": [
    {
     "name": "stdout",
     "output_type": "stream",
     "text": [
      "(10, 2) False\n",
      "[{'loc': (4, 2), 'cost': 8, 'terrain': 1, 'parent': 'self'}, {'loc': (5, 1), 'cost': 7, 'terrain': 1, 'parent': (4, 2)}, {'loc': (6, 2), 'cost': 6, 'terrain': 1, 'parent': (5, 1)}, {'loc': (7, 3), 'cost': 5, 'terrain': 1, 'parent': (6, 2)}, {'loc': (8, 3), 'cost': 4, 'terrain': 1, 'parent': (7, 3)}, {'loc': (9, 3), 'cost': 3, 'terrain': 1, 'parent': (8, 3)}, {'loc': (10, 2), 'cost': 3, 'terrain': 1, 'parent': (9, 3)}]\n"
     ]
    },
    {
     "data": {
      "text/plain": [
       "[{'cost': 9, 'loc': (3, 1), 'parent': (4, 2), 'terrain': 1},\n",
       " {'cost': 9, 'loc': (3, 2), 'parent': (4, 2), 'terrain': 1},\n",
       " {'cost': 8, 'loc': (4, 1), 'parent': (4, 2), 'terrain': 1},\n",
       " {'cost': 6, 'loc': (6, 1), 'parent': (5, 1), 'terrain': 1},\n",
       " {'cost': 6, 'loc': (6, 3), 'parent': (6, 2), 'terrain': 1},\n",
       " {'cost': 5, 'loc': (7, 1), 'parent': (6, 2), 'terrain': 1},\n",
       " {'cost': 5, 'loc': (7, 2), 'parent': (6, 2), 'terrain': 1},\n",
       " {'cost': 5, 'loc': (7, 4), 'parent': (7, 3), 'terrain': 1},\n",
       " {'cost': 4, 'loc': (8, 2), 'parent': (7, 3), 'terrain': 1},\n",
       " {'cost': 3, 'loc': (9, 2), 'parent': (8, 3), 'terrain': 1},\n",
       " {'cost': 4, 'loc': (9, 1), 'parent': (10, 2), 'terrain': 1},\n",
       " {'cost': 4, 'loc': (10, 1), 'parent': (10, 2), 'terrain': 1},\n",
       " {'cost': 4, 'loc': (11, 1), 'parent': (10, 2), 'terrain': 1},\n",
       " {'cost': 3, 'loc': (11, 2), 'parent': (10, 2), 'terrain': 1}]"
      ]
     },
     "execution_count": 34,
     "metadata": {},
     "output_type": "execute_result"
    }
   ],
   "source": [
    "open_list  = sorted(open_list,key=lambda k : k['loc'])\n",
    "curr_spot  = open_list.pop()\n",
    "print curr_spot['loc'], curr_spot['loc'] == man\n",
    "explore_a_spot(curr_spot['loc'])\n",
    "print closed_list\n",
    "open_list"
   ]
  },
  {
   "cell_type": "code",
   "execution_count": 35,
   "metadata": {},
   "outputs": [
    {
     "name": "stdout",
     "output_type": "stream",
     "text": [
      "(11, 2) False\n",
      "[{'loc': (4, 2), 'cost': 8, 'terrain': 1, 'parent': 'self'}, {'loc': (5, 1), 'cost': 7, 'terrain': 1, 'parent': (4, 2)}, {'loc': (6, 2), 'cost': 6, 'terrain': 1, 'parent': (5, 1)}, {'loc': (7, 3), 'cost': 5, 'terrain': 1, 'parent': (6, 2)}, {'loc': (8, 3), 'cost': 4, 'terrain': 1, 'parent': (7, 3)}, {'loc': (9, 3), 'cost': 3, 'terrain': 1, 'parent': (8, 3)}, {'loc': (10, 2), 'cost': 3, 'terrain': 1, 'parent': (9, 3)}, {'loc': (11, 2), 'cost': 3, 'terrain': 1, 'parent': (10, 2)}]\n"
     ]
    },
    {
     "data": {
      "text/plain": [
       "[{'cost': 9, 'loc': (3, 1), 'parent': (4, 2), 'terrain': 1},\n",
       " {'cost': 9, 'loc': (3, 2), 'parent': (4, 2), 'terrain': 1},\n",
       " {'cost': 8, 'loc': (4, 1), 'parent': (4, 2), 'terrain': 1},\n",
       " {'cost': 6, 'loc': (6, 1), 'parent': (5, 1), 'terrain': 1},\n",
       " {'cost': 6, 'loc': (6, 3), 'parent': (6, 2), 'terrain': 1},\n",
       " {'cost': 5, 'loc': (7, 1), 'parent': (6, 2), 'terrain': 1},\n",
       " {'cost': 5, 'loc': (7, 2), 'parent': (6, 2), 'terrain': 1},\n",
       " {'cost': 5, 'loc': (7, 4), 'parent': (7, 3), 'terrain': 1},\n",
       " {'cost': 4, 'loc': (8, 2), 'parent': (7, 3), 'terrain': 1},\n",
       " {'cost': 4, 'loc': (9, 1), 'parent': (10, 2), 'terrain': 1},\n",
       " {'cost': 3, 'loc': (9, 2), 'parent': (8, 3), 'terrain': 1},\n",
       " {'cost': 4, 'loc': (10, 1), 'parent': (10, 2), 'terrain': 1},\n",
       " {'cost': 4, 'loc': (11, 1), 'parent': (10, 2), 'terrain': 1}]"
      ]
     },
     "execution_count": 35,
     "metadata": {},
     "output_type": "execute_result"
    }
   ],
   "source": [
    "open_list  = sorted(open_list,key=lambda k : k['loc'])\n",
    "curr_spot  = open_list.pop()\n",
    "print curr_spot['loc'], curr_spot['loc'] == man\n",
    "explore_a_spot(curr_spot['loc'])\n",
    "print closed_list\n",
    "open_list"
   ]
  },
  {
   "cell_type": "code",
   "execution_count": 36,
   "metadata": {},
   "outputs": [
    {
     "name": "stdout",
     "output_type": "stream",
     "text": [
      "(11, 1) False\n",
      "[{'loc': (4, 2), 'cost': 8, 'terrain': 1, 'parent': 'self'}, {'loc': (5, 1), 'cost': 7, 'terrain': 1, 'parent': (4, 2)}, {'loc': (6, 2), 'cost': 6, 'terrain': 1, 'parent': (5, 1)}, {'loc': (7, 3), 'cost': 5, 'terrain': 1, 'parent': (6, 2)}, {'loc': (8, 3), 'cost': 4, 'terrain': 1, 'parent': (7, 3)}, {'loc': (9, 3), 'cost': 3, 'terrain': 1, 'parent': (8, 3)}, {'loc': (10, 2), 'cost': 3, 'terrain': 1, 'parent': (9, 3)}, {'loc': (11, 2), 'cost': 3, 'terrain': 1, 'parent': (10, 2)}, {'loc': (11, 1), 'cost': 4, 'terrain': 1, 'parent': (10, 2)}]\n"
     ]
    },
    {
     "data": {
      "text/plain": [
       "[{'cost': 9, 'loc': (3, 1), 'parent': (4, 2), 'terrain': 1},\n",
       " {'cost': 9, 'loc': (3, 2), 'parent': (4, 2), 'terrain': 1},\n",
       " {'cost': 8, 'loc': (4, 1), 'parent': (4, 2), 'terrain': 1},\n",
       " {'cost': 6, 'loc': (6, 1), 'parent': (5, 1), 'terrain': 1},\n",
       " {'cost': 6, 'loc': (6, 3), 'parent': (6, 2), 'terrain': 1},\n",
       " {'cost': 5, 'loc': (7, 1), 'parent': (6, 2), 'terrain': 1},\n",
       " {'cost': 5, 'loc': (7, 2), 'parent': (6, 2), 'terrain': 1},\n",
       " {'cost': 5, 'loc': (7, 4), 'parent': (7, 3), 'terrain': 1},\n",
       " {'cost': 4, 'loc': (8, 2), 'parent': (7, 3), 'terrain': 1},\n",
       " {'cost': 4, 'loc': (9, 1), 'parent': (10, 2), 'terrain': 1},\n",
       " {'cost': 3, 'loc': (9, 2), 'parent': (8, 3), 'terrain': 1},\n",
       " {'cost': 4, 'loc': (10, 1), 'parent': (10, 2), 'terrain': 1}]"
      ]
     },
     "execution_count": 36,
     "metadata": {},
     "output_type": "execute_result"
    }
   ],
   "source": [
    "open_list  = sorted(open_list,key=lambda k : k['loc'])\n",
    "curr_spot  = open_list.pop()\n",
    "print curr_spot['loc'], curr_spot['loc'] == man\n",
    "explore_a_spot(curr_spot['loc'])\n",
    "print closed_list\n",
    "open_list"
   ]
  },
  {
   "cell_type": "code",
   "execution_count": 37,
   "metadata": {},
   "outputs": [
    {
     "name": "stdout",
     "output_type": "stream",
     "text": [
      "(10, 1) False\n",
      "[{'loc': (4, 2), 'cost': 8, 'terrain': 1, 'parent': 'self'}, {'loc': (5, 1), 'cost': 7, 'terrain': 1, 'parent': (4, 2)}, {'loc': (6, 2), 'cost': 6, 'terrain': 1, 'parent': (5, 1)}, {'loc': (7, 3), 'cost': 5, 'terrain': 1, 'parent': (6, 2)}, {'loc': (8, 3), 'cost': 4, 'terrain': 1, 'parent': (7, 3)}, {'loc': (9, 3), 'cost': 3, 'terrain': 1, 'parent': (8, 3)}, {'loc': (10, 2), 'cost': 3, 'terrain': 1, 'parent': (9, 3)}, {'loc': (11, 2), 'cost': 3, 'terrain': 1, 'parent': (10, 2)}, {'loc': (11, 1), 'cost': 4, 'terrain': 1, 'parent': (10, 2)}, {'loc': (10, 1), 'cost': 4, 'terrain': 1, 'parent': (10, 2)}]\n"
     ]
    },
    {
     "data": {
      "text/plain": [
       "[{'cost': 9, 'loc': (3, 1), 'parent': (4, 2), 'terrain': 1},\n",
       " {'cost': 9, 'loc': (3, 2), 'parent': (4, 2), 'terrain': 1},\n",
       " {'cost': 8, 'loc': (4, 1), 'parent': (4, 2), 'terrain': 1},\n",
       " {'cost': 6, 'loc': (6, 1), 'parent': (5, 1), 'terrain': 1},\n",
       " {'cost': 6, 'loc': (6, 3), 'parent': (6, 2), 'terrain': 1},\n",
       " {'cost': 5, 'loc': (7, 1), 'parent': (6, 2), 'terrain': 1},\n",
       " {'cost': 5, 'loc': (7, 2), 'parent': (6, 2), 'terrain': 1},\n",
       " {'cost': 5, 'loc': (7, 4), 'parent': (7, 3), 'terrain': 1},\n",
       " {'cost': 4, 'loc': (8, 2), 'parent': (7, 3), 'terrain': 1},\n",
       " {'cost': 4, 'loc': (9, 1), 'parent': (10, 2), 'terrain': 1},\n",
       " {'cost': 3, 'loc': (9, 2), 'parent': (8, 3), 'terrain': 1}]"
      ]
     },
     "execution_count": 37,
     "metadata": {},
     "output_type": "execute_result"
    }
   ],
   "source": [
    "open_list  = sorted(open_list,key=lambda k : k['loc'])\n",
    "curr_spot  = open_list.pop()\n",
    "print curr_spot['loc'], curr_spot['loc'] == man\n",
    "explore_a_spot(curr_spot['loc'])\n",
    "print closed_list\n",
    "open_list"
   ]
  },
  {
   "cell_type": "code",
   "execution_count": 38,
   "metadata": {},
   "outputs": [
    {
     "name": "stdout",
     "output_type": "stream",
     "text": [
      "(9, 2) False\n",
      "[{'loc': (4, 2), 'cost': 8, 'terrain': 1, 'parent': 'self'}, {'loc': (5, 1), 'cost': 7, 'terrain': 1, 'parent': (4, 2)}, {'loc': (6, 2), 'cost': 6, 'terrain': 1, 'parent': (5, 1)}, {'loc': (7, 3), 'cost': 5, 'terrain': 1, 'parent': (6, 2)}, {'loc': (8, 3), 'cost': 4, 'terrain': 1, 'parent': (7, 3)}, {'loc': (9, 3), 'cost': 3, 'terrain': 1, 'parent': (8, 3)}, {'loc': (10, 2), 'cost': 3, 'terrain': 1, 'parent': (9, 3)}, {'loc': (11, 2), 'cost': 3, 'terrain': 1, 'parent': (10, 2)}, {'loc': (11, 1), 'cost': 4, 'terrain': 1, 'parent': (10, 2)}, {'loc': (10, 1), 'cost': 4, 'terrain': 1, 'parent': (10, 2)}, {'loc': (9, 2), 'cost': 3, 'terrain': 1, 'parent': (8, 3)}]\n"
     ]
    },
    {
     "data": {
      "text/plain": [
       "[{'cost': 9, 'loc': (3, 1), 'parent': (4, 2), 'terrain': 1},\n",
       " {'cost': 9, 'loc': (3, 2), 'parent': (4, 2), 'terrain': 1},\n",
       " {'cost': 8, 'loc': (4, 1), 'parent': (4, 2), 'terrain': 1},\n",
       " {'cost': 6, 'loc': (6, 1), 'parent': (5, 1), 'terrain': 1},\n",
       " {'cost': 6, 'loc': (6, 3), 'parent': (6, 2), 'terrain': 1},\n",
       " {'cost': 5, 'loc': (7, 1), 'parent': (6, 2), 'terrain': 1},\n",
       " {'cost': 5, 'loc': (7, 2), 'parent': (6, 2), 'terrain': 1},\n",
       " {'cost': 5, 'loc': (7, 4), 'parent': (7, 3), 'terrain': 1},\n",
       " {'cost': 4, 'loc': (8, 2), 'parent': (7, 3), 'terrain': 1},\n",
       " {'cost': 4, 'loc': (9, 1), 'parent': (10, 2), 'terrain': 1},\n",
       " {'cost': 4, 'loc': (8, 1), 'parent': (9, 2), 'terrain': 1}]"
      ]
     },
     "execution_count": 38,
     "metadata": {},
     "output_type": "execute_result"
    }
   ],
   "source": [
    "open_list  = sorted(open_list,key=lambda k : k['loc'])\n",
    "curr_spot  = open_list.pop()\n",
    "print curr_spot['loc'], curr_spot['loc'] == man\n",
    "explore_a_spot(curr_spot['loc'])\n",
    "print closed_list\n",
    "open_list"
   ]
  },
  {
   "cell_type": "code",
   "execution_count": 39,
   "metadata": {},
   "outputs": [
    {
     "name": "stdout",
     "output_type": "stream",
     "text": [
      "(9, 1) False\n",
      "[{'loc': (4, 2), 'cost': 8, 'terrain': 1, 'parent': 'self'}, {'loc': (5, 1), 'cost': 7, 'terrain': 1, 'parent': (4, 2)}, {'loc': (6, 2), 'cost': 6, 'terrain': 1, 'parent': (5, 1)}, {'loc': (7, 3), 'cost': 5, 'terrain': 1, 'parent': (6, 2)}, {'loc': (8, 3), 'cost': 4, 'terrain': 1, 'parent': (7, 3)}, {'loc': (9, 3), 'cost': 3, 'terrain': 1, 'parent': (8, 3)}, {'loc': (10, 2), 'cost': 3, 'terrain': 1, 'parent': (9, 3)}, {'loc': (11, 2), 'cost': 3, 'terrain': 1, 'parent': (10, 2)}, {'loc': (11, 1), 'cost': 4, 'terrain': 1, 'parent': (10, 2)}, {'loc': (10, 1), 'cost': 4, 'terrain': 1, 'parent': (10, 2)}, {'loc': (9, 2), 'cost': 3, 'terrain': 1, 'parent': (8, 3)}, {'loc': (9, 1), 'cost': 4, 'terrain': 1, 'parent': (10, 2)}]\n"
     ]
    },
    {
     "data": {
      "text/plain": [
       "[{'cost': 9, 'loc': (3, 1), 'parent': (4, 2), 'terrain': 1},\n",
       " {'cost': 9, 'loc': (3, 2), 'parent': (4, 2), 'terrain': 1},\n",
       " {'cost': 8, 'loc': (4, 1), 'parent': (4, 2), 'terrain': 1},\n",
       " {'cost': 6, 'loc': (6, 1), 'parent': (5, 1), 'terrain': 1},\n",
       " {'cost': 6, 'loc': (6, 3), 'parent': (6, 2), 'terrain': 1},\n",
       " {'cost': 5, 'loc': (7, 1), 'parent': (6, 2), 'terrain': 1},\n",
       " {'cost': 5, 'loc': (7, 2), 'parent': (6, 2), 'terrain': 1},\n",
       " {'cost': 5, 'loc': (7, 4), 'parent': (7, 3), 'terrain': 1},\n",
       " {'cost': 4, 'loc': (8, 1), 'parent': (9, 2), 'terrain': 1},\n",
       " {'cost': 4, 'loc': (8, 2), 'parent': (7, 3), 'terrain': 1}]"
      ]
     },
     "execution_count": 39,
     "metadata": {},
     "output_type": "execute_result"
    }
   ],
   "source": [
    "open_list  = sorted(open_list,key=lambda k : k['loc'])\n",
    "curr_spot  = open_list.pop()\n",
    "print curr_spot['loc'], curr_spot['loc'] == man\n",
    "explore_a_spot(curr_spot['loc'])\n",
    "print closed_list\n",
    "open_list"
   ]
  },
  {
   "cell_type": "code",
   "execution_count": 40,
   "metadata": {},
   "outputs": [
    {
     "name": "stdout",
     "output_type": "stream",
     "text": [
      "(8, 2) False\n",
      "[{'loc': (4, 2), 'cost': 8, 'terrain': 1, 'parent': 'self'}, {'loc': (5, 1), 'cost': 7, 'terrain': 1, 'parent': (4, 2)}, {'loc': (6, 2), 'cost': 6, 'terrain': 1, 'parent': (5, 1)}, {'loc': (7, 3), 'cost': 5, 'terrain': 1, 'parent': (6, 2)}, {'loc': (8, 3), 'cost': 4, 'terrain': 1, 'parent': (7, 3)}, {'loc': (9, 3), 'cost': 3, 'terrain': 1, 'parent': (8, 3)}, {'loc': (10, 2), 'cost': 3, 'terrain': 1, 'parent': (9, 3)}, {'loc': (11, 2), 'cost': 3, 'terrain': 1, 'parent': (10, 2)}, {'loc': (11, 1), 'cost': 4, 'terrain': 1, 'parent': (10, 2)}, {'loc': (10, 1), 'cost': 4, 'terrain': 1, 'parent': (10, 2)}, {'loc': (9, 2), 'cost': 3, 'terrain': 1, 'parent': (8, 3)}, {'loc': (9, 1), 'cost': 4, 'terrain': 1, 'parent': (10, 2)}, {'loc': (8, 2), 'cost': 4, 'terrain': 1, 'parent': (7, 3)}]\n"
     ]
    },
    {
     "data": {
      "text/plain": [
       "[{'cost': 9, 'loc': (3, 1), 'parent': (4, 2), 'terrain': 1},\n",
       " {'cost': 9, 'loc': (3, 2), 'parent': (4, 2), 'terrain': 1},\n",
       " {'cost': 8, 'loc': (4, 1), 'parent': (4, 2), 'terrain': 1},\n",
       " {'cost': 6, 'loc': (6, 1), 'parent': (5, 1), 'terrain': 1},\n",
       " {'cost': 6, 'loc': (6, 3), 'parent': (6, 2), 'terrain': 1},\n",
       " {'cost': 5, 'loc': (7, 1), 'parent': (6, 2), 'terrain': 1},\n",
       " {'cost': 5, 'loc': (7, 2), 'parent': (6, 2), 'terrain': 1},\n",
       " {'cost': 5, 'loc': (7, 4), 'parent': (7, 3), 'terrain': 1},\n",
       " {'cost': 4, 'loc': (8, 1), 'parent': (9, 2), 'terrain': 1}]"
      ]
     },
     "execution_count": 40,
     "metadata": {},
     "output_type": "execute_result"
    }
   ],
   "source": [
    "open_list  = sorted(open_list,key=lambda k : k['loc'])\n",
    "curr_spot  = open_list.pop()\n",
    "print curr_spot['loc'], curr_spot['loc'] == man\n",
    "explore_a_spot(curr_spot['loc'])\n",
    "print closed_list\n",
    "open_list"
   ]
  },
  {
   "cell_type": "code",
   "execution_count": 41,
   "metadata": {},
   "outputs": [
    {
     "name": "stdout",
     "output_type": "stream",
     "text": [
      "(8, 1) False\n",
      "[{'loc': (4, 2), 'cost': 8, 'terrain': 1, 'parent': 'self'}, {'loc': (5, 1), 'cost': 7, 'terrain': 1, 'parent': (4, 2)}, {'loc': (6, 2), 'cost': 6, 'terrain': 1, 'parent': (5, 1)}, {'loc': (7, 3), 'cost': 5, 'terrain': 1, 'parent': (6, 2)}, {'loc': (8, 3), 'cost': 4, 'terrain': 1, 'parent': (7, 3)}, {'loc': (9, 3), 'cost': 3, 'terrain': 1, 'parent': (8, 3)}, {'loc': (10, 2), 'cost': 3, 'terrain': 1, 'parent': (9, 3)}, {'loc': (11, 2), 'cost': 3, 'terrain': 1, 'parent': (10, 2)}, {'loc': (11, 1), 'cost': 4, 'terrain': 1, 'parent': (10, 2)}, {'loc': (10, 1), 'cost': 4, 'terrain': 1, 'parent': (10, 2)}, {'loc': (9, 2), 'cost': 3, 'terrain': 1, 'parent': (8, 3)}, {'loc': (9, 1), 'cost': 4, 'terrain': 1, 'parent': (10, 2)}, {'loc': (8, 2), 'cost': 4, 'terrain': 1, 'parent': (7, 3)}, {'loc': (8, 1), 'cost': 4, 'terrain': 1, 'parent': (9, 2)}]\n"
     ]
    },
    {
     "data": {
      "text/plain": [
       "[{'cost': 9, 'loc': (3, 1), 'parent': (4, 2), 'terrain': 1},\n",
       " {'cost': 9, 'loc': (3, 2), 'parent': (4, 2), 'terrain': 1},\n",
       " {'cost': 8, 'loc': (4, 1), 'parent': (4, 2), 'terrain': 1},\n",
       " {'cost': 6, 'loc': (6, 1), 'parent': (5, 1), 'terrain': 1},\n",
       " {'cost': 6, 'loc': (6, 3), 'parent': (6, 2), 'terrain': 1},\n",
       " {'cost': 5, 'loc': (7, 1), 'parent': (6, 2), 'terrain': 1},\n",
       " {'cost': 5, 'loc': (7, 2), 'parent': (6, 2), 'terrain': 1},\n",
       " {'cost': 5, 'loc': (7, 4), 'parent': (7, 3), 'terrain': 1}]"
      ]
     },
     "execution_count": 41,
     "metadata": {},
     "output_type": "execute_result"
    }
   ],
   "source": [
    "open_list  = sorted(open_list,key=lambda k : k['loc'])\n",
    "curr_spot  = open_list.pop()\n",
    "print curr_spot['loc'], curr_spot['loc'] == man\n",
    "explore_a_spot(curr_spot['loc'])\n",
    "print closed_list\n",
    "open_list"
   ]
  },
  {
   "cell_type": "code",
   "execution_count": 42,
   "metadata": {},
   "outputs": [
    {
     "name": "stdout",
     "output_type": "stream",
     "text": [
      "(7, 4) False\n",
      "[{'loc': (4, 2), 'cost': 8, 'terrain': 1, 'parent': 'self'}, {'loc': (5, 1), 'cost': 7, 'terrain': 1, 'parent': (4, 2)}, {'loc': (6, 2), 'cost': 6, 'terrain': 1, 'parent': (5, 1)}, {'loc': (7, 3), 'cost': 5, 'terrain': 1, 'parent': (6, 2)}, {'loc': (8, 3), 'cost': 4, 'terrain': 1, 'parent': (7, 3)}, {'loc': (9, 3), 'cost': 3, 'terrain': 1, 'parent': (8, 3)}, {'loc': (10, 2), 'cost': 3, 'terrain': 1, 'parent': (9, 3)}, {'loc': (11, 2), 'cost': 3, 'terrain': 1, 'parent': (10, 2)}, {'loc': (11, 1), 'cost': 4, 'terrain': 1, 'parent': (10, 2)}, {'loc': (10, 1), 'cost': 4, 'terrain': 1, 'parent': (10, 2)}, {'loc': (9, 2), 'cost': 3, 'terrain': 1, 'parent': (8, 3)}, {'loc': (9, 1), 'cost': 4, 'terrain': 1, 'parent': (10, 2)}, {'loc': (8, 2), 'cost': 4, 'terrain': 1, 'parent': (7, 3)}, {'loc': (8, 1), 'cost': 4, 'terrain': 1, 'parent': (9, 2)}, {'loc': (7, 4), 'cost': 5, 'terrain': 1, 'parent': (7, 3)}]\n"
     ]
    },
    {
     "data": {
      "text/plain": [
       "[{'cost': 9, 'loc': (3, 1), 'parent': (4, 2), 'terrain': 1},\n",
       " {'cost': 9, 'loc': (3, 2), 'parent': (4, 2), 'terrain': 1},\n",
       " {'cost': 8, 'loc': (4, 1), 'parent': (4, 2), 'terrain': 1},\n",
       " {'cost': 6, 'loc': (6, 1), 'parent': (5, 1), 'terrain': 1},\n",
       " {'cost': 6, 'loc': (6, 3), 'parent': (6, 2), 'terrain': 1},\n",
       " {'cost': 5, 'loc': (7, 1), 'parent': (6, 2), 'terrain': 1},\n",
       " {'cost': 5, 'loc': (7, 2), 'parent': (6, 2), 'terrain': 1},\n",
       " {'cost': 6, 'loc': (6, 5), 'parent': (7, 4), 'terrain': 1}]"
      ]
     },
     "execution_count": 42,
     "metadata": {},
     "output_type": "execute_result"
    }
   ],
   "source": [
    "open_list  = sorted(open_list,key=lambda k : k['loc'])\n",
    "curr_spot  = open_list.pop()\n",
    "print curr_spot['loc'], curr_spot['loc'] == man\n",
    "explore_a_spot(curr_spot['loc'])\n",
    "print closed_list\n",
    "open_list"
   ]
  },
  {
   "cell_type": "code",
   "execution_count": 43,
   "metadata": {},
   "outputs": [
    {
     "name": "stdout",
     "output_type": "stream",
     "text": [
      "(7, 2) False\n",
      "[{'loc': (4, 2), 'cost': 8, 'terrain': 1, 'parent': 'self'}, {'loc': (5, 1), 'cost': 7, 'terrain': 1, 'parent': (4, 2)}, {'loc': (6, 2), 'cost': 6, 'terrain': 1, 'parent': (5, 1)}, {'loc': (7, 3), 'cost': 5, 'terrain': 1, 'parent': (6, 2)}, {'loc': (8, 3), 'cost': 4, 'terrain': 1, 'parent': (7, 3)}, {'loc': (9, 3), 'cost': 3, 'terrain': 1, 'parent': (8, 3)}, {'loc': (10, 2), 'cost': 3, 'terrain': 1, 'parent': (9, 3)}, {'loc': (11, 2), 'cost': 3, 'terrain': 1, 'parent': (10, 2)}, {'loc': (11, 1), 'cost': 4, 'terrain': 1, 'parent': (10, 2)}, {'loc': (10, 1), 'cost': 4, 'terrain': 1, 'parent': (10, 2)}, {'loc': (9, 2), 'cost': 3, 'terrain': 1, 'parent': (8, 3)}, {'loc': (9, 1), 'cost': 4, 'terrain': 1, 'parent': (10, 2)}, {'loc': (8, 2), 'cost': 4, 'terrain': 1, 'parent': (7, 3)}, {'loc': (8, 1), 'cost': 4, 'terrain': 1, 'parent': (9, 2)}, {'loc': (7, 4), 'cost': 5, 'terrain': 1, 'parent': (7, 3)}, {'loc': (7, 2), 'cost': 5, 'terrain': 1, 'parent': (6, 2)}]\n"
     ]
    },
    {
     "data": {
      "text/plain": [
       "[{'cost': 9, 'loc': (3, 1), 'parent': (4, 2), 'terrain': 1},\n",
       " {'cost': 9, 'loc': (3, 2), 'parent': (4, 2), 'terrain': 1},\n",
       " {'cost': 8, 'loc': (4, 1), 'parent': (4, 2), 'terrain': 1},\n",
       " {'cost': 6, 'loc': (6, 1), 'parent': (5, 1), 'terrain': 1},\n",
       " {'cost': 6, 'loc': (6, 3), 'parent': (6, 2), 'terrain': 1},\n",
       " {'cost': 6, 'loc': (6, 5), 'parent': (7, 4), 'terrain': 1},\n",
       " {'cost': 5, 'loc': (7, 1), 'parent': (6, 2), 'terrain': 1}]"
      ]
     },
     "execution_count": 43,
     "metadata": {},
     "output_type": "execute_result"
    }
   ],
   "source": [
    "open_list  = sorted(open_list,key=lambda k : k['loc'])\n",
    "curr_spot  = open_list.pop()\n",
    "print curr_spot['loc'], curr_spot['loc'] == man\n",
    "explore_a_spot(curr_spot['loc'])\n",
    "print closed_list\n",
    "open_list"
   ]
  },
  {
   "cell_type": "code",
   "execution_count": 44,
   "metadata": {},
   "outputs": [
    {
     "name": "stdout",
     "output_type": "stream",
     "text": [
      "(7, 1) False\n",
      "[{'loc': (4, 2), 'cost': 8, 'terrain': 1, 'parent': 'self'}, {'loc': (5, 1), 'cost': 7, 'terrain': 1, 'parent': (4, 2)}, {'loc': (6, 2), 'cost': 6, 'terrain': 1, 'parent': (5, 1)}, {'loc': (7, 3), 'cost': 5, 'terrain': 1, 'parent': (6, 2)}, {'loc': (8, 3), 'cost': 4, 'terrain': 1, 'parent': (7, 3)}, {'loc': (9, 3), 'cost': 3, 'terrain': 1, 'parent': (8, 3)}, {'loc': (10, 2), 'cost': 3, 'terrain': 1, 'parent': (9, 3)}, {'loc': (11, 2), 'cost': 3, 'terrain': 1, 'parent': (10, 2)}, {'loc': (11, 1), 'cost': 4, 'terrain': 1, 'parent': (10, 2)}, {'loc': (10, 1), 'cost': 4, 'terrain': 1, 'parent': (10, 2)}, {'loc': (9, 2), 'cost': 3, 'terrain': 1, 'parent': (8, 3)}, {'loc': (9, 1), 'cost': 4, 'terrain': 1, 'parent': (10, 2)}, {'loc': (8, 2), 'cost': 4, 'terrain': 1, 'parent': (7, 3)}, {'loc': (8, 1), 'cost': 4, 'terrain': 1, 'parent': (9, 2)}, {'loc': (7, 4), 'cost': 5, 'terrain': 1, 'parent': (7, 3)}, {'loc': (7, 2), 'cost': 5, 'terrain': 1, 'parent': (6, 2)}, {'loc': (7, 1), 'cost': 5, 'terrain': 1, 'parent': (6, 2)}]\n"
     ]
    },
    {
     "data": {
      "text/plain": [
       "[{'cost': 9, 'loc': (3, 1), 'parent': (4, 2), 'terrain': 1},\n",
       " {'cost': 9, 'loc': (3, 2), 'parent': (4, 2), 'terrain': 1},\n",
       " {'cost': 8, 'loc': (4, 1), 'parent': (4, 2), 'terrain': 1},\n",
       " {'cost': 6, 'loc': (6, 1), 'parent': (5, 1), 'terrain': 1},\n",
       " {'cost': 6, 'loc': (6, 3), 'parent': (6, 2), 'terrain': 1},\n",
       " {'cost': 6, 'loc': (6, 5), 'parent': (7, 4), 'terrain': 1}]"
      ]
     },
     "execution_count": 44,
     "metadata": {},
     "output_type": "execute_result"
    }
   ],
   "source": [
    "open_list  = sorted(open_list,key=lambda k : k['loc'])\n",
    "curr_spot  = open_list.pop()\n",
    "print curr_spot['loc'], curr_spot['loc'] == man\n",
    "explore_a_spot(curr_spot['loc'])\n",
    "print closed_list\n",
    "open_list"
   ]
  },
  {
   "cell_type": "code",
   "execution_count": 45,
   "metadata": {},
   "outputs": [
    {
     "name": "stdout",
     "output_type": "stream",
     "text": [
      "(6, 5) False\n",
      "[{'loc': (4, 2), 'cost': 8, 'terrain': 1, 'parent': 'self'}, {'loc': (5, 1), 'cost': 7, 'terrain': 1, 'parent': (4, 2)}, {'loc': (6, 2), 'cost': 6, 'terrain': 1, 'parent': (5, 1)}, {'loc': (7, 3), 'cost': 5, 'terrain': 1, 'parent': (6, 2)}, {'loc': (8, 3), 'cost': 4, 'terrain': 1, 'parent': (7, 3)}, {'loc': (9, 3), 'cost': 3, 'terrain': 1, 'parent': (8, 3)}, {'loc': (10, 2), 'cost': 3, 'terrain': 1, 'parent': (9, 3)}, {'loc': (11, 2), 'cost': 3, 'terrain': 1, 'parent': (10, 2)}, {'loc': (11, 1), 'cost': 4, 'terrain': 1, 'parent': (10, 2)}, {'loc': (10, 1), 'cost': 4, 'terrain': 1, 'parent': (10, 2)}, {'loc': (9, 2), 'cost': 3, 'terrain': 1, 'parent': (8, 3)}, {'loc': (9, 1), 'cost': 4, 'terrain': 1, 'parent': (10, 2)}, {'loc': (8, 2), 'cost': 4, 'terrain': 1, 'parent': (7, 3)}, {'loc': (8, 1), 'cost': 4, 'terrain': 1, 'parent': (9, 2)}, {'loc': (7, 4), 'cost': 5, 'terrain': 1, 'parent': (7, 3)}, {'loc': (7, 2), 'cost': 5, 'terrain': 1, 'parent': (6, 2)}, {'loc': (7, 1), 'cost': 5, 'terrain': 1, 'parent': (6, 2)}, {'loc': (6, 5), 'cost': 6, 'terrain': 1, 'parent': (7, 4)}]\n"
     ]
    },
    {
     "data": {
      "text/plain": [
       "[{'cost': 9, 'loc': (3, 1), 'parent': (4, 2), 'terrain': 1},\n",
       " {'cost': 9, 'loc': (3, 2), 'parent': (4, 2), 'terrain': 1},\n",
       " {'cost': 8, 'loc': (4, 1), 'parent': (4, 2), 'terrain': 1},\n",
       " {'cost': 6, 'loc': (6, 1), 'parent': (5, 1), 'terrain': 1},\n",
       " {'cost': 6, 'loc': (6, 3), 'parent': (6, 2), 'terrain': 1},\n",
       " {'cost': 7, 'loc': (5, 4), 'parent': (6, 5), 'terrain': 1},\n",
       " {'cost': 7, 'loc': (5, 5), 'parent': (6, 5), 'terrain': 1},\n",
       " {'cost': 7, 'loc': (5, 6), 'parent': (6, 5), 'terrain': 1},\n",
       " {'cost': 6, 'loc': (6, 6), 'parent': (6, 5), 'terrain': 1},\n",
       " {'cost': 5, 'loc': (7, 6), 'parent': (6, 5), 'terrain': 1}]"
      ]
     },
     "execution_count": 45,
     "metadata": {},
     "output_type": "execute_result"
    }
   ],
   "source": [
    "open_list  = sorted(open_list,key=lambda k : k['loc'])\n",
    "curr_spot  = open_list.pop()\n",
    "print curr_spot['loc'], curr_spot['loc'] == man\n",
    "explore_a_spot(curr_spot['loc'])\n",
    "print closed_list\n",
    "open_list"
   ]
  },
  {
   "cell_type": "code",
   "execution_count": 46,
   "metadata": {},
   "outputs": [
    {
     "name": "stdout",
     "output_type": "stream",
     "text": [
      "(7, 6) False\n",
      "[{'loc': (4, 2), 'cost': 8, 'terrain': 1, 'parent': 'self'}, {'loc': (5, 1), 'cost': 7, 'terrain': 1, 'parent': (4, 2)}, {'loc': (6, 2), 'cost': 6, 'terrain': 1, 'parent': (5, 1)}, {'loc': (7, 3), 'cost': 5, 'terrain': 1, 'parent': (6, 2)}, {'loc': (8, 3), 'cost': 4, 'terrain': 1, 'parent': (7, 3)}, {'loc': (9, 3), 'cost': 3, 'terrain': 1, 'parent': (8, 3)}, {'loc': (10, 2), 'cost': 3, 'terrain': 1, 'parent': (9, 3)}, {'loc': (11, 2), 'cost': 3, 'terrain': 1, 'parent': (10, 2)}, {'loc': (11, 1), 'cost': 4, 'terrain': 1, 'parent': (10, 2)}, {'loc': (10, 1), 'cost': 4, 'terrain': 1, 'parent': (10, 2)}, {'loc': (9, 2), 'cost': 3, 'terrain': 1, 'parent': (8, 3)}, {'loc': (9, 1), 'cost': 4, 'terrain': 1, 'parent': (10, 2)}, {'loc': (8, 2), 'cost': 4, 'terrain': 1, 'parent': (7, 3)}, {'loc': (8, 1), 'cost': 4, 'terrain': 1, 'parent': (9, 2)}, {'loc': (7, 4), 'cost': 5, 'terrain': 1, 'parent': (7, 3)}, {'loc': (7, 2), 'cost': 5, 'terrain': 1, 'parent': (6, 2)}, {'loc': (7, 1), 'cost': 5, 'terrain': 1, 'parent': (6, 2)}, {'loc': (6, 5), 'cost': 6, 'terrain': 1, 'parent': (7, 4)}, {'loc': (7, 6), 'cost': 5, 'terrain': 1, 'parent': (6, 5)}]\n"
     ]
    },
    {
     "data": {
      "text/plain": [
       "[{'cost': 9, 'loc': (3, 1), 'parent': (4, 2), 'terrain': 1},\n",
       " {'cost': 9, 'loc': (3, 2), 'parent': (4, 2), 'terrain': 1},\n",
       " {'cost': 8, 'loc': (4, 1), 'parent': (4, 2), 'terrain': 1},\n",
       " {'cost': 7, 'loc': (5, 4), 'parent': (6, 5), 'terrain': 1},\n",
       " {'cost': 7, 'loc': (5, 5), 'parent': (6, 5), 'terrain': 1},\n",
       " {'cost': 7, 'loc': (5, 6), 'parent': (6, 5), 'terrain': 1},\n",
       " {'cost': 6, 'loc': (6, 1), 'parent': (5, 1), 'terrain': 1},\n",
       " {'cost': 6, 'loc': (6, 3), 'parent': (6, 2), 'terrain': 1},\n",
       " {'cost': 6, 'loc': (6, 6), 'parent': (6, 5), 'terrain': 1},\n",
       " {'cost': 4, 'loc': (8, 6), 'parent': (7, 6), 'terrain': 1}]"
      ]
     },
     "execution_count": 46,
     "metadata": {},
     "output_type": "execute_result"
    }
   ],
   "source": [
    "open_list  = sorted(open_list,key=lambda k : k['loc'])\n",
    "curr_spot  = open_list.pop()\n",
    "print curr_spot['loc'], curr_spot['loc'] == man\n",
    "explore_a_spot(curr_spot['loc'])\n",
    "print closed_list\n",
    "open_list"
   ]
  },
  {
   "cell_type": "code",
   "execution_count": 47,
   "metadata": {},
   "outputs": [
    {
     "name": "stdout",
     "output_type": "stream",
     "text": [
      "(8, 6) False\n",
      "[{'loc': (4, 2), 'cost': 8, 'terrain': 1, 'parent': 'self'}, {'loc': (5, 1), 'cost': 7, 'terrain': 1, 'parent': (4, 2)}, {'loc': (6, 2), 'cost': 6, 'terrain': 1, 'parent': (5, 1)}, {'loc': (7, 3), 'cost': 5, 'terrain': 1, 'parent': (6, 2)}, {'loc': (8, 3), 'cost': 4, 'terrain': 1, 'parent': (7, 3)}, {'loc': (9, 3), 'cost': 3, 'terrain': 1, 'parent': (8, 3)}, {'loc': (10, 2), 'cost': 3, 'terrain': 1, 'parent': (9, 3)}, {'loc': (11, 2), 'cost': 3, 'terrain': 1, 'parent': (10, 2)}, {'loc': (11, 1), 'cost': 4, 'terrain': 1, 'parent': (10, 2)}, {'loc': (10, 1), 'cost': 4, 'terrain': 1, 'parent': (10, 2)}, {'loc': (9, 2), 'cost': 3, 'terrain': 1, 'parent': (8, 3)}, {'loc': (9, 1), 'cost': 4, 'terrain': 1, 'parent': (10, 2)}, {'loc': (8, 2), 'cost': 4, 'terrain': 1, 'parent': (7, 3)}, {'loc': (8, 1), 'cost': 4, 'terrain': 1, 'parent': (9, 2)}, {'loc': (7, 4), 'cost': 5, 'terrain': 1, 'parent': (7, 3)}, {'loc': (7, 2), 'cost': 5, 'terrain': 1, 'parent': (6, 2)}, {'loc': (7, 1), 'cost': 5, 'terrain': 1, 'parent': (6, 2)}, {'loc': (6, 5), 'cost': 6, 'terrain': 1, 'parent': (7, 4)}, {'loc': (7, 6), 'cost': 5, 'terrain': 1, 'parent': (6, 5)}, {'loc': (8, 6), 'cost': 4, 'terrain': 1, 'parent': (7, 6)}]\n"
     ]
    },
    {
     "data": {
      "text/plain": [
       "[{'cost': 9, 'loc': (3, 1), 'parent': (4, 2), 'terrain': 1},\n",
       " {'cost': 9, 'loc': (3, 2), 'parent': (4, 2), 'terrain': 1},\n",
       " {'cost': 8, 'loc': (4, 1), 'parent': (4, 2), 'terrain': 1},\n",
       " {'cost': 7, 'loc': (5, 4), 'parent': (6, 5), 'terrain': 1},\n",
       " {'cost': 7, 'loc': (5, 5), 'parent': (6, 5), 'terrain': 1},\n",
       " {'cost': 7, 'loc': (5, 6), 'parent': (6, 5), 'terrain': 1},\n",
       " {'cost': 6, 'loc': (6, 1), 'parent': (5, 1), 'terrain': 1},\n",
       " {'cost': 6, 'loc': (6, 3), 'parent': (6, 2), 'terrain': 1},\n",
       " {'cost': 6, 'loc': (6, 6), 'parent': (6, 5), 'terrain': 1},\n",
       " {'cost': 3, 'loc': (9, 5), 'parent': (8, 6), 'terrain': 1},\n",
       " {'cost': 3, 'loc': (9, 6), 'parent': (8, 6), 'terrain': 1}]"
      ]
     },
     "execution_count": 47,
     "metadata": {},
     "output_type": "execute_result"
    }
   ],
   "source": [
    "open_list  = sorted(open_list,key=lambda k : k['loc'])\n",
    "curr_spot  = open_list.pop()\n",
    "print curr_spot['loc'], curr_spot['loc'] == man\n",
    "explore_a_spot(curr_spot['loc'])\n",
    "print closed_list\n",
    "open_list"
   ]
  },
  {
   "cell_type": "code",
   "execution_count": 48,
   "metadata": {},
   "outputs": [
    {
     "name": "stdout",
     "output_type": "stream",
     "text": [
      "(9, 6) False\n",
      "[{'loc': (4, 2), 'cost': 8, 'terrain': 1, 'parent': 'self'}, {'loc': (5, 1), 'cost': 7, 'terrain': 1, 'parent': (4, 2)}, {'loc': (6, 2), 'cost': 6, 'terrain': 1, 'parent': (5, 1)}, {'loc': (7, 3), 'cost': 5, 'terrain': 1, 'parent': (6, 2)}, {'loc': (8, 3), 'cost': 4, 'terrain': 1, 'parent': (7, 3)}, {'loc': (9, 3), 'cost': 3, 'terrain': 1, 'parent': (8, 3)}, {'loc': (10, 2), 'cost': 3, 'terrain': 1, 'parent': (9, 3)}, {'loc': (11, 2), 'cost': 3, 'terrain': 1, 'parent': (10, 2)}, {'loc': (11, 1), 'cost': 4, 'terrain': 1, 'parent': (10, 2)}, {'loc': (10, 1), 'cost': 4, 'terrain': 1, 'parent': (10, 2)}, {'loc': (9, 2), 'cost': 3, 'terrain': 1, 'parent': (8, 3)}, {'loc': (9, 1), 'cost': 4, 'terrain': 1, 'parent': (10, 2)}, {'loc': (8, 2), 'cost': 4, 'terrain': 1, 'parent': (7, 3)}, {'loc': (8, 1), 'cost': 4, 'terrain': 1, 'parent': (9, 2)}, {'loc': (7, 4), 'cost': 5, 'terrain': 1, 'parent': (7, 3)}, {'loc': (7, 2), 'cost': 5, 'terrain': 1, 'parent': (6, 2)}, {'loc': (7, 1), 'cost': 5, 'terrain': 1, 'parent': (6, 2)}, {'loc': (6, 5), 'cost': 6, 'terrain': 1, 'parent': (7, 4)}, {'loc': (7, 6), 'cost': 5, 'terrain': 1, 'parent': (6, 5)}, {'loc': (8, 6), 'cost': 4, 'terrain': 1, 'parent': (7, 6)}, {'loc': (9, 6), 'cost': 3, 'terrain': 1, 'parent': (8, 6)}]\n"
     ]
    },
    {
     "data": {
      "text/plain": [
       "[{'cost': 9, 'loc': (3, 1), 'parent': (4, 2), 'terrain': 1},\n",
       " {'cost': 9, 'loc': (3, 2), 'parent': (4, 2), 'terrain': 1},\n",
       " {'cost': 8, 'loc': (4, 1), 'parent': (4, 2), 'terrain': 1},\n",
       " {'cost': 7, 'loc': (5, 4), 'parent': (6, 5), 'terrain': 1},\n",
       " {'cost': 7, 'loc': (5, 5), 'parent': (6, 5), 'terrain': 1},\n",
       " {'cost': 7, 'loc': (5, 6), 'parent': (6, 5), 'terrain': 1},\n",
       " {'cost': 6, 'loc': (6, 1), 'parent': (5, 1), 'terrain': 1},\n",
       " {'cost': 6, 'loc': (6, 3), 'parent': (6, 2), 'terrain': 1},\n",
       " {'cost': 6, 'loc': (6, 6), 'parent': (6, 5), 'terrain': 1},\n",
       " {'cost': 3, 'loc': (9, 5), 'parent': (8, 6), 'terrain': 1},\n",
       " {'cost': 2, 'loc': (10, 5), 'parent': (9, 6), 'terrain': 1},\n",
       " {'cost': 3, 'loc': (10, 6), 'parent': (9, 6), 'terrain': 1}]"
      ]
     },
     "execution_count": 48,
     "metadata": {},
     "output_type": "execute_result"
    }
   ],
   "source": [
    "open_list  = sorted(open_list,key=lambda k : k['loc'])\n",
    "curr_spot  = open_list.pop()\n",
    "print curr_spot['loc'], curr_spot['loc'] == man\n",
    "explore_a_spot(curr_spot['loc'])\n",
    "print closed_list\n",
    "open_list"
   ]
  },
  {
   "cell_type": "code",
   "execution_count": 49,
   "metadata": {},
   "outputs": [
    {
     "name": "stdout",
     "output_type": "stream",
     "text": [
      "(10, 6) False\n",
      "[{'loc': (4, 2), 'cost': 8, 'terrain': 1, 'parent': 'self'}, {'loc': (5, 1), 'cost': 7, 'terrain': 1, 'parent': (4, 2)}, {'loc': (6, 2), 'cost': 6, 'terrain': 1, 'parent': (5, 1)}, {'loc': (7, 3), 'cost': 5, 'terrain': 1, 'parent': (6, 2)}, {'loc': (8, 3), 'cost': 4, 'terrain': 1, 'parent': (7, 3)}, {'loc': (9, 3), 'cost': 3, 'terrain': 1, 'parent': (8, 3)}, {'loc': (10, 2), 'cost': 3, 'terrain': 1, 'parent': (9, 3)}, {'loc': (11, 2), 'cost': 3, 'terrain': 1, 'parent': (10, 2)}, {'loc': (11, 1), 'cost': 4, 'terrain': 1, 'parent': (10, 2)}, {'loc': (10, 1), 'cost': 4, 'terrain': 1, 'parent': (10, 2)}, {'loc': (9, 2), 'cost': 3, 'terrain': 1, 'parent': (8, 3)}, {'loc': (9, 1), 'cost': 4, 'terrain': 1, 'parent': (10, 2)}, {'loc': (8, 2), 'cost': 4, 'terrain': 1, 'parent': (7, 3)}, {'loc': (8, 1), 'cost': 4, 'terrain': 1, 'parent': (9, 2)}, {'loc': (7, 4), 'cost': 5, 'terrain': 1, 'parent': (7, 3)}, {'loc': (7, 2), 'cost': 5, 'terrain': 1, 'parent': (6, 2)}, {'loc': (7, 1), 'cost': 5, 'terrain': 1, 'parent': (6, 2)}, {'loc': (6, 5), 'cost': 6, 'terrain': 1, 'parent': (7, 4)}, {'loc': (7, 6), 'cost': 5, 'terrain': 1, 'parent': (6, 5)}, {'loc': (8, 6), 'cost': 4, 'terrain': 1, 'parent': (7, 6)}, {'loc': (9, 6), 'cost': 3, 'terrain': 1, 'parent': (8, 6)}, {'loc': (10, 6), 'cost': 3, 'terrain': 1, 'parent': (9, 6)}]\n"
     ]
    },
    {
     "data": {
      "text/plain": [
       "[{'cost': 9, 'loc': (3, 1), 'parent': (4, 2), 'terrain': 1},\n",
       " {'cost': 9, 'loc': (3, 2), 'parent': (4, 2), 'terrain': 1},\n",
       " {'cost': 8, 'loc': (4, 1), 'parent': (4, 2), 'terrain': 1},\n",
       " {'cost': 7, 'loc': (5, 4), 'parent': (6, 5), 'terrain': 1},\n",
       " {'cost': 7, 'loc': (5, 5), 'parent': (6, 5), 'terrain': 1},\n",
       " {'cost': 7, 'loc': (5, 6), 'parent': (6, 5), 'terrain': 1},\n",
       " {'cost': 6, 'loc': (6, 1), 'parent': (5, 1), 'terrain': 1},\n",
       " {'cost': 6, 'loc': (6, 3), 'parent': (6, 2), 'terrain': 1},\n",
       " {'cost': 6, 'loc': (6, 6), 'parent': (6, 5), 'terrain': 1},\n",
       " {'cost': 3, 'loc': (9, 5), 'parent': (8, 6), 'terrain': 1},\n",
       " {'cost': 2, 'loc': (10, 5), 'parent': (9, 6), 'terrain': 1},\n",
       " {'cost': 2, 'loc': (11, 5), 'parent': (10, 6), 'terrain': 1},\n",
       " {'cost': 3, 'loc': (11, 6), 'parent': (10, 6), 'terrain': 1}]"
      ]
     },
     "execution_count": 49,
     "metadata": {},
     "output_type": "execute_result"
    }
   ],
   "source": [
    "open_list  = sorted(open_list,key=lambda k : k['loc'])\n",
    "curr_spot  = open_list.pop()\n",
    "print curr_spot['loc'], curr_spot['loc'] == man\n",
    "explore_a_spot(curr_spot['loc'])\n",
    "print closed_list\n",
    "open_list"
   ]
  },
  {
   "cell_type": "code",
   "execution_count": 50,
   "metadata": {},
   "outputs": [
    {
     "name": "stdout",
     "output_type": "stream",
     "text": [
      "(11, 6) False\n",
      "[{'loc': (4, 2), 'cost': 8, 'terrain': 1, 'parent': 'self'}, {'loc': (5, 1), 'cost': 7, 'terrain': 1, 'parent': (4, 2)}, {'loc': (6, 2), 'cost': 6, 'terrain': 1, 'parent': (5, 1)}, {'loc': (7, 3), 'cost': 5, 'terrain': 1, 'parent': (6, 2)}, {'loc': (8, 3), 'cost': 4, 'terrain': 1, 'parent': (7, 3)}, {'loc': (9, 3), 'cost': 3, 'terrain': 1, 'parent': (8, 3)}, {'loc': (10, 2), 'cost': 3, 'terrain': 1, 'parent': (9, 3)}, {'loc': (11, 2), 'cost': 3, 'terrain': 1, 'parent': (10, 2)}, {'loc': (11, 1), 'cost': 4, 'terrain': 1, 'parent': (10, 2)}, {'loc': (10, 1), 'cost': 4, 'terrain': 1, 'parent': (10, 2)}, {'loc': (9, 2), 'cost': 3, 'terrain': 1, 'parent': (8, 3)}, {'loc': (9, 1), 'cost': 4, 'terrain': 1, 'parent': (10, 2)}, {'loc': (8, 2), 'cost': 4, 'terrain': 1, 'parent': (7, 3)}, {'loc': (8, 1), 'cost': 4, 'terrain': 1, 'parent': (9, 2)}, {'loc': (7, 4), 'cost': 5, 'terrain': 1, 'parent': (7, 3)}, {'loc': (7, 2), 'cost': 5, 'terrain': 1, 'parent': (6, 2)}, {'loc': (7, 1), 'cost': 5, 'terrain': 1, 'parent': (6, 2)}, {'loc': (6, 5), 'cost': 6, 'terrain': 1, 'parent': (7, 4)}, {'loc': (7, 6), 'cost': 5, 'terrain': 1, 'parent': (6, 5)}, {'loc': (8, 6), 'cost': 4, 'terrain': 1, 'parent': (7, 6)}, {'loc': (9, 6), 'cost': 3, 'terrain': 1, 'parent': (8, 6)}, {'loc': (10, 6), 'cost': 3, 'terrain': 1, 'parent': (9, 6)}, {'loc': (11, 6), 'cost': 3, 'terrain': 1, 'parent': (10, 6)}]\n"
     ]
    },
    {
     "data": {
      "text/plain": [
       "[{'cost': 9, 'loc': (3, 1), 'parent': (4, 2), 'terrain': 1},\n",
       " {'cost': 9, 'loc': (3, 2), 'parent': (4, 2), 'terrain': 1},\n",
       " {'cost': 8, 'loc': (4, 1), 'parent': (4, 2), 'terrain': 1},\n",
       " {'cost': 7, 'loc': (5, 4), 'parent': (6, 5), 'terrain': 1},\n",
       " {'cost': 7, 'loc': (5, 5), 'parent': (6, 5), 'terrain': 1},\n",
       " {'cost': 7, 'loc': (5, 6), 'parent': (6, 5), 'terrain': 1},\n",
       " {'cost': 6, 'loc': (6, 1), 'parent': (5, 1), 'terrain': 1},\n",
       " {'cost': 6, 'loc': (6, 3), 'parent': (6, 2), 'terrain': 1},\n",
       " {'cost': 6, 'loc': (6, 6), 'parent': (6, 5), 'terrain': 1},\n",
       " {'cost': 3, 'loc': (9, 5), 'parent': (8, 6), 'terrain': 1},\n",
       " {'cost': 2, 'loc': (10, 5), 'parent': (9, 6), 'terrain': 1},\n",
       " {'cost': 2, 'loc': (11, 5), 'parent': (10, 6), 'terrain': 1}]"
      ]
     },
     "execution_count": 50,
     "metadata": {},
     "output_type": "execute_result"
    }
   ],
   "source": [
    "open_list  = sorted(open_list,key=lambda k : k['loc'])\n",
    "curr_spot  = open_list.pop()\n",
    "print curr_spot['loc'], curr_spot['loc'] == man\n",
    "explore_a_spot(curr_spot['loc'])\n",
    "print closed_list\n",
    "open_list"
   ]
  },
  {
   "cell_type": "code",
   "execution_count": 51,
   "metadata": {},
   "outputs": [
    {
     "name": "stdout",
     "output_type": "stream",
     "text": [
      "(11, 5) False\n",
      "[{'loc': (4, 2), 'cost': 8, 'terrain': 1, 'parent': 'self'}, {'loc': (5, 1), 'cost': 7, 'terrain': 1, 'parent': (4, 2)}, {'loc': (6, 2), 'cost': 6, 'terrain': 1, 'parent': (5, 1)}, {'loc': (7, 3), 'cost': 5, 'terrain': 1, 'parent': (6, 2)}, {'loc': (8, 3), 'cost': 4, 'terrain': 1, 'parent': (7, 3)}, {'loc': (9, 3), 'cost': 3, 'terrain': 1, 'parent': (8, 3)}, {'loc': (10, 2), 'cost': 3, 'terrain': 1, 'parent': (9, 3)}, {'loc': (11, 2), 'cost': 3, 'terrain': 1, 'parent': (10, 2)}, {'loc': (11, 1), 'cost': 4, 'terrain': 1, 'parent': (10, 2)}, {'loc': (10, 1), 'cost': 4, 'terrain': 1, 'parent': (10, 2)}, {'loc': (9, 2), 'cost': 3, 'terrain': 1, 'parent': (8, 3)}, {'loc': (9, 1), 'cost': 4, 'terrain': 1, 'parent': (10, 2)}, {'loc': (8, 2), 'cost': 4, 'terrain': 1, 'parent': (7, 3)}, {'loc': (8, 1), 'cost': 4, 'terrain': 1, 'parent': (9, 2)}, {'loc': (7, 4), 'cost': 5, 'terrain': 1, 'parent': (7, 3)}, {'loc': (7, 2), 'cost': 5, 'terrain': 1, 'parent': (6, 2)}, {'loc': (7, 1), 'cost': 5, 'terrain': 1, 'parent': (6, 2)}, {'loc': (6, 5), 'cost': 6, 'terrain': 1, 'parent': (7, 4)}, {'loc': (7, 6), 'cost': 5, 'terrain': 1, 'parent': (6, 5)}, {'loc': (8, 6), 'cost': 4, 'terrain': 1, 'parent': (7, 6)}, {'loc': (9, 6), 'cost': 3, 'terrain': 1, 'parent': (8, 6)}, {'loc': (10, 6), 'cost': 3, 'terrain': 1, 'parent': (9, 6)}, {'loc': (11, 6), 'cost': 3, 'terrain': 1, 'parent': (10, 6)}, {'loc': (11, 5), 'cost': 2, 'terrain': 1, 'parent': (10, 6)}]\n"
     ]
    },
    {
     "data": {
      "text/plain": [
       "[{'cost': 9, 'loc': (3, 1), 'parent': (4, 2), 'terrain': 1},\n",
       " {'cost': 9, 'loc': (3, 2), 'parent': (4, 2), 'terrain': 1},\n",
       " {'cost': 8, 'loc': (4, 1), 'parent': (4, 2), 'terrain': 1},\n",
       " {'cost': 7, 'loc': (5, 4), 'parent': (6, 5), 'terrain': 1},\n",
       " {'cost': 7, 'loc': (5, 5), 'parent': (6, 5), 'terrain': 1},\n",
       " {'cost': 7, 'loc': (5, 6), 'parent': (6, 5), 'terrain': 1},\n",
       " {'cost': 6, 'loc': (6, 1), 'parent': (5, 1), 'terrain': 1},\n",
       " {'cost': 6, 'loc': (6, 3), 'parent': (6, 2), 'terrain': 1},\n",
       " {'cost': 6, 'loc': (6, 6), 'parent': (6, 5), 'terrain': 1},\n",
       " {'cost': 3, 'loc': (9, 5), 'parent': (8, 6), 'terrain': 1},\n",
       " {'cost': 2, 'loc': (10, 5), 'parent': (9, 6), 'terrain': 1},\n",
       " {'cost': 1, 'loc': (11, 4), 'parent': (11, 5), 'terrain': 1}]"
      ]
     },
     "execution_count": 51,
     "metadata": {},
     "output_type": "execute_result"
    }
   ],
   "source": [
    "open_list  = sorted(open_list,key=lambda k : k['loc'])\n",
    "curr_spot  = open_list.pop()\n",
    "print curr_spot['loc'], curr_spot['loc'] == man\n",
    "explore_a_spot(curr_spot['loc'])\n",
    "print closed_list\n",
    "open_list"
   ]
  },
  {
   "cell_type": "code",
   "execution_count": 53,
   "metadata": {},
   "outputs": [
    {
     "name": "stdout",
     "output_type": "stream",
     "text": [
      "(11, 4) True\n",
      "[{'loc': (4, 2), 'cost': 8, 'terrain': 1, 'parent': 'self'}, {'loc': (5, 1), 'cost': 7, 'terrain': 1, 'parent': (4, 2)}, {'loc': (6, 2), 'cost': 6, 'terrain': 1, 'parent': (5, 1)}, {'loc': (7, 3), 'cost': 5, 'terrain': 1, 'parent': (6, 2)}, {'loc': (8, 3), 'cost': 4, 'terrain': 1, 'parent': (7, 3)}, {'loc': (9, 3), 'cost': 3, 'terrain': 1, 'parent': (8, 3)}, {'loc': (10, 2), 'cost': 3, 'terrain': 1, 'parent': (9, 3)}, {'loc': (11, 2), 'cost': 3, 'terrain': 1, 'parent': (10, 2)}, {'loc': (11, 1), 'cost': 4, 'terrain': 1, 'parent': (10, 2)}, {'loc': (10, 1), 'cost': 4, 'terrain': 1, 'parent': (10, 2)}, {'loc': (9, 2), 'cost': 3, 'terrain': 1, 'parent': (8, 3)}, {'loc': (9, 1), 'cost': 4, 'terrain': 1, 'parent': (10, 2)}, {'loc': (8, 2), 'cost': 4, 'terrain': 1, 'parent': (7, 3)}, {'loc': (8, 1), 'cost': 4, 'terrain': 1, 'parent': (9, 2)}, {'loc': (7, 4), 'cost': 5, 'terrain': 1, 'parent': (7, 3)}, {'loc': (7, 2), 'cost': 5, 'terrain': 1, 'parent': (6, 2)}, {'loc': (7, 1), 'cost': 5, 'terrain': 1, 'parent': (6, 2)}, {'loc': (6, 5), 'cost': 6, 'terrain': 1, 'parent': (7, 4)}, {'loc': (7, 6), 'cost': 5, 'terrain': 1, 'parent': (6, 5)}, {'loc': (8, 6), 'cost': 4, 'terrain': 1, 'parent': (7, 6)}, {'loc': (9, 6), 'cost': 3, 'terrain': 1, 'parent': (8, 6)}, {'loc': (10, 6), 'cost': 3, 'terrain': 1, 'parent': (9, 6)}, {'loc': (11, 6), 'cost': 3, 'terrain': 1, 'parent': (10, 6)}, {'loc': (11, 5), 'cost': 2, 'terrain': 1, 'parent': (10, 6)}, {'loc': (11, 4), 'cost': 1, 'terrain': 1, 'parent': (11, 5)}]\n"
     ]
    },
    {
     "data": {
      "text/plain": [
       "[{'cost': 9, 'loc': (3, 1), 'parent': (4, 2), 'terrain': 1},\n",
       " {'cost': 9, 'loc': (3, 2), 'parent': (4, 2), 'terrain': 1},\n",
       " {'cost': 8, 'loc': (4, 1), 'parent': (4, 2), 'terrain': 1},\n",
       " {'cost': 7, 'loc': (5, 4), 'parent': (6, 5), 'terrain': 1},\n",
       " {'cost': 7, 'loc': (5, 5), 'parent': (6, 5), 'terrain': 1},\n",
       " {'cost': 7, 'loc': (5, 6), 'parent': (6, 5), 'terrain': 1},\n",
       " {'cost': 6, 'loc': (6, 1), 'parent': (5, 1), 'terrain': 1},\n",
       " {'cost': 6, 'loc': (6, 3), 'parent': (6, 2), 'terrain': 1},\n",
       " {'cost': 6, 'loc': (6, 6), 'parent': (6, 5), 'terrain': 1},\n",
       " {'cost': 3, 'loc': (9, 5), 'parent': (8, 6), 'terrain': 1},\n",
       " {'cost': 2, 'loc': (10, 5), 'parent': (9, 6), 'terrain': 1}]"
      ]
     },
     "execution_count": 53,
     "metadata": {},
     "output_type": "execute_result"
    }
   ],
   "source": [
    "open_list  = sorted(open_list,key=lambda k : k['loc'])\n",
    "curr_spot  = open_list.pop()\n",
    "print curr_spot['loc'], curr_spot['loc'] == man\n",
    "explore_a_spot(curr_spot['loc'])\n",
    "print closed_list\n",
    "open_list"
   ]
  },
  {
   "cell_type": "code",
   "execution_count": 54,
   "metadata": {},
   "outputs": [
    {
     "data": {
      "text/plain": [
       "[{'cost': 8, 'loc': (4, 2), 'parent': 'self', 'terrain': 1},\n",
       " {'cost': 7, 'loc': (5, 1), 'parent': (4, 2), 'terrain': 1},\n",
       " {'cost': 6, 'loc': (6, 2), 'parent': (5, 1), 'terrain': 1},\n",
       " {'cost': 5, 'loc': (7, 3), 'parent': (6, 2), 'terrain': 1},\n",
       " {'cost': 4, 'loc': (8, 3), 'parent': (7, 3), 'terrain': 1},\n",
       " {'cost': 3, 'loc': (9, 3), 'parent': (8, 3), 'terrain': 1},\n",
       " {'cost': 3, 'loc': (10, 2), 'parent': (9, 3), 'terrain': 1},\n",
       " {'cost': 3, 'loc': (11, 2), 'parent': (10, 2), 'terrain': 1},\n",
       " {'cost': 4, 'loc': (11, 1), 'parent': (10, 2), 'terrain': 1},\n",
       " {'cost': 4, 'loc': (10, 1), 'parent': (10, 2), 'terrain': 1},\n",
       " {'cost': 3, 'loc': (9, 2), 'parent': (8, 3), 'terrain': 1},\n",
       " {'cost': 4, 'loc': (9, 1), 'parent': (10, 2), 'terrain': 1},\n",
       " {'cost': 4, 'loc': (8, 2), 'parent': (7, 3), 'terrain': 1},\n",
       " {'cost': 4, 'loc': (8, 1), 'parent': (9, 2), 'terrain': 1},\n",
       " {'cost': 5, 'loc': (7, 4), 'parent': (7, 3), 'terrain': 1},\n",
       " {'cost': 5, 'loc': (7, 2), 'parent': (6, 2), 'terrain': 1},\n",
       " {'cost': 5, 'loc': (7, 1), 'parent': (6, 2), 'terrain': 1},\n",
       " {'cost': 6, 'loc': (6, 5), 'parent': (7, 4), 'terrain': 1},\n",
       " {'cost': 5, 'loc': (7, 6), 'parent': (6, 5), 'terrain': 1},\n",
       " {'cost': 4, 'loc': (8, 6), 'parent': (7, 6), 'terrain': 1},\n",
       " {'cost': 3, 'loc': (9, 6), 'parent': (8, 6), 'terrain': 1},\n",
       " {'cost': 3, 'loc': (10, 6), 'parent': (9, 6), 'terrain': 1},\n",
       " {'cost': 3, 'loc': (11, 6), 'parent': (10, 6), 'terrain': 1},\n",
       " {'cost': 2, 'loc': (11, 5), 'parent': (10, 6), 'terrain': 1},\n",
       " {'cost': 1, 'loc': (11, 4), 'parent': (11, 5), 'terrain': 1}]"
      ]
     },
     "execution_count": 54,
     "metadata": {},
     "output_type": "execute_result"
    }
   ],
   "source": [
    "closed_list"
   ]
  },
  {
   "cell_type": "code",
   "execution_count": 55,
   "metadata": {},
   "outputs": [
    {
     "name": "stdout",
     "output_type": "stream",
     "text": [
      "(11, 5)\n",
      "(10, 6)\n",
      "(9, 6)\n",
      "(8, 6)\n",
      "(7, 6)\n",
      "(6, 5)\n",
      "(7, 4)\n",
      "(7, 3)\n",
      "(6, 2)\n",
      "(5, 1)\n",
      "(4, 2)\n",
      "self\n"
     ]
    }
   ],
   "source": [
    "my_path = construct_path(closed_list,snake,man)"
   ]
  },
  {
   "cell_type": "code",
   "execution_count": null,
   "metadata": {},
   "outputs": [],
   "source": []
  }
 ],
 "metadata": {
  "kernelspec": {
   "display_name": "Python [conda env:Anaconda2]",
   "language": "python",
   "name": "conda-env-Anaconda2-py"
  },
  "language_info": {
   "codemirror_mode": {
    "name": "ipython",
    "version": 2
   },
   "file_extension": ".py",
   "mimetype": "text/x-python",
   "name": "python",
   "nbconvert_exporter": "python",
   "pygments_lexer": "ipython2",
   "version": "2.7.14"
  }
 },
 "nbformat": 4,
 "nbformat_minor": 2
}
